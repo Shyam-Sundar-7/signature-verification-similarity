{
 "cells": [
  {
   "cell_type": "code",
   "execution_count": 2,
   "metadata": {},
   "outputs": [],
   "source": [
    "import torch\n",
    "\n",
    "import torch.nn as nn\n",
    "import torch.nn.functional as F\n",
    "\n",
    "class ImageSimilarityModel(nn.Module):\n",
    "    def __init__(self):\n",
    "        super(ImageSimilarityModel, self).__init__()\n",
    "        self.cnn = nn.Sequential(\n",
    "            nn.Conv2d(3, 8, kernel_size=3, stride=1, padding=1),\n",
    "            nn.ReLU(),\n",
    "            nn.MaxPool2d(2),\n",
    "            nn.Conv2d(8, 16, kernel_size=3, stride=1, padding=1),\n",
    "            nn.ReLU(),\n",
    "            nn.MaxPool2d(2),\n",
    "            nn.Conv2d(16,32, kernel_size=3, stride=1, padding=1),\n",
    "            nn.ReLU(),\n",
    "            nn.MaxPool2d(2)\n",
    "        )\n",
    "        # Setting up the Fully Connected Layers\n",
    "        # Define the fully connected layers\n",
    "        self.fc = nn.Sequential(\n",
    "            nn.Linear(32*32*32, 512)\n",
    "        )\n",
    "        self.mha = nn.MultiheadAttention(embed_dim=512, num_heads=2)\n",
    "        self.final=nn.Sequential(nn.Linear(512,1),nn.Sigmoid())\n",
    "        self.w1=nn.Linear(1000,1000)\n",
    "        self.w2=nn.Linear(1000,1000)\n",
    "        self.w3=nn.Linear(1000,1000)\n",
    "    \n",
    "    def forward_once(self, x):\n",
    "        # This function will be called for both images\n",
    "        # It's output is used to determine the similiarity\n",
    "        output = self.cnn(x)\n",
    "        output = output.view(output.size()[0], -1)\n",
    "        output = self.fc(output)\n",
    "        return output\n",
    "\n",
    "    def forward(self, input1, input2):\n",
    "    # Pass the inputs through the pre-trained ResNet18 model to get 512-dimensional embeddings\n",
    "        query = self.forward_once(input1)\n",
    "        key = self.forward_once(input2)\n",
    "        print(key.shape)\n",
    "        # query=self.w1(query)\n",
    "        # value=self.w3(key)\n",
    "        # key=self.w2(key)\n",
    "\n",
    "        # Pass the query, key, and value through the Multi-Head Attention layer to get the similarity score\n",
    "        attn_output, attn_output_weights = self.mha(query, key, key)\n",
    "\n",
    "        attn_output = self.final(attn_output)\n",
    "\n",
    "        similarity_score = attn_output.squeeze(1)\n",
    "        return similarity_score"
   ]
  },
  {
   "cell_type": "code",
   "execution_count": 2,
   "metadata": {},
   "outputs": [
    {
     "name": "stdout",
     "output_type": "stream",
     "text": [
      "torch.Size([1000, 512])\n"
     ]
    },
    {
     "data": {
      "text/plain": [
       "torch.Size([1000])"
      ]
     },
     "execution_count": 2,
     "metadata": {},
     "output_type": "execute_result"
    }
   ],
   "source": [
    "a=torch.rand(1000,3,256,256)\n",
    "b=torch.rand(1000,3,256,256)\n",
    "model=ImageSimilarityModel()\n",
    "model(a,b).shape"
   ]
  },
  {
   "cell_type": "code",
   "execution_count": null,
   "metadata": {},
   "outputs": [],
   "source": []
  },
  {
   "cell_type": "code",
   "execution_count": null,
   "metadata": {},
   "outputs": [],
   "source": []
  },
  {
   "cell_type": "code",
   "execution_count": null,
   "metadata": {},
   "outputs": [],
   "source": []
  },
  {
   "cell_type": "code",
   "execution_count": null,
   "metadata": {},
   "outputs": [],
   "source": []
  },
  {
   "cell_type": "code",
   "execution_count": null,
   "metadata": {},
   "outputs": [],
   "source": []
  },
  {
   "cell_type": "code",
   "execution_count": 28,
   "metadata": {},
   "outputs": [],
   "source": [
    "import torch\n",
    "import numpy as np\n",
    "import torch.nn as nn\n",
    "from img2vec_pytorch import Img2Vec\n",
    "import torch.nn.functional as F\n",
    "from torchmetrics.functional.pairwise import pairwise_euclidean_distance\n",
    "import torchmetrics\n",
    "import lightning as l\n",
    "from torch.utils.data import Dataset\n",
    "from torch.utils.data import DataLoader\n",
    "import cv2\n",
    "from PIL import Image\n",
    "import pandas as pd\n",
    "class CustomDataset(Dataset):\n",
    "    def __init__(self, csv_file, transform=None):\n",
    "        self.data = pd.read_csv(csv_file)[:4000]\n",
    "        self.transform = transform\n",
    "        self.extract=Img2Vec()\n",
    "\n",
    "    def __len__(self):\n",
    "        return len(self.data)\n",
    "    \n",
    "    def __getitem__(self, idx):\n",
    "        img_name1 = self.data.iloc[idx, 0]\n",
    "        img_name2 = self.data.iloc[idx, 1]\n",
    "\n",
    "        image1 = Image.open(img_name1).convert(\"RGB\")\n",
    "        image2 = Image.open(img_name2).convert(\"RGB\")\n",
    "\n",
    "        # Applying Canny edge detection using OpenCV\n",
    "        image_cv1 = cv2.cvtColor(np.array(image1), cv2.COLOR_RGB2BGR)\n",
    "        edges1 = cv2.Canny(image_cv1, 100, 200)\n",
    "        image_cv2 = cv2.cvtColor(np.array(image2), cv2.COLOR_RGB2BGR)\n",
    "        edges2 = cv2.Canny(image_cv2, 100, 200)\n",
    "\n",
    "        # Convert images to RGB\n",
    "        image1 = Image.fromarray(cv2.cvtColor(edges1, cv2.COLOR_GRAY2RGB))\n",
    "        image2 = Image.fromarray(cv2.cvtColor(edges2, cv2.COLOR_GRAY2RGB))\n",
    "\n",
    "        extracted_features1 =self.extract.get_vec(image1)\n",
    "        extracted_features2 =self.extract.get_vec(image2)\n",
    "        extracted_features1=torch.from_numpy(extracted_features1)\n",
    "        extracted_features2=torch.from_numpy(extracted_features2)\n",
    "        print(extracted_features1.shape,extracted_features2.shape)\n",
    "        print(extracted_features1.dtype,extracted_features2.dtype)\n",
    "\n",
    "        if self.transform:\n",
    "            image1 = self.transform(image1)\n",
    "            image2 = self.transform(image2)\n",
    "\n",
    "        label = int(self.data.iloc[idx, -1])\n",
    "\n",
    "        return extracted_features1, extracted_features1, label\n",
    "\n",
    "class CustomDataModule1(l.LightningDataModule):\n",
    "    def __init__(self,  transform=None, batch_size=64):\n",
    "        super().__init__()\n",
    "        self.transform = transform\n",
    "        self.batch_size = batch_size\n",
    "\n",
    "    def setup(self, stage=None):\n",
    "        self.train_dataset = CustomDataset(\"data/CEDAR_train.csv\", transform=self.transform)\n",
    "        self.val_dataset = CustomDataset(\"data/CEDAR_val.csv\", transform=self.transform)\n",
    "        self.test_dataset = CustomDataset(\"data/CEDAR_test.csv\", transform=self.transform)\n",
    "        \n",
    "\n",
    "    def train_dataloader(self):\n",
    "        return DataLoader(self.train_dataset, batch_size=self.batch_size, shuffle=True,num_workers=7)\n",
    "\n",
    "    def val_dataloader(self):\n",
    "        return DataLoader(self.val_dataset, batch_size=self.batch_size, shuffle=False,num_workers=7)\n",
    "    \n",
    "    def test_dataloader(self):\n",
    "        return DataLoader(self.test_dataset, batch_size=self.batch_size, shuffle=False,num_workers=7)\n",
    "\n",
    "class LightningModel1(l.LightningModule):\n",
    "    def __init__(self, model, learning_rate):\n",
    "        super().__init__()\n",
    "\n",
    "        self.learning_rate = learning_rate\n",
    "        self.model = model\n",
    "\n",
    "        # Save settings and hyperparameters to the log directory\n",
    "        # but skip the model parameters\n",
    "        self.save_hyperparameters(ignore=['model'])\n",
    "\n",
    "        self.train_acc = torchmetrics.Accuracy(task=\"binary\")\n",
    "        self.val_acc = torchmetrics.Accuracy(task=\"binary\")\n",
    "        # self.val_auc=torchmetrics.ROC(task=\"binary\")\n",
    "        self.val_recall=torchmetrics.Recall(task=\"binary\")\n",
    "        self.val_precision=torchmetrics.Precision(task=\"binary\")\n",
    "        # self.test_auc=torchmetrics.ROC(task=\"binary\")\n",
    "        self.test_acc = torchmetrics.Accuracy(task=\"binary\")\n",
    "        self.test_recall=torchmetrics.Recall(task=\"binary\")\n",
    "        self.test_precision=torchmetrics.Precision(task=\"binary\")\n",
    "\n",
    "    def forward(self, x,y):\n",
    "        return self.model(x,y)\n",
    "\n",
    "    def _shared_step(self, batch):\n",
    "        input,original, true_labels = batch\n",
    "        logits= self(input,original)\n",
    "        loss = F.binary_cross_entropy(logits, true_labels.float())\n",
    "        predicted_labels = (logits > 0.5).float()\n",
    "        # print(true_labels.shape,predicted_labels.shape)\n",
    "        return loss, true_labels, predicted_labels\n",
    "\n",
    "    def training_step(self, batch, batch_idx):\n",
    "        loss, true_labels, predicted_labels = self._shared_step(batch)\n",
    "\n",
    "        self.log(\"train_loss\", loss)\n",
    "        self.train_acc(predicted_labels, true_labels)\n",
    "        self.log(\n",
    "            \"train_acc\", self.train_acc, prog_bar=True, on_epoch=True, on_step= True\n",
    "        )\n",
    "        return loss\n",
    "\n",
    "    def validation_step(self, batch, batch_idx):\n",
    "        loss, true_labels, predicted_labels = self._shared_step(batch)\n",
    "\n",
    "        self.log(\"val_loss\", loss, prog_bar=True,on_step=True)\n",
    "        self.val_acc(predicted_labels, true_labels)\n",
    "        self.log(\"val_acc\", self.val_acc, prog_bar=True,on_step=True)\n",
    "        self.val_recall(predicted_labels, true_labels)\n",
    "        self.log(\"val_recall\", self.val_recall, prog_bar=True,on_step=True)\n",
    "        self.val_precision(predicted_labels, true_labels)\n",
    "        self.log(\"val_precision\", self.val_precision, prog_bar=True,on_step=True)\n",
    "\n",
    "    def test_step(self, batch, batch_idx):\n",
    "        _, true_labels, predicted_labels = self._shared_step(batch)\n",
    "        self.test_acc(predicted_labels, true_labels)\n",
    "        self.log(\"test_acc\", self.test_acc)\n",
    "        self.test_recall(predicted_labels, true_labels)\n",
    "        self.log(\"test_recall\", self.test_recall)\n",
    "        self.test_precision(predicted_labels, true_labels)\n",
    "        self.log(\"test_precision\", self.test_precision)\n",
    "    \n",
    "\n",
    "    def configure_optimizers(self):\n",
    "        optimizer = torch.optim.Adam(self.parameters(), lr=self.learning_rate)\n",
    "        return optimizer"
   ]
  },
  {
   "cell_type": "code",
   "execution_count": 29,
   "metadata": {},
   "outputs": [
    {
     "name": "stderr",
     "output_type": "stream",
     "text": [
      "c:\\Users\\ASUS\\Desktop\\signature verification similarity\\.venv\\Lib\\site-packages\\torchvision\\models\\_utils.py:208: UserWarning: The parameter 'pretrained' is deprecated since 0.13 and may be removed in the future, please use 'weights' instead.\n",
      "  warnings.warn(\n",
      "c:\\Users\\ASUS\\Desktop\\signature verification similarity\\.venv\\Lib\\site-packages\\torchvision\\models\\_utils.py:223: UserWarning: Arguments other than a weight enum or `None` for 'weights' are deprecated since 0.13 and may be removed in the future. The current behavior is equivalent to passing `weights=ResNet18_Weights.IMAGENET1K_V1`. You can also use `weights=ResNet18_Weights.DEFAULT` to get the most up-to-date weights.\n",
      "  warnings.warn(msg)\n"
     ]
    }
   ],
   "source": [
    "import torchvision.transforms as transforms\n",
    "transform = transforms.Compose([\n",
    "transforms.Resize((256, 256)),\n",
    "transforms.ToTensor()])\n",
    "m=CustomDataset(\"data/CEDAR_train.csv\")"
   ]
  },
  {
   "cell_type": "code",
   "execution_count": 30,
   "metadata": {},
   "outputs": [
    {
     "name": "stdout",
     "output_type": "stream",
     "text": [
      "torch.Size([512]) torch.Size([512])\n",
      "torch.float32 torch.float32\n"
     ]
    }
   ],
   "source": [
    "i,j,k=m[0]"
   ]
  },
  {
   "cell_type": "code",
   "execution_count": 31,
   "metadata": {},
   "outputs": [
    {
     "data": {
      "text/plain": [
       "torch.Size([512])"
      ]
     },
     "execution_count": 31,
     "metadata": {},
     "output_type": "execute_result"
    }
   ],
   "source": [
    "i.shape"
   ]
  },
  {
   "cell_type": "code",
   "execution_count": 32,
   "metadata": {},
   "outputs": [
    {
     "data": {
      "text/plain": [
       "0"
      ]
     },
     "execution_count": 32,
     "metadata": {},
     "output_type": "execute_result"
    }
   ],
   "source": [
    "k"
   ]
  },
  {
   "cell_type": "code",
   "execution_count": 10,
   "metadata": {},
   "outputs": [
    {
     "data": {
      "image/png": "[encoded data removed]",
      "text/plain": [
       "<Figure size 640x480 with 1 Axes>"
      ]
     },
     "metadata": {},
     "output_type": "display_data"
    }
   ],
   "source": [
    "import matplotlib.pyplot as plt\n",
    "import torchvision\n",
    "\n",
    "\n",
    "# Display the image using matplotlib\n",
    "plt.imshow(i[0])\n",
    "\n",
    "plt.axis('off')  # Turn off axis\n",
    "plt.show()\n"
   ]
  },
  {
   "cell_type": "code",
   "execution_count": 11,
   "metadata": {},
   "outputs": [
    {
     "data": {
      "image/png": "[encoded data removed]",
      "text/plain": [
       "<Figure size 640x480 with 1 Axes>"
      ]
     },
     "metadata": {},
     "output_type": "display_data"
    }
   ],
   "source": [
    "plt.imshow(j[0])\n",
    "plt.axis('off')  # Turn off axis\n",
    "plt.show()"
   ]
  },
  {
   "cell_type": "code",
   "execution_count": null,
   "metadata": {},
   "outputs": [],
   "source": []
  },
  {
   "cell_type": "code",
   "execution_count": 4,
   "metadata": {},
   "outputs": [
    {
     "name": "stderr",
     "output_type": "stream",
     "text": [
      "GPU available: False, used: False\n",
      "TPU available: False, using: 0 TPU cores\n",
      "IPU available: False, using: 0 IPUs\n",
      "HPU available: False, using: 0 HPUs\n",
      "c:\\Users\\ASUS\\Desktop\\signature verification similarity\\.venv\\Lib\\site-packages\\lightning\\pytorch\\callbacks\\model_checkpoint.py:653: Checkpoint directory C:\\Users\\ASUS\\Desktop\\signature verification similarity\\models exists and is not empty.\n",
      "\n",
      "  | Name           | Type                 | Params\n",
      "--------------------------------------------------------\n",
      "0 | model          | ImageSimilarityModel | 20.8 M\n",
      "1 | train_acc      | BinaryAccuracy       | 0     \n",
      "2 | val_acc        | BinaryAccuracy       | 0     \n",
      "3 | val_recall     | BinaryRecall         | 0     \n",
      "4 | val_precision  | BinaryPrecision      | 0     \n",
      "5 | test_acc       | BinaryAccuracy       | 0     \n",
      "6 | test_recall    | BinaryRecall         | 0     \n",
      "7 | test_precision | BinaryPrecision      | 0     \n",
      "--------------------------------------------------------\n",
      "20.8 M    Trainable params\n",
      "0         Non-trainable params\n",
      "20.8 M    Total params\n",
      "83.352    Total estimated model params size (MB)\n"
     ]
    },
    {
     "name": "stdout",
     "output_type": "stream",
     "text": [
      "Sanity Checking: |          | 0/? [00:00<?, ?it/s]"
     ]
    },
    {
     "name": "stderr",
     "output_type": "stream",
     "text": [
      "c:\\Users\\ASUS\\Desktop\\signature verification similarity\\.venv\\Lib\\site-packages\\lightning\\pytorch\\trainer\\connectors\\data_connector.py:436: Consider setting `persistent_workers=True` in 'val_dataloader' to speed up the dataloader worker initialization.\n"
     ]
    }
   ],
   "source": [
    "import lightning as l\n",
    "import torch\n",
    "from lightning.pytorch.callbacks import ModelCheckpoint\n",
    "from lightning.pytorch.callbacks.early_stopping import EarlyStopping\n",
    "from lightning.pytorch.loggers import CSVLogger\n",
    "from torchvision import transforms\n",
    "\n",
    "torch.manual_seed(123)\n",
    "\n",
    "transform = transforms.Compose([\n",
    "transforms.Resize((256, 256)),\n",
    "transforms.ToTensor(),\n",
    "transforms.Lambda(lambda img: img / 255.0)])\n",
    "\n",
    "dm = CustomDataModule1(batch_size=64,transform=transform)\n",
    "\n",
    "pytorch_model = ImageSimilarityModel()\n",
    "\n",
    "lightning_model = LightningModel1(model=pytorch_model, learning_rate=0.00005)\n",
    "\n",
    "\n",
    "checkpoint_callback = ModelCheckpoint(\n",
    "    dirpath=\"./models\",filename=\"best_model1\",\n",
    "    save_top_k=1,monitor=\"val_loss\", mode=\"min\"\n",
    ")\n",
    "early_stopping_callback = EarlyStopping(\n",
    "    monitor=\"val_acc\", patience=3, verbose=True, mode=\"max\"\n",
    ")\n",
    "\n",
    "trainer = l.Trainer(callbacks=[checkpoint_callback,early_stopping_callback],\n",
    "    max_epochs=6,\n",
    "    logger=CSVLogger(save_dir=\"logs/\", name=\"model1_logs\"),\n",
    "    accelerator=\"cpu\",\n",
    "    devices=\"auto\",\n",
    ")\n",
    "\n",
    "trainer.fit(model=lightning_model, datamodule=dm)\n"
   ]
  },
  {
   "cell_type": "code",
   "execution_count": null,
   "metadata": {},
   "outputs": [],
   "source": []
  },
  {
   "cell_type": "code",
   "execution_count": null,
   "metadata": {},
   "outputs": [],
   "source": []
  }
 ],
 "metadata": {
  "kernelspec": {
   "display_name": ".venv",
   "language": "python",
   "name": "python3"
  },
  "language_info": {
   "codemirror_mode": {
    "name": "ipython",
    "version": 3
   },
   "file_extension": ".py",
   "mimetype": "text/x-python",
   "name": "python",
   "nbconvert_exporter": "python",
   "pygments_lexer": "ipython3",
   "version": "3.12.2"
  }
 },
 "nbformat": 4,
 "nbformat_minor": 2
}
