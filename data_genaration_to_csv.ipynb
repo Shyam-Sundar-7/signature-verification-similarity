{
 "cells": [
  {
   "cell_type": "code",
   "execution_count": null,
   "metadata": {},
   "outputs": [],
   "source": [
    "import glob\n",
    "\n",
    "#read one folder\n",
    "files = glob.glob('BHSig260-Hindi\\\\1\\\\*.tif')"
   ]
  },
  {
   "cell_type": "code",
   "execution_count": null,
   "metadata": {},
   "outputs": [],
   "source": [
    "files"
   ]
  },
  {
   "cell_type": "code",
   "execution_count": null,
   "metadata": {},
   "outputs": [],
   "source": [
    "from itertools import combinations\n",
    "\n",
    "combinations_list = list(combinations(files, 2))\n",
    "\n",
    "# Print each combination\n",
    "print(combinations_list)"
   ]
  },
  {
   "cell_type": "code",
   "execution_count": null,
   "metadata": {},
   "outputs": [],
   "source": [
    "#one value of combination\n",
    "x,y=combinations_list[0]"
   ]
  },
  {
   "cell_type": "code",
   "execution_count": null,
   "metadata": {},
   "outputs": [],
   "source": [
    "label1=0 if \"F\" in  x.split(\"\\\\\")[-1].split(\".\")[0] else 1\n",
    "label2=0 if \"F\" in  y.split(\"\\\\\")[-1].split(\".\")[0] else 1\n",
    "label=label1*label2"
   ]
  },
  {
   "cell_type": "code",
   "execution_count": null,
   "metadata": {},
   "outputs": [],
   "source": [
    "x,y"
   ]
  },
  {
   "cell_type": "code",
   "execution_count": null,
   "metadata": {},
   "outputs": [],
   "source": [
    "label"
   ]
  },
  {
   "cell_type": "markdown",
   "metadata": {},
   "source": [
    "# general function"
   ]
  },
  {
   "cell_type": "code",
   "execution_count": null,
   "metadata": {},
   "outputs": [],
   "source": [
    "import pandas as pd\n",
    "import glob\n",
    "from itertools import combinations\n",
    "\n",
    "def files_to_csv(file_name, n, file_type):\n",
    "    image1 = []\n",
    "    image2 = []\n",
    "    label = []\n",
    "    labels1=[]\n",
    "    labels2=[]\n",
    "    \n",
    "    for i in range(1, n+1):\n",
    "        files = glob.glob(f'{file_name}\\\\{i}\\\\*.{file_type}')\n",
    "        pairs = list(combinations(files, 2))\n",
    "        \n",
    "        for combo in pairs:\n",
    "            label1 = 0 if \"F\" in  combo[0].split(\"\\\\\")[-1].split(\".\")[0]  else 1\n",
    "            label2 = 0 if \"F\" in combo[1].split(\"\\\\\")[-1].split(\".\")[0]  else 1\n",
    "            label.append(label1 * label2)\n",
    "            image1.append(combo[0])\n",
    "            labels1.append(label1)\n",
    "            labels2.append(label2)\n",
    "            image2.append(combo[1])\n",
    "    \n",
    "    # Create the DataFrame\n",
    "    df = pd.DataFrame(list(zip(image1, image2, labels1,labels2,label)), columns=['Testing_Signature', 'Original_Signature','Label1','Label2', 'Ouput'])\n",
    "    #remove all the rows where label2 is 0\n",
    "    df=df[df.Label2!=0]\n",
    "    df.to_csv(f\"{file_name}_extracted.csv\",index=False)"
   ]
  },
  {
   "cell_type": "code",
   "execution_count": null,
   "metadata": {},
   "outputs": [],
   "source": [
    "files_to_csv(\"BHSig260-Hindi\",160,\"tif\")"
   ]
  },
  {
   "cell_type": "code",
   "execution_count": null,
   "metadata": {},
   "outputs": [],
   "source": [
    "df=pd.read_csv(\"BHSig260-Hindi_extracted.csv\")"
   ]
  },
  {
   "cell_type": "code",
   "execution_count": null,
   "metadata": {},
   "outputs": [],
   "source": [
    "import pandas as pd\n",
    "import glob\n",
    "from itertools import combinations\n",
    "\n",
    "def cedar_files_to_csv(n, file_type):\n",
    "    image1 = []\n",
    "    image2 = []\n",
    "    label = []\n",
    "    labels1=[]\n",
    "    labels2=[]\n",
    "    \n",
    "    for i in range(1, n+1):\n",
    "        files = glob.glob(f'CEDAR\\\\{i}\\\\*.{file_type}')\n",
    "        pairs = list(combinations(files, 2))\n",
    "        \n",
    "        for combo in pairs:\n",
    "            # print(combo[0].split(\"\\\\\")[-1][0])\n",
    "            label1 = 0 if \"f\" ==  combo[0].split(\"\\\\\")[-1][0]  else 1\n",
    "            label2 = 0 if \"f\" == combo[1].split(\"\\\\\")[-1][0]  else 1\n",
    "            labels1.append(label1)\n",
    "            labels2.append(label2)\n",
    "            label.append(label1 * label2)\n",
    "            image1.append(combo[0])\n",
    "            image2.append(combo[1])\n",
    "    \n",
    "    # Create the DataFrame\n",
    "    df = pd.DataFrame(list(zip(image1, image2, labels1,labels2,label)),  columns=['Testing_Signature', 'Original_Signature','Label1','Label2', 'Ouput'])\n",
    "    df=df[df.Label2!=0]\n",
    "    df.to_csv(f\"CEDAR_extracted.csv\",index=False)"
   ]
  },
  {
   "cell_type": "code",
   "execution_count": null,
   "metadata": {},
   "outputs": [],
   "source": [
    "cedar_files_to_csv(55,\"png\")"
   ]
  },
  {
   "cell_type": "code",
   "execution_count": null,
   "metadata": {},
   "outputs": [],
   "source": [
    "df1=pd.read_csv(\"CEDAR_extracted.csv\")"
   ]
  },
  {
   "cell_type": "code",
   "execution_count": null,
   "metadata": {},
   "outputs": [],
   "source": [
    "df1.head()"
   ]
  },
  {
   "cell_type": "code",
   "execution_count": null,
   "metadata": {},
   "outputs": [],
   "source": [
    "#remove all the rows where label2 is 0\n",
    "df1=df1[df1.Label2!=0]"
   ]
  },
  {
   "cell_type": "code",
   "execution_count": null,
   "metadata": {},
   "outputs": [],
   "source": [
    "df1.head()"
   ]
  },
  {
   "cell_type": "code",
   "execution_count": null,
   "metadata": {},
   "outputs": [],
   "source": [
    "#train test split\n",
    "from sklearn.model_selection import train_test_split\n",
    "\n",
    "X_train, X_test, y_train, y_test = train_test_split(df1[['Testing_Signature', 'Original_Signature']], df1['Ouput'], test_size=0.2, random_state=42,\n",
    "                                                    shuffle=True, stratify=df1['Ouput'])"
   ]
  },
  {
   "cell_type": "code",
   "execution_count": null,
   "metadata": {},
   "outputs": [],
   "source": [
    "train=pd.DataFrame(list(zip(X_train['Testing_Signature'],X_train['Original_Signature'],y_train)),  columns=['Testing_Signature', 'Original_Signature', 'Ouput'])\n",
    "test=pd.DataFrame(list(zip(X_test['Testing_Signature'],X_test['Original_Signature'],y_test)),  columns=['Testing_Signature', 'Original_Signature', 'Ouput'])\n",
    "train.to_csv(\"CEDAR_train.csv\",index=False)\n",
    "test.to_csv(\"CEDAR_test.csv\",index=False)"
   ]
  },
  {
   "cell_type": "code",
   "execution_count": null,
   "metadata": {},
   "outputs": [],
   "source": [
    "from torchvision import transforms\n",
    "from model import CustomDataset\n",
    "transform = transforms.Compose([\n",
    "    transforms.Resize((256, 256)),\n",
    "    transforms.ToTensor()])\n",
    "\n",
    "# Create an instance of the CustomDataset\n",
    "dataset = CustomDataset('CEDAR_extracted.csv',transform=transform)\n"
   ]
  },
  {
   "cell_type": "code",
   "execution_count": null,
   "metadata": {},
   "outputs": [],
   "source": [
    "from model import CustomDataModule\n",
    "dm = CustomDataModule('CEDAR_train.csv',transform=transform)\n",
    "dm.setup()\n",
    "\n",
    "# Get the training data loader\n",
    "train_loader = dm.train_dataloader()\n",
    "\n",
    "# Iterate over the batches and print the data\n",
    "for batch_idx, (data1, data2, label) in enumerate(train_loader):\n",
    "    print(f\"Batch {batch_idx + 1}:\")\n",
    "    print(\"Data 1:\")\n",
    "    print(data1.shape)\n",
    "    print(\"Data 2:\")\n",
    "    print(data2.shape)\n",
    "    print(\"Label:\")\n",
    "    print(label)\n",
    "    break"
   ]
  },
  {
   "cell_type": "code",
   "execution_count": null,
   "metadata": {},
   "outputs": [],
   "source": [
    "import lightning as l\n",
    "import torch\n",
    "from model import SiameseNetwork,LightningModel\n",
    "torch.manual_seed(123)\n",
    "dm = CustomDataModule('CEDAR_train.csv',batch_size=64,transform=transform)\n",
    "\n",
    "pytorch_model = SiameseNetwork()\n",
    "\n",
    "lightning_model = LightningModel(model=pytorch_model, learning_rate=0.05)\n",
    "\n",
    "trainer = l.Trainer(\n",
    "    max_epochs=15,\n",
    "    accelerator=\"cpu\",\n",
    "    devices=\"auto\",\n",
    "    deterministic=True,\n",
    ")\n",
    "\n",
    "trainer.fit(model=lightning_model, datamodule=dm)"
   ]
  },
  {
   "cell_type": "code",
   "execution_count": null,
   "metadata": {},
   "outputs": [],
   "source": [
    "pytorch_model"
   ]
  }
 ],
 "metadata": {
  "kernelspec": {
   "display_name": "Python 3",
   "language": "python",
   "name": "python3"
  },
  "language_info": {
   "codemirror_mode": {
    "name": "ipython",
    "version": 3
   },
   "file_extension": ".py",
   "mimetype": "text/x-python",
   "name": "python",
   "nbconvert_exporter": "python",
   "pygments_lexer": "ipython3",
   "version": "3.12.2"
  }
 },
 "nbformat": 4,
 "nbformat_minor": 2
}
