{
 "cells": [
  {
   "cell_type": "code",
   "execution_count": 1,
   "metadata": {},
   "outputs": [
    {
     "name": "stderr",
     "output_type": "stream",
     "text": [
      "'unzip' is not recognized as an internal or external command,\n",
      "operable program or batch file.\n"
     ]
    }
   ],
   "source": [
    "!unzip CEDAR.zip"
   ]
  },
  {
   "cell_type": "code",
   "execution_count": 2,
   "metadata": {},
   "outputs": [],
   "source": [
    "import glob\n",
    "\n",
    "#read one folder\n",
    "files = glob.glob('BHSig260-Hindi/1/*.tif')"
   ]
  },
  {
   "cell_type": "code",
   "execution_count": 3,
   "metadata": {},
   "outputs": [],
   "source": [
    "import glob\n",
    "\n",
    "#read one folder\n",
    "files = glob.glob('CEDAR/1/*.png')"
   ]
  },
  {
   "cell_type": "code",
   "execution_count": 4,
   "metadata": {},
   "outputs": [
    {
     "data": {
      "text/plain": [
       "['CEDAR/1\\\\forgeries_1_1.png',\n",
       " 'CEDAR/1\\\\forgeries_1_10.png',\n",
       " 'CEDAR/1\\\\forgeries_1_11.png',\n",
       " 'CEDAR/1\\\\forgeries_1_12.png',\n",
       " 'CEDAR/1\\\\forgeries_1_13.png',\n",
       " 'CEDAR/1\\\\forgeries_1_14.png',\n",
       " 'CEDAR/1\\\\forgeries_1_15.png',\n",
       " 'CEDAR/1\\\\forgeries_1_16.png',\n",
       " 'CEDAR/1\\\\forgeries_1_17.png',\n",
       " 'CEDAR/1\\\\forgeries_1_18.png',\n",
       " 'CEDAR/1\\\\forgeries_1_19.png',\n",
       " 'CEDAR/1\\\\forgeries_1_2.png',\n",
       " 'CEDAR/1\\\\forgeries_1_20.png',\n",
       " 'CEDAR/1\\\\forgeries_1_21.png',\n",
       " 'CEDAR/1\\\\forgeries_1_22.png',\n",
       " 'CEDAR/1\\\\forgeries_1_23.png',\n",
       " 'CEDAR/1\\\\forgeries_1_24.png',\n",
       " 'CEDAR/1\\\\forgeries_1_3.png',\n",
       " 'CEDAR/1\\\\forgeries_1_4.png',\n",
       " 'CEDAR/1\\\\forgeries_1_5.png',\n",
       " 'CEDAR/1\\\\forgeries_1_6.png',\n",
       " 'CEDAR/1\\\\forgeries_1_7.png',\n",
       " 'CEDAR/1\\\\forgeries_1_8.png',\n",
       " 'CEDAR/1\\\\forgeries_1_9.png',\n",
       " 'CEDAR/1\\\\original_1_1.png',\n",
       " 'CEDAR/1\\\\original_1_10.png',\n",
       " 'CEDAR/1\\\\original_1_11.png',\n",
       " 'CEDAR/1\\\\original_1_12.png',\n",
       " 'CEDAR/1\\\\original_1_13.png',\n",
       " 'CEDAR/1\\\\original_1_14.png',\n",
       " 'CEDAR/1\\\\original_1_15.png',\n",
       " 'CEDAR/1\\\\original_1_16.png',\n",
       " 'CEDAR/1\\\\original_1_17.png',\n",
       " 'CEDAR/1\\\\original_1_18.png',\n",
       " 'CEDAR/1\\\\original_1_19.png',\n",
       " 'CEDAR/1\\\\original_1_2.png',\n",
       " 'CEDAR/1\\\\original_1_20.png',\n",
       " 'CEDAR/1\\\\original_1_21.png',\n",
       " 'CEDAR/1\\\\original_1_22.png',\n",
       " 'CEDAR/1\\\\original_1_23.png',\n",
       " 'CEDAR/1\\\\original_1_24.png',\n",
       " 'CEDAR/1\\\\original_1_3.png',\n",
       " 'CEDAR/1\\\\original_1_4.png',\n",
       " 'CEDAR/1\\\\original_1_5.png',\n",
       " 'CEDAR/1\\\\original_1_6.png',\n",
       " 'CEDAR/1\\\\original_1_7.png',\n",
       " 'CEDAR/1\\\\original_1_8.png',\n",
       " 'CEDAR/1\\\\original_1_9.png']"
      ]
     },
     "execution_count": 4,
     "metadata": {},
     "output_type": "execute_result"
    }
   ],
   "source": [
    "files"
   ]
  },
  {
   "cell_type": "code",
   "execution_count": 5,
   "metadata": {},
   "outputs": [
    {
     "name": "stdout",
     "output_type": "stream",
     "text": [
      "[('CEDAR/1\\\\forgeries_1_1.png', 'CEDAR/1\\\\forgeries_1_10.png'), ('CEDAR/1\\\\forgeries_1_1.png', 'CEDAR/1\\\\forgeries_1_11.png'), ('CEDAR/1\\\\forgeries_1_1.png', 'CEDAR/1\\\\forgeries_1_12.png'), ('CEDAR/1\\\\forgeries_1_1.png', 'CEDAR/1\\\\forgeries_1_13.png'), ('CEDAR/1\\\\forgeries_1_1.png', 'CEDAR/1\\\\forgeries_1_14.png'), ('CEDAR/1\\\\forgeries_1_1.png', 'CEDAR/1\\\\forgeries_1_15.png'), ('CEDAR/1\\\\forgeries_1_1.png', 'CEDAR/1\\\\forgeries_1_16.png'), ('CEDAR/1\\\\forgeries_1_1.png', 'CEDAR/1\\\\forgeries_1_17.png'), ('CEDAR/1\\\\forgeries_1_1.png', 'CEDAR/1\\\\forgeries_1_18.png'), ('CEDAR/1\\\\forgeries_1_1.png', 'CEDAR/1\\\\forgeries_1_19.png'), ('CEDAR/1\\\\forgeries_1_1.png', 'CEDAR/1\\\\forgeries_1_2.png'), ('CEDAR/1\\\\forgeries_1_1.png', 'CEDAR/1\\\\forgeries_1_20.png'), ('CEDAR/1\\\\forgeries_1_1.png', 'CEDAR/1\\\\forgeries_1_21.png'), ('CEDAR/1\\\\forgeries_1_1.png', 'CEDAR/1\\\\forgeries_1_22.png'), ('CEDAR/1\\\\forgeries_1_1.png', 'CEDAR/1\\\\forgeries_1_23.png'), ('CEDAR/1\\\\forgeries_1_1.png', 'CEDAR/1\\\\forgeries_1_24.png'), ('CEDAR/1\\\\forgeries_1_1.png', 'CEDAR/1\\\\forgeries_1_3.png'), ('CEDAR/1\\\\forgeries_1_1.png', 'CEDAR/1\\\\forgeries_1_4.png'), ('CEDAR/1\\\\forgeries_1_1.png', 'CEDAR/1\\\\forgeries_1_5.png'), ('CEDAR/1\\\\forgeries_1_1.png', 'CEDAR/1\\\\forgeries_1_6.png'), ('CEDAR/1\\\\forgeries_1_1.png', 'CEDAR/1\\\\forgeries_1_7.png'), ('CEDAR/1\\\\forgeries_1_1.png', 'CEDAR/1\\\\forgeries_1_8.png'), ('CEDAR/1\\\\forgeries_1_1.png', 'CEDAR/1\\\\forgeries_1_9.png'), ('CEDAR/1\\\\forgeries_1_1.png', 'CEDAR/1\\\\original_1_1.png'), ('CEDAR/1\\\\forgeries_1_1.png', 'CEDAR/1\\\\original_1_10.png'), ('CEDAR/1\\\\forgeries_1_1.png', 'CEDAR/1\\\\original_1_11.png'), ('CEDAR/1\\\\forgeries_1_1.png', 'CEDAR/1\\\\original_1_12.png'), ('CEDAR/1\\\\forgeries_1_1.png', 'CEDAR/1\\\\original_1_13.png'), ('CEDAR/1\\\\forgeries_1_1.png', 'CEDAR/1\\\\original_1_14.png'), ('CEDAR/1\\\\forgeries_1_1.png', 'CEDAR/1\\\\original_1_15.png'), ('CEDAR/1\\\\forgeries_1_1.png', 'CEDAR/1\\\\original_1_16.png'), ('CEDAR/1\\\\forgeries_1_1.png', 'CEDAR/1\\\\original_1_17.png'), ('CEDAR/1\\\\forgeries_1_1.png', 'CEDAR/1\\\\original_1_18.png'), ('CEDAR/1\\\\forgeries_1_1.png', 'CEDAR/1\\\\original_1_19.png'), ('CEDAR/1\\\\forgeries_1_1.png', 'CEDAR/1\\\\original_1_2.png'), ('CEDAR/1\\\\forgeries_1_1.png', 'CEDAR/1\\\\original_1_20.png'), ('CEDAR/1\\\\forgeries_1_1.png', 'CEDAR/1\\\\original_1_21.png'), ('CEDAR/1\\\\forgeries_1_1.png', 'CEDAR/1\\\\original_1_22.png'), ('CEDAR/1\\\\forgeries_1_1.png', 'CEDAR/1\\\\original_1_23.png'), ('CEDAR/1\\\\forgeries_1_1.png', 'CEDAR/1\\\\original_1_24.png'), ('CEDAR/1\\\\forgeries_1_1.png', 'CEDAR/1\\\\original_1_3.png'), ('CEDAR/1\\\\forgeries_1_1.png', 'CEDAR/1\\\\original_1_4.png'), ('CEDAR/1\\\\forgeries_1_1.png', 'CEDAR/1\\\\original_1_5.png'), ('CEDAR/1\\\\forgeries_1_1.png', 'CEDAR/1\\\\original_1_6.png'), ('CEDAR/1\\\\forgeries_1_1.png', 'CEDAR/1\\\\original_1_7.png'), ('CEDAR/1\\\\forgeries_1_1.png', 'CEDAR/1\\\\original_1_8.png'), ('CEDAR/1\\\\forgeries_1_1.png', 'CEDAR/1\\\\original_1_9.png'), ('CEDAR/1\\\\forgeries_1_10.png', 'CEDAR/1\\\\forgeries_1_11.png'), ('CEDAR/1\\\\forgeries_1_10.png', 'CEDAR/1\\\\forgeries_1_12.png'), ('CEDAR/1\\\\forgeries_1_10.png', 'CEDAR/1\\\\forgeries_1_13.png'), ('CEDAR/1\\\\forgeries_1_10.png', 'CEDAR/1\\\\forgeries_1_14.png'), ('CEDAR/1\\\\forgeries_1_10.png', 'CEDAR/1\\\\forgeries_1_15.png'), ('CEDAR/1\\\\forgeries_1_10.png', 'CEDAR/1\\\\forgeries_1_16.png'), ('CEDAR/1\\\\forgeries_1_10.png', 'CEDAR/1\\\\forgeries_1_17.png'), ('CEDAR/1\\\\forgeries_1_10.png', 'CEDAR/1\\\\forgeries_1_18.png'), ('CEDAR/1\\\\forgeries_1_10.png', 'CEDAR/1\\\\forgeries_1_19.png'), ('CEDAR/1\\\\forgeries_1_10.png', 'CEDAR/1\\\\forgeries_1_2.png'), ('CEDAR/1\\\\forgeries_1_10.png', 'CEDAR/1\\\\forgeries_1_20.png'), ('CEDAR/1\\\\forgeries_1_10.png', 'CEDAR/1\\\\forgeries_1_21.png'), ('CEDAR/1\\\\forgeries_1_10.png', 'CEDAR/1\\\\forgeries_1_22.png'), ('CEDAR/1\\\\forgeries_1_10.png', 'CEDAR/1\\\\forgeries_1_23.png'), ('CEDAR/1\\\\forgeries_1_10.png', 'CEDAR/1\\\\forgeries_1_24.png'), ('CEDAR/1\\\\forgeries_1_10.png', 'CEDAR/1\\\\forgeries_1_3.png'), ('CEDAR/1\\\\forgeries_1_10.png', 'CEDAR/1\\\\forgeries_1_4.png'), ('CEDAR/1\\\\forgeries_1_10.png', 'CEDAR/1\\\\forgeries_1_5.png'), ('CEDAR/1\\\\forgeries_1_10.png', 'CEDAR/1\\\\forgeries_1_6.png'), ('CEDAR/1\\\\forgeries_1_10.png', 'CEDAR/1\\\\forgeries_1_7.png'), ('CEDAR/1\\\\forgeries_1_10.png', 'CEDAR/1\\\\forgeries_1_8.png'), ('CEDAR/1\\\\forgeries_1_10.png', 'CEDAR/1\\\\forgeries_1_9.png'), ('CEDAR/1\\\\forgeries_1_10.png', 'CEDAR/1\\\\original_1_1.png'), ('CEDAR/1\\\\forgeries_1_10.png', 'CEDAR/1\\\\original_1_10.png'), ('CEDAR/1\\\\forgeries_1_10.png', 'CEDAR/1\\\\original_1_11.png'), ('CEDAR/1\\\\forgeries_1_10.png', 'CEDAR/1\\\\original_1_12.png'), ('CEDAR/1\\\\forgeries_1_10.png', 'CEDAR/1\\\\original_1_13.png'), ('CEDAR/1\\\\forgeries_1_10.png', 'CEDAR/1\\\\original_1_14.png'), ('CEDAR/1\\\\forgeries_1_10.png', 'CEDAR/1\\\\original_1_15.png'), ('CEDAR/1\\\\forgeries_1_10.png', 'CEDAR/1\\\\original_1_16.png'), ('CEDAR/1\\\\forgeries_1_10.png', 'CEDAR/1\\\\original_1_17.png'), ('CEDAR/1\\\\forgeries_1_10.png', 'CEDAR/1\\\\original_1_18.png'), ('CEDAR/1\\\\forgeries_1_10.png', 'CEDAR/1\\\\original_1_19.png'), ('CEDAR/1\\\\forgeries_1_10.png', 'CEDAR/1\\\\original_1_2.png'), ('CEDAR/1\\\\forgeries_1_10.png', 'CEDAR/1\\\\original_1_20.png'), ('CEDAR/1\\\\forgeries_1_10.png', 'CEDAR/1\\\\original_1_21.png'), ('CEDAR/1\\\\forgeries_1_10.png', 'CEDAR/1\\\\original_1_22.png'), ('CEDAR/1\\\\forgeries_1_10.png', 'CEDAR/1\\\\original_1_23.png'), ('CEDAR/1\\\\forgeries_1_10.png', 'CEDAR/1\\\\original_1_24.png'), ('CEDAR/1\\\\forgeries_1_10.png', 'CEDAR/1\\\\original_1_3.png'), ('CEDAR/1\\\\forgeries_1_10.png', 'CEDAR/1\\\\original_1_4.png'), ('CEDAR/1\\\\forgeries_1_10.png', 'CEDAR/1\\\\original_1_5.png'), ('CEDAR/1\\\\forgeries_1_10.png', 'CEDAR/1\\\\original_1_6.png'), ('CEDAR/1\\\\forgeries_1_10.png', 'CEDAR/1\\\\original_1_7.png'), ('CEDAR/1\\\\forgeries_1_10.png', 'CEDAR/1\\\\original_1_8.png'), ('CEDAR/1\\\\forgeries_1_10.png', 'CEDAR/1\\\\original_1_9.png'), ('CEDAR/1\\\\forgeries_1_11.png', 'CEDAR/1\\\\forgeries_1_12.png'), ('CEDAR/1\\\\forgeries_1_11.png', 'CEDAR/1\\\\forgeries_1_13.png'), ('CEDAR/1\\\\forgeries_1_11.png', 'CEDAR/1\\\\forgeries_1_14.png'), ('CEDAR/1\\\\forgeries_1_11.png', 'CEDAR/1\\\\forgeries_1_15.png'), ('CEDAR/1\\\\forgeries_1_11.png', 'CEDAR/1\\\\forgeries_1_16.png'), ('CEDAR/1\\\\forgeries_1_11.png', 'CEDAR/1\\\\forgeries_1_17.png'), ('CEDAR/1\\\\forgeries_1_11.png', 'CEDAR/1\\\\forgeries_1_18.png'), ('CEDAR/1\\\\forgeries_1_11.png', 'CEDAR/1\\\\forgeries_1_19.png'), ('CEDAR/1\\\\forgeries_1_11.png', 'CEDAR/1\\\\forgeries_1_2.png'), ('CEDAR/1\\\\forgeries_1_11.png', 'CEDAR/1\\\\forgeries_1_20.png'), ('CEDAR/1\\\\forgeries_1_11.png', 'CEDAR/1\\\\forgeries_1_21.png'), ('CEDAR/1\\\\forgeries_1_11.png', 'CEDAR/1\\\\forgeries_1_22.png'), ('CEDAR/1\\\\forgeries_1_11.png', 'CEDAR/1\\\\forgeries_1_23.png'), ('CEDAR/1\\\\forgeries_1_11.png', 'CEDAR/1\\\\forgeries_1_24.png'), ('CEDAR/1\\\\forgeries_1_11.png', 'CEDAR/1\\\\forgeries_1_3.png'), ('CEDAR/1\\\\forgeries_1_11.png', 'CEDAR/1\\\\forgeries_1_4.png'), ('CEDAR/1\\\\forgeries_1_11.png', 'CEDAR/1\\\\forgeries_1_5.png'), ('CEDAR/1\\\\forgeries_1_11.png', 'CEDAR/1\\\\forgeries_1_6.png'), ('CEDAR/1\\\\forgeries_1_11.png', 'CEDAR/1\\\\forgeries_1_7.png'), ('CEDAR/1\\\\forgeries_1_11.png', 'CEDAR/1\\\\forgeries_1_8.png'), ('CEDAR/1\\\\forgeries_1_11.png', 'CEDAR/1\\\\forgeries_1_9.png'), ('CEDAR/1\\\\forgeries_1_11.png', 'CEDAR/1\\\\original_1_1.png'), ('CEDAR/1\\\\forgeries_1_11.png', 'CEDAR/1\\\\original_1_10.png'), ('CEDAR/1\\\\forgeries_1_11.png', 'CEDAR/1\\\\original_1_11.png'), ('CEDAR/1\\\\forgeries_1_11.png', 'CEDAR/1\\\\original_1_12.png'), ('CEDAR/1\\\\forgeries_1_11.png', 'CEDAR/1\\\\original_1_13.png'), ('CEDAR/1\\\\forgeries_1_11.png', 'CEDAR/1\\\\original_1_14.png'), ('CEDAR/1\\\\forgeries_1_11.png', 'CEDAR/1\\\\original_1_15.png'), ('CEDAR/1\\\\forgeries_1_11.png', 'CEDAR/1\\\\original_1_16.png'), ('CEDAR/1\\\\forgeries_1_11.png', 'CEDAR/1\\\\original_1_17.png'), ('CEDAR/1\\\\forgeries_1_11.png', 'CEDAR/1\\\\original_1_18.png'), ('CEDAR/1\\\\forgeries_1_11.png', 'CEDAR/1\\\\original_1_19.png'), ('CEDAR/1\\\\forgeries_1_11.png', 'CEDAR/1\\\\original_1_2.png'), ('CEDAR/1\\\\forgeries_1_11.png', 'CEDAR/1\\\\original_1_20.png'), ('CEDAR/1\\\\forgeries_1_11.png', 'CEDAR/1\\\\original_1_21.png'), ('CEDAR/1\\\\forgeries_1_11.png', 'CEDAR/1\\\\original_1_22.png'), ('CEDAR/1\\\\forgeries_1_11.png', 'CEDAR/1\\\\original_1_23.png'), ('CEDAR/1\\\\forgeries_1_11.png', 'CEDAR/1\\\\original_1_24.png'), ('CEDAR/1\\\\forgeries_1_11.png', 'CEDAR/1\\\\original_1_3.png'), ('CEDAR/1\\\\forgeries_1_11.png', 'CEDAR/1\\\\original_1_4.png'), ('CEDAR/1\\\\forgeries_1_11.png', 'CEDAR/1\\\\original_1_5.png'), ('CEDAR/1\\\\forgeries_1_11.png', 'CEDAR/1\\\\original_1_6.png'), ('CEDAR/1\\\\forgeries_1_11.png', 'CEDAR/1\\\\original_1_7.png'), ('CEDAR/1\\\\forgeries_1_11.png', 'CEDAR/1\\\\original_1_8.png'), ('CEDAR/1\\\\forgeries_1_11.png', 'CEDAR/1\\\\original_1_9.png'), ('CEDAR/1\\\\forgeries_1_12.png', 'CEDAR/1\\\\forgeries_1_13.png'), ('CEDAR/1\\\\forgeries_1_12.png', 'CEDAR/1\\\\forgeries_1_14.png'), ('CEDAR/1\\\\forgeries_1_12.png', 'CEDAR/1\\\\forgeries_1_15.png'), ('CEDAR/1\\\\forgeries_1_12.png', 'CEDAR/1\\\\forgeries_1_16.png'), ('CEDAR/1\\\\forgeries_1_12.png', 'CEDAR/1\\\\forgeries_1_17.png'), ('CEDAR/1\\\\forgeries_1_12.png', 'CEDAR/1\\\\forgeries_1_18.png'), ('CEDAR/1\\\\forgeries_1_12.png', 'CEDAR/1\\\\forgeries_1_19.png'), ('CEDAR/1\\\\forgeries_1_12.png', 'CEDAR/1\\\\forgeries_1_2.png'), ('CEDAR/1\\\\forgeries_1_12.png', 'CEDAR/1\\\\forgeries_1_20.png'), ('CEDAR/1\\\\forgeries_1_12.png', 'CEDAR/1\\\\forgeries_1_21.png'), ('CEDAR/1\\\\forgeries_1_12.png', 'CEDAR/1\\\\forgeries_1_22.png'), ('CEDAR/1\\\\forgeries_1_12.png', 'CEDAR/1\\\\forgeries_1_23.png'), ('CEDAR/1\\\\forgeries_1_12.png', 'CEDAR/1\\\\forgeries_1_24.png'), ('CEDAR/1\\\\forgeries_1_12.png', 'CEDAR/1\\\\forgeries_1_3.png'), ('CEDAR/1\\\\forgeries_1_12.png', 'CEDAR/1\\\\forgeries_1_4.png'), ('CEDAR/1\\\\forgeries_1_12.png', 'CEDAR/1\\\\forgeries_1_5.png'), ('CEDAR/1\\\\forgeries_1_12.png', 'CEDAR/1\\\\forgeries_1_6.png'), ('CEDAR/1\\\\forgeries_1_12.png', 'CEDAR/1\\\\forgeries_1_7.png'), ('CEDAR/1\\\\forgeries_1_12.png', 'CEDAR/1\\\\forgeries_1_8.png'), ('CEDAR/1\\\\forgeries_1_12.png', 'CEDAR/1\\\\forgeries_1_9.png'), ('CEDAR/1\\\\forgeries_1_12.png', 'CEDAR/1\\\\original_1_1.png'), ('CEDAR/1\\\\forgeries_1_12.png', 'CEDAR/1\\\\original_1_10.png'), ('CEDAR/1\\\\forgeries_1_12.png', 'CEDAR/1\\\\original_1_11.png'), ('CEDAR/1\\\\forgeries_1_12.png', 'CEDAR/1\\\\original_1_12.png'), ('CEDAR/1\\\\forgeries_1_12.png', 'CEDAR/1\\\\original_1_13.png'), ('CEDAR/1\\\\forgeries_1_12.png', 'CEDAR/1\\\\original_1_14.png'), ('CEDAR/1\\\\forgeries_1_12.png', 'CEDAR/1\\\\original_1_15.png'), ('CEDAR/1\\\\forgeries_1_12.png', 'CEDAR/1\\\\original_1_16.png'), ('CEDAR/1\\\\forgeries_1_12.png', 'CEDAR/1\\\\original_1_17.png'), ('CEDAR/1\\\\forgeries_1_12.png', 'CEDAR/1\\\\original_1_18.png'), ('CEDAR/1\\\\forgeries_1_12.png', 'CEDAR/1\\\\original_1_19.png'), ('CEDAR/1\\\\forgeries_1_12.png', 'CEDAR/1\\\\original_1_2.png'), ('CEDAR/1\\\\forgeries_1_12.png', 'CEDAR/1\\\\original_1_20.png'), ('CEDAR/1\\\\forgeries_1_12.png', 'CEDAR/1\\\\original_1_21.png'), ('CEDAR/1\\\\forgeries_1_12.png', 'CEDAR/1\\\\original_1_22.png'), ('CEDAR/1\\\\forgeries_1_12.png', 'CEDAR/1\\\\original_1_23.png'), ('CEDAR/1\\\\forgeries_1_12.png', 'CEDAR/1\\\\original_1_24.png'), ('CEDAR/1\\\\forgeries_1_12.png', 'CEDAR/1\\\\original_1_3.png'), ('CEDAR/1\\\\forgeries_1_12.png', 'CEDAR/1\\\\original_1_4.png'), ('CEDAR/1\\\\forgeries_1_12.png', 'CEDAR/1\\\\original_1_5.png'), ('CEDAR/1\\\\forgeries_1_12.png', 'CEDAR/1\\\\original_1_6.png'), ('CEDAR/1\\\\forgeries_1_12.png', 'CEDAR/1\\\\original_1_7.png'), ('CEDAR/1\\\\forgeries_1_12.png', 'CEDAR/1\\\\original_1_8.png'), ('CEDAR/1\\\\forgeries_1_12.png', 'CEDAR/1\\\\original_1_9.png'), ('CEDAR/1\\\\forgeries_1_13.png', 'CEDAR/1\\\\forgeries_1_14.png'), ('CEDAR/1\\\\forgeries_1_13.png', 'CEDAR/1\\\\forgeries_1_15.png'), ('CEDAR/1\\\\forgeries_1_13.png', 'CEDAR/1\\\\forgeries_1_16.png'), ('CEDAR/1\\\\forgeries_1_13.png', 'CEDAR/1\\\\forgeries_1_17.png'), ('CEDAR/1\\\\forgeries_1_13.png', 'CEDAR/1\\\\forgeries_1_18.png'), ('CEDAR/1\\\\forgeries_1_13.png', 'CEDAR/1\\\\forgeries_1_19.png'), ('CEDAR/1\\\\forgeries_1_13.png', 'CEDAR/1\\\\forgeries_1_2.png'), ('CEDAR/1\\\\forgeries_1_13.png', 'CEDAR/1\\\\forgeries_1_20.png'), ('CEDAR/1\\\\forgeries_1_13.png', 'CEDAR/1\\\\forgeries_1_21.png'), ('CEDAR/1\\\\forgeries_1_13.png', 'CEDAR/1\\\\forgeries_1_22.png'), ('CEDAR/1\\\\forgeries_1_13.png', 'CEDAR/1\\\\forgeries_1_23.png'), ('CEDAR/1\\\\forgeries_1_13.png', 'CEDAR/1\\\\forgeries_1_24.png'), ('CEDAR/1\\\\forgeries_1_13.png', 'CEDAR/1\\\\forgeries_1_3.png'), ('CEDAR/1\\\\forgeries_1_13.png', 'CEDAR/1\\\\forgeries_1_4.png'), ('CEDAR/1\\\\forgeries_1_13.png', 'CEDAR/1\\\\forgeries_1_5.png'), ('CEDAR/1\\\\forgeries_1_13.png', 'CEDAR/1\\\\forgeries_1_6.png'), ('CEDAR/1\\\\forgeries_1_13.png', 'CEDAR/1\\\\forgeries_1_7.png'), ('CEDAR/1\\\\forgeries_1_13.png', 'CEDAR/1\\\\forgeries_1_8.png'), ('CEDAR/1\\\\forgeries_1_13.png', 'CEDAR/1\\\\forgeries_1_9.png'), ('CEDAR/1\\\\forgeries_1_13.png', 'CEDAR/1\\\\original_1_1.png'), ('CEDAR/1\\\\forgeries_1_13.png', 'CEDAR/1\\\\original_1_10.png'), ('CEDAR/1\\\\forgeries_1_13.png', 'CEDAR/1\\\\original_1_11.png'), ('CEDAR/1\\\\forgeries_1_13.png', 'CEDAR/1\\\\original_1_12.png'), ('CEDAR/1\\\\forgeries_1_13.png', 'CEDAR/1\\\\original_1_13.png'), ('CEDAR/1\\\\forgeries_1_13.png', 'CEDAR/1\\\\original_1_14.png'), ('CEDAR/1\\\\forgeries_1_13.png', 'CEDAR/1\\\\original_1_15.png'), ('CEDAR/1\\\\forgeries_1_13.png', 'CEDAR/1\\\\original_1_16.png'), ('CEDAR/1\\\\forgeries_1_13.png', 'CEDAR/1\\\\original_1_17.png'), ('CEDAR/1\\\\forgeries_1_13.png', 'CEDAR/1\\\\original_1_18.png'), ('CEDAR/1\\\\forgeries_1_13.png', 'CEDAR/1\\\\original_1_19.png'), ('CEDAR/1\\\\forgeries_1_13.png', 'CEDAR/1\\\\original_1_2.png'), ('CEDAR/1\\\\forgeries_1_13.png', 'CEDAR/1\\\\original_1_20.png'), ('CEDAR/1\\\\forgeries_1_13.png', 'CEDAR/1\\\\original_1_21.png'), ('CEDAR/1\\\\forgeries_1_13.png', 'CEDAR/1\\\\original_1_22.png'), ('CEDAR/1\\\\forgeries_1_13.png', 'CEDAR/1\\\\original_1_23.png'), ('CEDAR/1\\\\forgeries_1_13.png', 'CEDAR/1\\\\original_1_24.png'), ('CEDAR/1\\\\forgeries_1_13.png', 'CEDAR/1\\\\original_1_3.png'), ('CEDAR/1\\\\forgeries_1_13.png', 'CEDAR/1\\\\original_1_4.png'), ('CEDAR/1\\\\forgeries_1_13.png', 'CEDAR/1\\\\original_1_5.png'), ('CEDAR/1\\\\forgeries_1_13.png', 'CEDAR/1\\\\original_1_6.png'), ('CEDAR/1\\\\forgeries_1_13.png', 'CEDAR/1\\\\original_1_7.png'), ('CEDAR/1\\\\forgeries_1_13.png', 'CEDAR/1\\\\original_1_8.png'), ('CEDAR/1\\\\forgeries_1_13.png', 'CEDAR/1\\\\original_1_9.png'), ('CEDAR/1\\\\forgeries_1_14.png', 'CEDAR/1\\\\forgeries_1_15.png'), ('CEDAR/1\\\\forgeries_1_14.png', 'CEDAR/1\\\\forgeries_1_16.png'), ('CEDAR/1\\\\forgeries_1_14.png', 'CEDAR/1\\\\forgeries_1_17.png'), ('CEDAR/1\\\\forgeries_1_14.png', 'CEDAR/1\\\\forgeries_1_18.png'), ('CEDAR/1\\\\forgeries_1_14.png', 'CEDAR/1\\\\forgeries_1_19.png'), ('CEDAR/1\\\\forgeries_1_14.png', 'CEDAR/1\\\\forgeries_1_2.png'), ('CEDAR/1\\\\forgeries_1_14.png', 'CEDAR/1\\\\forgeries_1_20.png'), ('CEDAR/1\\\\forgeries_1_14.png', 'CEDAR/1\\\\forgeries_1_21.png'), ('CEDAR/1\\\\forgeries_1_14.png', 'CEDAR/1\\\\forgeries_1_22.png'), ('CEDAR/1\\\\forgeries_1_14.png', 'CEDAR/1\\\\forgeries_1_23.png'), ('CEDAR/1\\\\forgeries_1_14.png', 'CEDAR/1\\\\forgeries_1_24.png'), ('CEDAR/1\\\\forgeries_1_14.png', 'CEDAR/1\\\\forgeries_1_3.png'), ('CEDAR/1\\\\forgeries_1_14.png', 'CEDAR/1\\\\forgeries_1_4.png'), ('CEDAR/1\\\\forgeries_1_14.png', 'CEDAR/1\\\\forgeries_1_5.png'), ('CEDAR/1\\\\forgeries_1_14.png', 'CEDAR/1\\\\forgeries_1_6.png'), ('CEDAR/1\\\\forgeries_1_14.png', 'CEDAR/1\\\\forgeries_1_7.png'), ('CEDAR/1\\\\forgeries_1_14.png', 'CEDAR/1\\\\forgeries_1_8.png'), ('CEDAR/1\\\\forgeries_1_14.png', 'CEDAR/1\\\\forgeries_1_9.png'), ('CEDAR/1\\\\forgeries_1_14.png', 'CEDAR/1\\\\original_1_1.png'), ('CEDAR/1\\\\forgeries_1_14.png', 'CEDAR/1\\\\original_1_10.png'), ('CEDAR/1\\\\forgeries_1_14.png', 'CEDAR/1\\\\original_1_11.png'), ('CEDAR/1\\\\forgeries_1_14.png', 'CEDAR/1\\\\original_1_12.png'), ('CEDAR/1\\\\forgeries_1_14.png', 'CEDAR/1\\\\original_1_13.png'), ('CEDAR/1\\\\forgeries_1_14.png', 'CEDAR/1\\\\original_1_14.png'), ('CEDAR/1\\\\forgeries_1_14.png', 'CEDAR/1\\\\original_1_15.png'), ('CEDAR/1\\\\forgeries_1_14.png', 'CEDAR/1\\\\original_1_16.png'), ('CEDAR/1\\\\forgeries_1_14.png', 'CEDAR/1\\\\original_1_17.png'), ('CEDAR/1\\\\forgeries_1_14.png', 'CEDAR/1\\\\original_1_18.png'), ('CEDAR/1\\\\forgeries_1_14.png', 'CEDAR/1\\\\original_1_19.png'), ('CEDAR/1\\\\forgeries_1_14.png', 'CEDAR/1\\\\original_1_2.png'), ('CEDAR/1\\\\forgeries_1_14.png', 'CEDAR/1\\\\original_1_20.png'), ('CEDAR/1\\\\forgeries_1_14.png', 'CEDAR/1\\\\original_1_21.png'), ('CEDAR/1\\\\forgeries_1_14.png', 'CEDAR/1\\\\original_1_22.png'), ('CEDAR/1\\\\forgeries_1_14.png', 'CEDAR/1\\\\original_1_23.png'), ('CEDAR/1\\\\forgeries_1_14.png', 'CEDAR/1\\\\original_1_24.png'), ('CEDAR/1\\\\forgeries_1_14.png', 'CEDAR/1\\\\original_1_3.png'), ('CEDAR/1\\\\forgeries_1_14.png', 'CEDAR/1\\\\original_1_4.png'), ('CEDAR/1\\\\forgeries_1_14.png', 'CEDAR/1\\\\original_1_5.png'), ('CEDAR/1\\\\forgeries_1_14.png', 'CEDAR/1\\\\original_1_6.png'), ('CEDAR/1\\\\forgeries_1_14.png', 'CEDAR/1\\\\original_1_7.png'), ('CEDAR/1\\\\forgeries_1_14.png', 'CEDAR/1\\\\original_1_8.png'), ('CEDAR/1\\\\forgeries_1_14.png', 'CEDAR/1\\\\original_1_9.png'), ('CEDAR/1\\\\forgeries_1_15.png', 'CEDAR/1\\\\forgeries_1_16.png'), ('CEDAR/1\\\\forgeries_1_15.png', 'CEDAR/1\\\\forgeries_1_17.png'), ('CEDAR/1\\\\forgeries_1_15.png', 'CEDAR/1\\\\forgeries_1_18.png'), ('CEDAR/1\\\\forgeries_1_15.png', 'CEDAR/1\\\\forgeries_1_19.png'), ('CEDAR/1\\\\forgeries_1_15.png', 'CEDAR/1\\\\forgeries_1_2.png'), ('CEDAR/1\\\\forgeries_1_15.png', 'CEDAR/1\\\\forgeries_1_20.png'), ('CEDAR/1\\\\forgeries_1_15.png', 'CEDAR/1\\\\forgeries_1_21.png'), ('CEDAR/1\\\\forgeries_1_15.png', 'CEDAR/1\\\\forgeries_1_22.png'), ('CEDAR/1\\\\forgeries_1_15.png', 'CEDAR/1\\\\forgeries_1_23.png'), ('CEDAR/1\\\\forgeries_1_15.png', 'CEDAR/1\\\\forgeries_1_24.png'), ('CEDAR/1\\\\forgeries_1_15.png', 'CEDAR/1\\\\forgeries_1_3.png'), ('CEDAR/1\\\\forgeries_1_15.png', 'CEDAR/1\\\\forgeries_1_4.png'), ('CEDAR/1\\\\forgeries_1_15.png', 'CEDAR/1\\\\forgeries_1_5.png'), ('CEDAR/1\\\\forgeries_1_15.png', 'CEDAR/1\\\\forgeries_1_6.png'), ('CEDAR/1\\\\forgeries_1_15.png', 'CEDAR/1\\\\forgeries_1_7.png'), ('CEDAR/1\\\\forgeries_1_15.png', 'CEDAR/1\\\\forgeries_1_8.png'), ('CEDAR/1\\\\forgeries_1_15.png', 'CEDAR/1\\\\forgeries_1_9.png'), ('CEDAR/1\\\\forgeries_1_15.png', 'CEDAR/1\\\\original_1_1.png'), ('CEDAR/1\\\\forgeries_1_15.png', 'CEDAR/1\\\\original_1_10.png'), ('CEDAR/1\\\\forgeries_1_15.png', 'CEDAR/1\\\\original_1_11.png'), ('CEDAR/1\\\\forgeries_1_15.png', 'CEDAR/1\\\\original_1_12.png'), ('CEDAR/1\\\\forgeries_1_15.png', 'CEDAR/1\\\\original_1_13.png'), ('CEDAR/1\\\\forgeries_1_15.png', 'CEDAR/1\\\\original_1_14.png'), ('CEDAR/1\\\\forgeries_1_15.png', 'CEDAR/1\\\\original_1_15.png'), ('CEDAR/1\\\\forgeries_1_15.png', 'CEDAR/1\\\\original_1_16.png'), ('CEDAR/1\\\\forgeries_1_15.png', 'CEDAR/1\\\\original_1_17.png'), ('CEDAR/1\\\\forgeries_1_15.png', 'CEDAR/1\\\\original_1_18.png'), ('CEDAR/1\\\\forgeries_1_15.png', 'CEDAR/1\\\\original_1_19.png'), ('CEDAR/1\\\\forgeries_1_15.png', 'CEDAR/1\\\\original_1_2.png'), ('CEDAR/1\\\\forgeries_1_15.png', 'CEDAR/1\\\\original_1_20.png'), ('CEDAR/1\\\\forgeries_1_15.png', 'CEDAR/1\\\\original_1_21.png'), ('CEDAR/1\\\\forgeries_1_15.png', 'CEDAR/1\\\\original_1_22.png'), ('CEDAR/1\\\\forgeries_1_15.png', 'CEDAR/1\\\\original_1_23.png'), ('CEDAR/1\\\\forgeries_1_15.png', 'CEDAR/1\\\\original_1_24.png'), ('CEDAR/1\\\\forgeries_1_15.png', 'CEDAR/1\\\\original_1_3.png'), ('CEDAR/1\\\\forgeries_1_15.png', 'CEDAR/1\\\\original_1_4.png'), ('CEDAR/1\\\\forgeries_1_15.png', 'CEDAR/1\\\\original_1_5.png'), ('CEDAR/1\\\\forgeries_1_15.png', 'CEDAR/1\\\\original_1_6.png'), ('CEDAR/1\\\\forgeries_1_15.png', 'CEDAR/1\\\\original_1_7.png'), ('CEDAR/1\\\\forgeries_1_15.png', 'CEDAR/1\\\\original_1_8.png'), ('CEDAR/1\\\\forgeries_1_15.png', 'CEDAR/1\\\\original_1_9.png'), ('CEDAR/1\\\\forgeries_1_16.png', 'CEDAR/1\\\\forgeries_1_17.png'), ('CEDAR/1\\\\forgeries_1_16.png', 'CEDAR/1\\\\forgeries_1_18.png'), ('CEDAR/1\\\\forgeries_1_16.png', 'CEDAR/1\\\\forgeries_1_19.png'), ('CEDAR/1\\\\forgeries_1_16.png', 'CEDAR/1\\\\forgeries_1_2.png'), ('CEDAR/1\\\\forgeries_1_16.png', 'CEDAR/1\\\\forgeries_1_20.png'), ('CEDAR/1\\\\forgeries_1_16.png', 'CEDAR/1\\\\forgeries_1_21.png'), ('CEDAR/1\\\\forgeries_1_16.png', 'CEDAR/1\\\\forgeries_1_22.png'), ('CEDAR/1\\\\forgeries_1_16.png', 'CEDAR/1\\\\forgeries_1_23.png'), ('CEDAR/1\\\\forgeries_1_16.png', 'CEDAR/1\\\\forgeries_1_24.png'), ('CEDAR/1\\\\forgeries_1_16.png', 'CEDAR/1\\\\forgeries_1_3.png'), ('CEDAR/1\\\\forgeries_1_16.png', 'CEDAR/1\\\\forgeries_1_4.png'), ('CEDAR/1\\\\forgeries_1_16.png', 'CEDAR/1\\\\forgeries_1_5.png'), ('CEDAR/1\\\\forgeries_1_16.png', 'CEDAR/1\\\\forgeries_1_6.png'), ('CEDAR/1\\\\forgeries_1_16.png', 'CEDAR/1\\\\forgeries_1_7.png'), ('CEDAR/1\\\\forgeries_1_16.png', 'CEDAR/1\\\\forgeries_1_8.png'), ('CEDAR/1\\\\forgeries_1_16.png', 'CEDAR/1\\\\forgeries_1_9.png'), ('CEDAR/1\\\\forgeries_1_16.png', 'CEDAR/1\\\\original_1_1.png'), ('CEDAR/1\\\\forgeries_1_16.png', 'CEDAR/1\\\\original_1_10.png'), ('CEDAR/1\\\\forgeries_1_16.png', 'CEDAR/1\\\\original_1_11.png'), ('CEDAR/1\\\\forgeries_1_16.png', 'CEDAR/1\\\\original_1_12.png'), ('CEDAR/1\\\\forgeries_1_16.png', 'CEDAR/1\\\\original_1_13.png'), ('CEDAR/1\\\\forgeries_1_16.png', 'CEDAR/1\\\\original_1_14.png'), ('CEDAR/1\\\\forgeries_1_16.png', 'CEDAR/1\\\\original_1_15.png'), ('CEDAR/1\\\\forgeries_1_16.png', 'CEDAR/1\\\\original_1_16.png'), ('CEDAR/1\\\\forgeries_1_16.png', 'CEDAR/1\\\\original_1_17.png'), ('CEDAR/1\\\\forgeries_1_16.png', 'CEDAR/1\\\\original_1_18.png'), ('CEDAR/1\\\\forgeries_1_16.png', 'CEDAR/1\\\\original_1_19.png'), ('CEDAR/1\\\\forgeries_1_16.png', 'CEDAR/1\\\\original_1_2.png'), ('CEDAR/1\\\\forgeries_1_16.png', 'CEDAR/1\\\\original_1_20.png'), ('CEDAR/1\\\\forgeries_1_16.png', 'CEDAR/1\\\\original_1_21.png'), ('CEDAR/1\\\\forgeries_1_16.png', 'CEDAR/1\\\\original_1_22.png'), ('CEDAR/1\\\\forgeries_1_16.png', 'CEDAR/1\\\\original_1_23.png'), ('CEDAR/1\\\\forgeries_1_16.png', 'CEDAR/1\\\\original_1_24.png'), ('CEDAR/1\\\\forgeries_1_16.png', 'CEDAR/1\\\\original_1_3.png'), ('CEDAR/1\\\\forgeries_1_16.png', 'CEDAR/1\\\\original_1_4.png'), ('CEDAR/1\\\\forgeries_1_16.png', 'CEDAR/1\\\\original_1_5.png'), ('CEDAR/1\\\\forgeries_1_16.png', 'CEDAR/1\\\\original_1_6.png'), ('CEDAR/1\\\\forgeries_1_16.png', 'CEDAR/1\\\\original_1_7.png'), ('CEDAR/1\\\\forgeries_1_16.png', 'CEDAR/1\\\\original_1_8.png'), ('CEDAR/1\\\\forgeries_1_16.png', 'CEDAR/1\\\\original_1_9.png'), ('CEDAR/1\\\\forgeries_1_17.png', 'CEDAR/1\\\\forgeries_1_18.png'), ('CEDAR/1\\\\forgeries_1_17.png', 'CEDAR/1\\\\forgeries_1_19.png'), ('CEDAR/1\\\\forgeries_1_17.png', 'CEDAR/1\\\\forgeries_1_2.png'), ('CEDAR/1\\\\forgeries_1_17.png', 'CEDAR/1\\\\forgeries_1_20.png'), ('CEDAR/1\\\\forgeries_1_17.png', 'CEDAR/1\\\\forgeries_1_21.png'), ('CEDAR/1\\\\forgeries_1_17.png', 'CEDAR/1\\\\forgeries_1_22.png'), ('CEDAR/1\\\\forgeries_1_17.png', 'CEDAR/1\\\\forgeries_1_23.png'), ('CEDAR/1\\\\forgeries_1_17.png', 'CEDAR/1\\\\forgeries_1_24.png'), ('CEDAR/1\\\\forgeries_1_17.png', 'CEDAR/1\\\\forgeries_1_3.png'), ('CEDAR/1\\\\forgeries_1_17.png', 'CEDAR/1\\\\forgeries_1_4.png'), ('CEDAR/1\\\\forgeries_1_17.png', 'CEDAR/1\\\\forgeries_1_5.png'), ('CEDAR/1\\\\forgeries_1_17.png', 'CEDAR/1\\\\forgeries_1_6.png'), ('CEDAR/1\\\\forgeries_1_17.png', 'CEDAR/1\\\\forgeries_1_7.png'), ('CEDAR/1\\\\forgeries_1_17.png', 'CEDAR/1\\\\forgeries_1_8.png'), ('CEDAR/1\\\\forgeries_1_17.png', 'CEDAR/1\\\\forgeries_1_9.png'), ('CEDAR/1\\\\forgeries_1_17.png', 'CEDAR/1\\\\original_1_1.png'), ('CEDAR/1\\\\forgeries_1_17.png', 'CEDAR/1\\\\original_1_10.png'), ('CEDAR/1\\\\forgeries_1_17.png', 'CEDAR/1\\\\original_1_11.png'), ('CEDAR/1\\\\forgeries_1_17.png', 'CEDAR/1\\\\original_1_12.png'), ('CEDAR/1\\\\forgeries_1_17.png', 'CEDAR/1\\\\original_1_13.png'), ('CEDAR/1\\\\forgeries_1_17.png', 'CEDAR/1\\\\original_1_14.png'), ('CEDAR/1\\\\forgeries_1_17.png', 'CEDAR/1\\\\original_1_15.png'), ('CEDAR/1\\\\forgeries_1_17.png', 'CEDAR/1\\\\original_1_16.png'), ('CEDAR/1\\\\forgeries_1_17.png', 'CEDAR/1\\\\original_1_17.png'), ('CEDAR/1\\\\forgeries_1_17.png', 'CEDAR/1\\\\original_1_18.png'), ('CEDAR/1\\\\forgeries_1_17.png', 'CEDAR/1\\\\original_1_19.png'), ('CEDAR/1\\\\forgeries_1_17.png', 'CEDAR/1\\\\original_1_2.png'), ('CEDAR/1\\\\forgeries_1_17.png', 'CEDAR/1\\\\original_1_20.png'), ('CEDAR/1\\\\forgeries_1_17.png', 'CEDAR/1\\\\original_1_21.png'), ('CEDAR/1\\\\forgeries_1_17.png', 'CEDAR/1\\\\original_1_22.png'), ('CEDAR/1\\\\forgeries_1_17.png', 'CEDAR/1\\\\original_1_23.png'), ('CEDAR/1\\\\forgeries_1_17.png', 'CEDAR/1\\\\original_1_24.png'), ('CEDAR/1\\\\forgeries_1_17.png', 'CEDAR/1\\\\original_1_3.png'), ('CEDAR/1\\\\forgeries_1_17.png', 'CEDAR/1\\\\original_1_4.png'), ('CEDAR/1\\\\forgeries_1_17.png', 'CEDAR/1\\\\original_1_5.png'), ('CEDAR/1\\\\forgeries_1_17.png', 'CEDAR/1\\\\original_1_6.png'), ('CEDAR/1\\\\forgeries_1_17.png', 'CEDAR/1\\\\original_1_7.png'), ('CEDAR/1\\\\forgeries_1_17.png', 'CEDAR/1\\\\original_1_8.png'), ('CEDAR/1\\\\forgeries_1_17.png', 'CEDAR/1\\\\original_1_9.png'), ('CEDAR/1\\\\forgeries_1_18.png', 'CEDAR/1\\\\forgeries_1_19.png'), ('CEDAR/1\\\\forgeries_1_18.png', 'CEDAR/1\\\\forgeries_1_2.png'), ('CEDAR/1\\\\forgeries_1_18.png', 'CEDAR/1\\\\forgeries_1_20.png'), ('CEDAR/1\\\\forgeries_1_18.png', 'CEDAR/1\\\\forgeries_1_21.png'), ('CEDAR/1\\\\forgeries_1_18.png', 'CEDAR/1\\\\forgeries_1_22.png'), ('CEDAR/1\\\\forgeries_1_18.png', 'CEDAR/1\\\\forgeries_1_23.png'), ('CEDAR/1\\\\forgeries_1_18.png', 'CEDAR/1\\\\forgeries_1_24.png'), ('CEDAR/1\\\\forgeries_1_18.png', 'CEDAR/1\\\\forgeries_1_3.png'), ('CEDAR/1\\\\forgeries_1_18.png', 'CEDAR/1\\\\forgeries_1_4.png'), ('CEDAR/1\\\\forgeries_1_18.png', 'CEDAR/1\\\\forgeries_1_5.png'), ('CEDAR/1\\\\forgeries_1_18.png', 'CEDAR/1\\\\forgeries_1_6.png'), ('CEDAR/1\\\\forgeries_1_18.png', 'CEDAR/1\\\\forgeries_1_7.png'), ('CEDAR/1\\\\forgeries_1_18.png', 'CEDAR/1\\\\forgeries_1_8.png'), ('CEDAR/1\\\\forgeries_1_18.png', 'CEDAR/1\\\\forgeries_1_9.png'), ('CEDAR/1\\\\forgeries_1_18.png', 'CEDAR/1\\\\original_1_1.png'), ('CEDAR/1\\\\forgeries_1_18.png', 'CEDAR/1\\\\original_1_10.png'), ('CEDAR/1\\\\forgeries_1_18.png', 'CEDAR/1\\\\original_1_11.png'), ('CEDAR/1\\\\forgeries_1_18.png', 'CEDAR/1\\\\original_1_12.png'), ('CEDAR/1\\\\forgeries_1_18.png', 'CEDAR/1\\\\original_1_13.png'), ('CEDAR/1\\\\forgeries_1_18.png', 'CEDAR/1\\\\original_1_14.png'), ('CEDAR/1\\\\forgeries_1_18.png', 'CEDAR/1\\\\original_1_15.png'), ('CEDAR/1\\\\forgeries_1_18.png', 'CEDAR/1\\\\original_1_16.png'), ('CEDAR/1\\\\forgeries_1_18.png', 'CEDAR/1\\\\original_1_17.png'), ('CEDAR/1\\\\forgeries_1_18.png', 'CEDAR/1\\\\original_1_18.png'), ('CEDAR/1\\\\forgeries_1_18.png', 'CEDAR/1\\\\original_1_19.png'), ('CEDAR/1\\\\forgeries_1_18.png', 'CEDAR/1\\\\original_1_2.png'), ('CEDAR/1\\\\forgeries_1_18.png', 'CEDAR/1\\\\original_1_20.png'), ('CEDAR/1\\\\forgeries_1_18.png', 'CEDAR/1\\\\original_1_21.png'), ('CEDAR/1\\\\forgeries_1_18.png', 'CEDAR/1\\\\original_1_22.png'), ('CEDAR/1\\\\forgeries_1_18.png', 'CEDAR/1\\\\original_1_23.png'), ('CEDAR/1\\\\forgeries_1_18.png', 'CEDAR/1\\\\original_1_24.png'), ('CEDAR/1\\\\forgeries_1_18.png', 'CEDAR/1\\\\original_1_3.png'), ('CEDAR/1\\\\forgeries_1_18.png', 'CEDAR/1\\\\original_1_4.png'), ('CEDAR/1\\\\forgeries_1_18.png', 'CEDAR/1\\\\original_1_5.png'), ('CEDAR/1\\\\forgeries_1_18.png', 'CEDAR/1\\\\original_1_6.png'), ('CEDAR/1\\\\forgeries_1_18.png', 'CEDAR/1\\\\original_1_7.png'), ('CEDAR/1\\\\forgeries_1_18.png', 'CEDAR/1\\\\original_1_8.png'), ('CEDAR/1\\\\forgeries_1_18.png', 'CEDAR/1\\\\original_1_9.png'), ('CEDAR/1\\\\forgeries_1_19.png', 'CEDAR/1\\\\forgeries_1_2.png'), ('CEDAR/1\\\\forgeries_1_19.png', 'CEDAR/1\\\\forgeries_1_20.png'), ('CEDAR/1\\\\forgeries_1_19.png', 'CEDAR/1\\\\forgeries_1_21.png'), ('CEDAR/1\\\\forgeries_1_19.png', 'CEDAR/1\\\\forgeries_1_22.png'), ('CEDAR/1\\\\forgeries_1_19.png', 'CEDAR/1\\\\forgeries_1_23.png'), ('CEDAR/1\\\\forgeries_1_19.png', 'CEDAR/1\\\\forgeries_1_24.png'), ('CEDAR/1\\\\forgeries_1_19.png', 'CEDAR/1\\\\forgeries_1_3.png'), ('CEDAR/1\\\\forgeries_1_19.png', 'CEDAR/1\\\\forgeries_1_4.png'), ('CEDAR/1\\\\forgeries_1_19.png', 'CEDAR/1\\\\forgeries_1_5.png'), ('CEDAR/1\\\\forgeries_1_19.png', 'CEDAR/1\\\\forgeries_1_6.png'), ('CEDAR/1\\\\forgeries_1_19.png', 'CEDAR/1\\\\forgeries_1_7.png'), ('CEDAR/1\\\\forgeries_1_19.png', 'CEDAR/1\\\\forgeries_1_8.png'), ('CEDAR/1\\\\forgeries_1_19.png', 'CEDAR/1\\\\forgeries_1_9.png'), ('CEDAR/1\\\\forgeries_1_19.png', 'CEDAR/1\\\\original_1_1.png'), ('CEDAR/1\\\\forgeries_1_19.png', 'CEDAR/1\\\\original_1_10.png'), ('CEDAR/1\\\\forgeries_1_19.png', 'CEDAR/1\\\\original_1_11.png'), ('CEDAR/1\\\\forgeries_1_19.png', 'CEDAR/1\\\\original_1_12.png'), ('CEDAR/1\\\\forgeries_1_19.png', 'CEDAR/1\\\\original_1_13.png'), ('CEDAR/1\\\\forgeries_1_19.png', 'CEDAR/1\\\\original_1_14.png'), ('CEDAR/1\\\\forgeries_1_19.png', 'CEDAR/1\\\\original_1_15.png'), ('CEDAR/1\\\\forgeries_1_19.png', 'CEDAR/1\\\\original_1_16.png'), ('CEDAR/1\\\\forgeries_1_19.png', 'CEDAR/1\\\\original_1_17.png'), ('CEDAR/1\\\\forgeries_1_19.png', 'CEDAR/1\\\\original_1_18.png'), ('CEDAR/1\\\\forgeries_1_19.png', 'CEDAR/1\\\\original_1_19.png'), ('CEDAR/1\\\\forgeries_1_19.png', 'CEDAR/1\\\\original_1_2.png'), ('CEDAR/1\\\\forgeries_1_19.png', 'CEDAR/1\\\\original_1_20.png'), ('CEDAR/1\\\\forgeries_1_19.png', 'CEDAR/1\\\\original_1_21.png'), ('CEDAR/1\\\\forgeries_1_19.png', 'CEDAR/1\\\\original_1_22.png'), ('CEDAR/1\\\\forgeries_1_19.png', 'CEDAR/1\\\\original_1_23.png'), ('CEDAR/1\\\\forgeries_1_19.png', 'CEDAR/1\\\\original_1_24.png'), ('CEDAR/1\\\\forgeries_1_19.png', 'CEDAR/1\\\\original_1_3.png'), ('CEDAR/1\\\\forgeries_1_19.png', 'CEDAR/1\\\\original_1_4.png'), ('CEDAR/1\\\\forgeries_1_19.png', 'CEDAR/1\\\\original_1_5.png'), ('CEDAR/1\\\\forgeries_1_19.png', 'CEDAR/1\\\\original_1_6.png'), ('CEDAR/1\\\\forgeries_1_19.png', 'CEDAR/1\\\\original_1_7.png'), ('CEDAR/1\\\\forgeries_1_19.png', 'CEDAR/1\\\\original_1_8.png'), ('CEDAR/1\\\\forgeries_1_19.png', 'CEDAR/1\\\\original_1_9.png'), ('CEDAR/1\\\\forgeries_1_2.png', 'CEDAR/1\\\\forgeries_1_20.png'), ('CEDAR/1\\\\forgeries_1_2.png', 'CEDAR/1\\\\forgeries_1_21.png'), ('CEDAR/1\\\\forgeries_1_2.png', 'CEDAR/1\\\\forgeries_1_22.png'), ('CEDAR/1\\\\forgeries_1_2.png', 'CEDAR/1\\\\forgeries_1_23.png'), ('CEDAR/1\\\\forgeries_1_2.png', 'CEDAR/1\\\\forgeries_1_24.png'), ('CEDAR/1\\\\forgeries_1_2.png', 'CEDAR/1\\\\forgeries_1_3.png'), ('CEDAR/1\\\\forgeries_1_2.png', 'CEDAR/1\\\\forgeries_1_4.png'), ('CEDAR/1\\\\forgeries_1_2.png', 'CEDAR/1\\\\forgeries_1_5.png'), ('CEDAR/1\\\\forgeries_1_2.png', 'CEDAR/1\\\\forgeries_1_6.png'), ('CEDAR/1\\\\forgeries_1_2.png', 'CEDAR/1\\\\forgeries_1_7.png'), ('CEDAR/1\\\\forgeries_1_2.png', 'CEDAR/1\\\\forgeries_1_8.png'), ('CEDAR/1\\\\forgeries_1_2.png', 'CEDAR/1\\\\forgeries_1_9.png'), ('CEDAR/1\\\\forgeries_1_2.png', 'CEDAR/1\\\\original_1_1.png'), ('CEDAR/1\\\\forgeries_1_2.png', 'CEDAR/1\\\\original_1_10.png'), ('CEDAR/1\\\\forgeries_1_2.png', 'CEDAR/1\\\\original_1_11.png'), ('CEDAR/1\\\\forgeries_1_2.png', 'CEDAR/1\\\\original_1_12.png'), ('CEDAR/1\\\\forgeries_1_2.png', 'CEDAR/1\\\\original_1_13.png'), ('CEDAR/1\\\\forgeries_1_2.png', 'CEDAR/1\\\\original_1_14.png'), ('CEDAR/1\\\\forgeries_1_2.png', 'CEDAR/1\\\\original_1_15.png'), ('CEDAR/1\\\\forgeries_1_2.png', 'CEDAR/1\\\\original_1_16.png'), ('CEDAR/1\\\\forgeries_1_2.png', 'CEDAR/1\\\\original_1_17.png'), ('CEDAR/1\\\\forgeries_1_2.png', 'CEDAR/1\\\\original_1_18.png'), ('CEDAR/1\\\\forgeries_1_2.png', 'CEDAR/1\\\\original_1_19.png'), ('CEDAR/1\\\\forgeries_1_2.png', 'CEDAR/1\\\\original_1_2.png'), ('CEDAR/1\\\\forgeries_1_2.png', 'CEDAR/1\\\\original_1_20.png'), ('CEDAR/1\\\\forgeries_1_2.png', 'CEDAR/1\\\\original_1_21.png'), ('CEDAR/1\\\\forgeries_1_2.png', 'CEDAR/1\\\\original_1_22.png'), ('CEDAR/1\\\\forgeries_1_2.png', 'CEDAR/1\\\\original_1_23.png'), ('CEDAR/1\\\\forgeries_1_2.png', 'CEDAR/1\\\\original_1_24.png'), ('CEDAR/1\\\\forgeries_1_2.png', 'CEDAR/1\\\\original_1_3.png'), ('CEDAR/1\\\\forgeries_1_2.png', 'CEDAR/1\\\\original_1_4.png'), ('CEDAR/1\\\\forgeries_1_2.png', 'CEDAR/1\\\\original_1_5.png'), ('CEDAR/1\\\\forgeries_1_2.png', 'CEDAR/1\\\\original_1_6.png'), ('CEDAR/1\\\\forgeries_1_2.png', 'CEDAR/1\\\\original_1_7.png'), ('CEDAR/1\\\\forgeries_1_2.png', 'CEDAR/1\\\\original_1_8.png'), ('CEDAR/1\\\\forgeries_1_2.png', 'CEDAR/1\\\\original_1_9.png'), ('CEDAR/1\\\\forgeries_1_20.png', 'CEDAR/1\\\\forgeries_1_21.png'), ('CEDAR/1\\\\forgeries_1_20.png', 'CEDAR/1\\\\forgeries_1_22.png'), ('CEDAR/1\\\\forgeries_1_20.png', 'CEDAR/1\\\\forgeries_1_23.png'), ('CEDAR/1\\\\forgeries_1_20.png', 'CEDAR/1\\\\forgeries_1_24.png'), ('CEDAR/1\\\\forgeries_1_20.png', 'CEDAR/1\\\\forgeries_1_3.png'), ('CEDAR/1\\\\forgeries_1_20.png', 'CEDAR/1\\\\forgeries_1_4.png'), ('CEDAR/1\\\\forgeries_1_20.png', 'CEDAR/1\\\\forgeries_1_5.png'), ('CEDAR/1\\\\forgeries_1_20.png', 'CEDAR/1\\\\forgeries_1_6.png'), ('CEDAR/1\\\\forgeries_1_20.png', 'CEDAR/1\\\\forgeries_1_7.png'), ('CEDAR/1\\\\forgeries_1_20.png', 'CEDAR/1\\\\forgeries_1_8.png'), ('CEDAR/1\\\\forgeries_1_20.png', 'CEDAR/1\\\\forgeries_1_9.png'), ('CEDAR/1\\\\forgeries_1_20.png', 'CEDAR/1\\\\original_1_1.png'), ('CEDAR/1\\\\forgeries_1_20.png', 'CEDAR/1\\\\original_1_10.png'), ('CEDAR/1\\\\forgeries_1_20.png', 'CEDAR/1\\\\original_1_11.png'), ('CEDAR/1\\\\forgeries_1_20.png', 'CEDAR/1\\\\original_1_12.png'), ('CEDAR/1\\\\forgeries_1_20.png', 'CEDAR/1\\\\original_1_13.png'), ('CEDAR/1\\\\forgeries_1_20.png', 'CEDAR/1\\\\original_1_14.png'), ('CEDAR/1\\\\forgeries_1_20.png', 'CEDAR/1\\\\original_1_15.png'), ('CEDAR/1\\\\forgeries_1_20.png', 'CEDAR/1\\\\original_1_16.png'), ('CEDAR/1\\\\forgeries_1_20.png', 'CEDAR/1\\\\original_1_17.png'), ('CEDAR/1\\\\forgeries_1_20.png', 'CEDAR/1\\\\original_1_18.png'), ('CEDAR/1\\\\forgeries_1_20.png', 'CEDAR/1\\\\original_1_19.png'), ('CEDAR/1\\\\forgeries_1_20.png', 'CEDAR/1\\\\original_1_2.png'), ('CEDAR/1\\\\forgeries_1_20.png', 'CEDAR/1\\\\original_1_20.png'), ('CEDAR/1\\\\forgeries_1_20.png', 'CEDAR/1\\\\original_1_21.png'), ('CEDAR/1\\\\forgeries_1_20.png', 'CEDAR/1\\\\original_1_22.png'), ('CEDAR/1\\\\forgeries_1_20.png', 'CEDAR/1\\\\original_1_23.png'), ('CEDAR/1\\\\forgeries_1_20.png', 'CEDAR/1\\\\original_1_24.png'), ('CEDAR/1\\\\forgeries_1_20.png', 'CEDAR/1\\\\original_1_3.png'), ('CEDAR/1\\\\forgeries_1_20.png', 'CEDAR/1\\\\original_1_4.png'), ('CEDAR/1\\\\forgeries_1_20.png', 'CEDAR/1\\\\original_1_5.png'), ('CEDAR/1\\\\forgeries_1_20.png', 'CEDAR/1\\\\original_1_6.png'), ('CEDAR/1\\\\forgeries_1_20.png', 'CEDAR/1\\\\original_1_7.png'), ('CEDAR/1\\\\forgeries_1_20.png', 'CEDAR/1\\\\original_1_8.png'), ('CEDAR/1\\\\forgeries_1_20.png', 'CEDAR/1\\\\original_1_9.png'), ('CEDAR/1\\\\forgeries_1_21.png', 'CEDAR/1\\\\forgeries_1_22.png'), ('CEDAR/1\\\\forgeries_1_21.png', 'CEDAR/1\\\\forgeries_1_23.png'), ('CEDAR/1\\\\forgeries_1_21.png', 'CEDAR/1\\\\forgeries_1_24.png'), ('CEDAR/1\\\\forgeries_1_21.png', 'CEDAR/1\\\\forgeries_1_3.png'), ('CEDAR/1\\\\forgeries_1_21.png', 'CEDAR/1\\\\forgeries_1_4.png'), ('CEDAR/1\\\\forgeries_1_21.png', 'CEDAR/1\\\\forgeries_1_5.png'), ('CEDAR/1\\\\forgeries_1_21.png', 'CEDAR/1\\\\forgeries_1_6.png'), ('CEDAR/1\\\\forgeries_1_21.png', 'CEDAR/1\\\\forgeries_1_7.png'), ('CEDAR/1\\\\forgeries_1_21.png', 'CEDAR/1\\\\forgeries_1_8.png'), ('CEDAR/1\\\\forgeries_1_21.png', 'CEDAR/1\\\\forgeries_1_9.png'), ('CEDAR/1\\\\forgeries_1_21.png', 'CEDAR/1\\\\original_1_1.png'), ('CEDAR/1\\\\forgeries_1_21.png', 'CEDAR/1\\\\original_1_10.png'), ('CEDAR/1\\\\forgeries_1_21.png', 'CEDAR/1\\\\original_1_11.png'), ('CEDAR/1\\\\forgeries_1_21.png', 'CEDAR/1\\\\original_1_12.png'), ('CEDAR/1\\\\forgeries_1_21.png', 'CEDAR/1\\\\original_1_13.png'), ('CEDAR/1\\\\forgeries_1_21.png', 'CEDAR/1\\\\original_1_14.png'), ('CEDAR/1\\\\forgeries_1_21.png', 'CEDAR/1\\\\original_1_15.png'), ('CEDAR/1\\\\forgeries_1_21.png', 'CEDAR/1\\\\original_1_16.png'), ('CEDAR/1\\\\forgeries_1_21.png', 'CEDAR/1\\\\original_1_17.png'), ('CEDAR/1\\\\forgeries_1_21.png', 'CEDAR/1\\\\original_1_18.png'), ('CEDAR/1\\\\forgeries_1_21.png', 'CEDAR/1\\\\original_1_19.png'), ('CEDAR/1\\\\forgeries_1_21.png', 'CEDAR/1\\\\original_1_2.png'), ('CEDAR/1\\\\forgeries_1_21.png', 'CEDAR/1\\\\original_1_20.png'), ('CEDAR/1\\\\forgeries_1_21.png', 'CEDAR/1\\\\original_1_21.png'), ('CEDAR/1\\\\forgeries_1_21.png', 'CEDAR/1\\\\original_1_22.png'), ('CEDAR/1\\\\forgeries_1_21.png', 'CEDAR/1\\\\original_1_23.png'), ('CEDAR/1\\\\forgeries_1_21.png', 'CEDAR/1\\\\original_1_24.png'), ('CEDAR/1\\\\forgeries_1_21.png', 'CEDAR/1\\\\original_1_3.png'), ('CEDAR/1\\\\forgeries_1_21.png', 'CEDAR/1\\\\original_1_4.png'), ('CEDAR/1\\\\forgeries_1_21.png', 'CEDAR/1\\\\original_1_5.png'), ('CEDAR/1\\\\forgeries_1_21.png', 'CEDAR/1\\\\original_1_6.png'), ('CEDAR/1\\\\forgeries_1_21.png', 'CEDAR/1\\\\original_1_7.png'), ('CEDAR/1\\\\forgeries_1_21.png', 'CEDAR/1\\\\original_1_8.png'), ('CEDAR/1\\\\forgeries_1_21.png', 'CEDAR/1\\\\original_1_9.png'), ('CEDAR/1\\\\forgeries_1_22.png', 'CEDAR/1\\\\forgeries_1_23.png'), ('CEDAR/1\\\\forgeries_1_22.png', 'CEDAR/1\\\\forgeries_1_24.png'), ('CEDAR/1\\\\forgeries_1_22.png', 'CEDAR/1\\\\forgeries_1_3.png'), ('CEDAR/1\\\\forgeries_1_22.png', 'CEDAR/1\\\\forgeries_1_4.png'), ('CEDAR/1\\\\forgeries_1_22.png', 'CEDAR/1\\\\forgeries_1_5.png'), ('CEDAR/1\\\\forgeries_1_22.png', 'CEDAR/1\\\\forgeries_1_6.png'), ('CEDAR/1\\\\forgeries_1_22.png', 'CEDAR/1\\\\forgeries_1_7.png'), ('CEDAR/1\\\\forgeries_1_22.png', 'CEDAR/1\\\\forgeries_1_8.png'), ('CEDAR/1\\\\forgeries_1_22.png', 'CEDAR/1\\\\forgeries_1_9.png'), ('CEDAR/1\\\\forgeries_1_22.png', 'CEDAR/1\\\\original_1_1.png'), ('CEDAR/1\\\\forgeries_1_22.png', 'CEDAR/1\\\\original_1_10.png'), ('CEDAR/1\\\\forgeries_1_22.png', 'CEDAR/1\\\\original_1_11.png'), ('CEDAR/1\\\\forgeries_1_22.png', 'CEDAR/1\\\\original_1_12.png'), ('CEDAR/1\\\\forgeries_1_22.png', 'CEDAR/1\\\\original_1_13.png'), ('CEDAR/1\\\\forgeries_1_22.png', 'CEDAR/1\\\\original_1_14.png'), ('CEDAR/1\\\\forgeries_1_22.png', 'CEDAR/1\\\\original_1_15.png'), ('CEDAR/1\\\\forgeries_1_22.png', 'CEDAR/1\\\\original_1_16.png'), ('CEDAR/1\\\\forgeries_1_22.png', 'CEDAR/1\\\\original_1_17.png'), ('CEDAR/1\\\\forgeries_1_22.png', 'CEDAR/1\\\\original_1_18.png'), ('CEDAR/1\\\\forgeries_1_22.png', 'CEDAR/1\\\\original_1_19.png'), ('CEDAR/1\\\\forgeries_1_22.png', 'CEDAR/1\\\\original_1_2.png'), ('CEDAR/1\\\\forgeries_1_22.png', 'CEDAR/1\\\\original_1_20.png'), ('CEDAR/1\\\\forgeries_1_22.png', 'CEDAR/1\\\\original_1_21.png'), ('CEDAR/1\\\\forgeries_1_22.png', 'CEDAR/1\\\\original_1_22.png'), ('CEDAR/1\\\\forgeries_1_22.png', 'CEDAR/1\\\\original_1_23.png'), ('CEDAR/1\\\\forgeries_1_22.png', 'CEDAR/1\\\\original_1_24.png'), ('CEDAR/1\\\\forgeries_1_22.png', 'CEDAR/1\\\\original_1_3.png'), ('CEDAR/1\\\\forgeries_1_22.png', 'CEDAR/1\\\\original_1_4.png'), ('CEDAR/1\\\\forgeries_1_22.png', 'CEDAR/1\\\\original_1_5.png'), ('CEDAR/1\\\\forgeries_1_22.png', 'CEDAR/1\\\\original_1_6.png'), ('CEDAR/1\\\\forgeries_1_22.png', 'CEDAR/1\\\\original_1_7.png'), ('CEDAR/1\\\\forgeries_1_22.png', 'CEDAR/1\\\\original_1_8.png'), ('CEDAR/1\\\\forgeries_1_22.png', 'CEDAR/1\\\\original_1_9.png'), ('CEDAR/1\\\\forgeries_1_23.png', 'CEDAR/1\\\\forgeries_1_24.png'), ('CEDAR/1\\\\forgeries_1_23.png', 'CEDAR/1\\\\forgeries_1_3.png'), ('CEDAR/1\\\\forgeries_1_23.png', 'CEDAR/1\\\\forgeries_1_4.png'), ('CEDAR/1\\\\forgeries_1_23.png', 'CEDAR/1\\\\forgeries_1_5.png'), ('CEDAR/1\\\\forgeries_1_23.png', 'CEDAR/1\\\\forgeries_1_6.png'), ('CEDAR/1\\\\forgeries_1_23.png', 'CEDAR/1\\\\forgeries_1_7.png'), ('CEDAR/1\\\\forgeries_1_23.png', 'CEDAR/1\\\\forgeries_1_8.png'), ('CEDAR/1\\\\forgeries_1_23.png', 'CEDAR/1\\\\forgeries_1_9.png'), ('CEDAR/1\\\\forgeries_1_23.png', 'CEDAR/1\\\\original_1_1.png'), ('CEDAR/1\\\\forgeries_1_23.png', 'CEDAR/1\\\\original_1_10.png'), ('CEDAR/1\\\\forgeries_1_23.png', 'CEDAR/1\\\\original_1_11.png'), ('CEDAR/1\\\\forgeries_1_23.png', 'CEDAR/1\\\\original_1_12.png'), ('CEDAR/1\\\\forgeries_1_23.png', 'CEDAR/1\\\\original_1_13.png'), ('CEDAR/1\\\\forgeries_1_23.png', 'CEDAR/1\\\\original_1_14.png'), ('CEDAR/1\\\\forgeries_1_23.png', 'CEDAR/1\\\\original_1_15.png'), ('CEDAR/1\\\\forgeries_1_23.png', 'CEDAR/1\\\\original_1_16.png'), ('CEDAR/1\\\\forgeries_1_23.png', 'CEDAR/1\\\\original_1_17.png'), ('CEDAR/1\\\\forgeries_1_23.png', 'CEDAR/1\\\\original_1_18.png'), ('CEDAR/1\\\\forgeries_1_23.png', 'CEDAR/1\\\\original_1_19.png'), ('CEDAR/1\\\\forgeries_1_23.png', 'CEDAR/1\\\\original_1_2.png'), ('CEDAR/1\\\\forgeries_1_23.png', 'CEDAR/1\\\\original_1_20.png'), ('CEDAR/1\\\\forgeries_1_23.png', 'CEDAR/1\\\\original_1_21.png'), ('CEDAR/1\\\\forgeries_1_23.png', 'CEDAR/1\\\\original_1_22.png'), ('CEDAR/1\\\\forgeries_1_23.png', 'CEDAR/1\\\\original_1_23.png'), ('CEDAR/1\\\\forgeries_1_23.png', 'CEDAR/1\\\\original_1_24.png'), ('CEDAR/1\\\\forgeries_1_23.png', 'CEDAR/1\\\\original_1_3.png'), ('CEDAR/1\\\\forgeries_1_23.png', 'CEDAR/1\\\\original_1_4.png'), ('CEDAR/1\\\\forgeries_1_23.png', 'CEDAR/1\\\\original_1_5.png'), ('CEDAR/1\\\\forgeries_1_23.png', 'CEDAR/1\\\\original_1_6.png'), ('CEDAR/1\\\\forgeries_1_23.png', 'CEDAR/1\\\\original_1_7.png'), ('CEDAR/1\\\\forgeries_1_23.png', 'CEDAR/1\\\\original_1_8.png'), ('CEDAR/1\\\\forgeries_1_23.png', 'CEDAR/1\\\\original_1_9.png'), ('CEDAR/1\\\\forgeries_1_24.png', 'CEDAR/1\\\\forgeries_1_3.png'), ('CEDAR/1\\\\forgeries_1_24.png', 'CEDAR/1\\\\forgeries_1_4.png'), ('CEDAR/1\\\\forgeries_1_24.png', 'CEDAR/1\\\\forgeries_1_5.png'), ('CEDAR/1\\\\forgeries_1_24.png', 'CEDAR/1\\\\forgeries_1_6.png'), ('CEDAR/1\\\\forgeries_1_24.png', 'CEDAR/1\\\\forgeries_1_7.png'), ('CEDAR/1\\\\forgeries_1_24.png', 'CEDAR/1\\\\forgeries_1_8.png'), ('CEDAR/1\\\\forgeries_1_24.png', 'CEDAR/1\\\\forgeries_1_9.png'), ('CEDAR/1\\\\forgeries_1_24.png', 'CEDAR/1\\\\original_1_1.png'), ('CEDAR/1\\\\forgeries_1_24.png', 'CEDAR/1\\\\original_1_10.png'), ('CEDAR/1\\\\forgeries_1_24.png', 'CEDAR/1\\\\original_1_11.png'), ('CEDAR/1\\\\forgeries_1_24.png', 'CEDAR/1\\\\original_1_12.png'), ('CEDAR/1\\\\forgeries_1_24.png', 'CEDAR/1\\\\original_1_13.png'), ('CEDAR/1\\\\forgeries_1_24.png', 'CEDAR/1\\\\original_1_14.png'), ('CEDAR/1\\\\forgeries_1_24.png', 'CEDAR/1\\\\original_1_15.png'), ('CEDAR/1\\\\forgeries_1_24.png', 'CEDAR/1\\\\original_1_16.png'), ('CEDAR/1\\\\forgeries_1_24.png', 'CEDAR/1\\\\original_1_17.png'), ('CEDAR/1\\\\forgeries_1_24.png', 'CEDAR/1\\\\original_1_18.png'), ('CEDAR/1\\\\forgeries_1_24.png', 'CEDAR/1\\\\original_1_19.png'), ('CEDAR/1\\\\forgeries_1_24.png', 'CEDAR/1\\\\original_1_2.png'), ('CEDAR/1\\\\forgeries_1_24.png', 'CEDAR/1\\\\original_1_20.png'), ('CEDAR/1\\\\forgeries_1_24.png', 'CEDAR/1\\\\original_1_21.png'), ('CEDAR/1\\\\forgeries_1_24.png', 'CEDAR/1\\\\original_1_22.png'), ('CEDAR/1\\\\forgeries_1_24.png', 'CEDAR/1\\\\original_1_23.png'), ('CEDAR/1\\\\forgeries_1_24.png', 'CEDAR/1\\\\original_1_24.png'), ('CEDAR/1\\\\forgeries_1_24.png', 'CEDAR/1\\\\original_1_3.png'), ('CEDAR/1\\\\forgeries_1_24.png', 'CEDAR/1\\\\original_1_4.png'), ('CEDAR/1\\\\forgeries_1_24.png', 'CEDAR/1\\\\original_1_5.png'), ('CEDAR/1\\\\forgeries_1_24.png', 'CEDAR/1\\\\original_1_6.png'), ('CEDAR/1\\\\forgeries_1_24.png', 'CEDAR/1\\\\original_1_7.png'), ('CEDAR/1\\\\forgeries_1_24.png', 'CEDAR/1\\\\original_1_8.png'), ('CEDAR/1\\\\forgeries_1_24.png', 'CEDAR/1\\\\original_1_9.png'), ('CEDAR/1\\\\forgeries_1_3.png', 'CEDAR/1\\\\forgeries_1_4.png'), ('CEDAR/1\\\\forgeries_1_3.png', 'CEDAR/1\\\\forgeries_1_5.png'), ('CEDAR/1\\\\forgeries_1_3.png', 'CEDAR/1\\\\forgeries_1_6.png'), ('CEDAR/1\\\\forgeries_1_3.png', 'CEDAR/1\\\\forgeries_1_7.png'), ('CEDAR/1\\\\forgeries_1_3.png', 'CEDAR/1\\\\forgeries_1_8.png'), ('CEDAR/1\\\\forgeries_1_3.png', 'CEDAR/1\\\\forgeries_1_9.png'), ('CEDAR/1\\\\forgeries_1_3.png', 'CEDAR/1\\\\original_1_1.png'), ('CEDAR/1\\\\forgeries_1_3.png', 'CEDAR/1\\\\original_1_10.png'), ('CEDAR/1\\\\forgeries_1_3.png', 'CEDAR/1\\\\original_1_11.png'), ('CEDAR/1\\\\forgeries_1_3.png', 'CEDAR/1\\\\original_1_12.png'), ('CEDAR/1\\\\forgeries_1_3.png', 'CEDAR/1\\\\original_1_13.png'), ('CEDAR/1\\\\forgeries_1_3.png', 'CEDAR/1\\\\original_1_14.png'), ('CEDAR/1\\\\forgeries_1_3.png', 'CEDAR/1\\\\original_1_15.png'), ('CEDAR/1\\\\forgeries_1_3.png', 'CEDAR/1\\\\original_1_16.png'), ('CEDAR/1\\\\forgeries_1_3.png', 'CEDAR/1\\\\original_1_17.png'), ('CEDAR/1\\\\forgeries_1_3.png', 'CEDAR/1\\\\original_1_18.png'), ('CEDAR/1\\\\forgeries_1_3.png', 'CEDAR/1\\\\original_1_19.png'), ('CEDAR/1\\\\forgeries_1_3.png', 'CEDAR/1\\\\original_1_2.png'), ('CEDAR/1\\\\forgeries_1_3.png', 'CEDAR/1\\\\original_1_20.png'), ('CEDAR/1\\\\forgeries_1_3.png', 'CEDAR/1\\\\original_1_21.png'), ('CEDAR/1\\\\forgeries_1_3.png', 'CEDAR/1\\\\original_1_22.png'), ('CEDAR/1\\\\forgeries_1_3.png', 'CEDAR/1\\\\original_1_23.png'), ('CEDAR/1\\\\forgeries_1_3.png', 'CEDAR/1\\\\original_1_24.png'), ('CEDAR/1\\\\forgeries_1_3.png', 'CEDAR/1\\\\original_1_3.png'), ('CEDAR/1\\\\forgeries_1_3.png', 'CEDAR/1\\\\original_1_4.png'), ('CEDAR/1\\\\forgeries_1_3.png', 'CEDAR/1\\\\original_1_5.png'), ('CEDAR/1\\\\forgeries_1_3.png', 'CEDAR/1\\\\original_1_6.png'), ('CEDAR/1\\\\forgeries_1_3.png', 'CEDAR/1\\\\original_1_7.png'), ('CEDAR/1\\\\forgeries_1_3.png', 'CEDAR/1\\\\original_1_8.png'), ('CEDAR/1\\\\forgeries_1_3.png', 'CEDAR/1\\\\original_1_9.png'), ('CEDAR/1\\\\forgeries_1_4.png', 'CEDAR/1\\\\forgeries_1_5.png'), ('CEDAR/1\\\\forgeries_1_4.png', 'CEDAR/1\\\\forgeries_1_6.png'), ('CEDAR/1\\\\forgeries_1_4.png', 'CEDAR/1\\\\forgeries_1_7.png'), ('CEDAR/1\\\\forgeries_1_4.png', 'CEDAR/1\\\\forgeries_1_8.png'), ('CEDAR/1\\\\forgeries_1_4.png', 'CEDAR/1\\\\forgeries_1_9.png'), ('CEDAR/1\\\\forgeries_1_4.png', 'CEDAR/1\\\\original_1_1.png'), ('CEDAR/1\\\\forgeries_1_4.png', 'CEDAR/1\\\\original_1_10.png'), ('CEDAR/1\\\\forgeries_1_4.png', 'CEDAR/1\\\\original_1_11.png'), ('CEDAR/1\\\\forgeries_1_4.png', 'CEDAR/1\\\\original_1_12.png'), ('CEDAR/1\\\\forgeries_1_4.png', 'CEDAR/1\\\\original_1_13.png'), ('CEDAR/1\\\\forgeries_1_4.png', 'CEDAR/1\\\\original_1_14.png'), ('CEDAR/1\\\\forgeries_1_4.png', 'CEDAR/1\\\\original_1_15.png'), ('CEDAR/1\\\\forgeries_1_4.png', 'CEDAR/1\\\\original_1_16.png'), ('CEDAR/1\\\\forgeries_1_4.png', 'CEDAR/1\\\\original_1_17.png'), ('CEDAR/1\\\\forgeries_1_4.png', 'CEDAR/1\\\\original_1_18.png'), ('CEDAR/1\\\\forgeries_1_4.png', 'CEDAR/1\\\\original_1_19.png'), ('CEDAR/1\\\\forgeries_1_4.png', 'CEDAR/1\\\\original_1_2.png'), ('CEDAR/1\\\\forgeries_1_4.png', 'CEDAR/1\\\\original_1_20.png'), ('CEDAR/1\\\\forgeries_1_4.png', 'CEDAR/1\\\\original_1_21.png'), ('CEDAR/1\\\\forgeries_1_4.png', 'CEDAR/1\\\\original_1_22.png'), ('CEDAR/1\\\\forgeries_1_4.png', 'CEDAR/1\\\\original_1_23.png'), ('CEDAR/1\\\\forgeries_1_4.png', 'CEDAR/1\\\\original_1_24.png'), ('CEDAR/1\\\\forgeries_1_4.png', 'CEDAR/1\\\\original_1_3.png'), ('CEDAR/1\\\\forgeries_1_4.png', 'CEDAR/1\\\\original_1_4.png'), ('CEDAR/1\\\\forgeries_1_4.png', 'CEDAR/1\\\\original_1_5.png'), ('CEDAR/1\\\\forgeries_1_4.png', 'CEDAR/1\\\\original_1_6.png'), ('CEDAR/1\\\\forgeries_1_4.png', 'CEDAR/1\\\\original_1_7.png'), ('CEDAR/1\\\\forgeries_1_4.png', 'CEDAR/1\\\\original_1_8.png'), ('CEDAR/1\\\\forgeries_1_4.png', 'CEDAR/1\\\\original_1_9.png'), ('CEDAR/1\\\\forgeries_1_5.png', 'CEDAR/1\\\\forgeries_1_6.png'), ('CEDAR/1\\\\forgeries_1_5.png', 'CEDAR/1\\\\forgeries_1_7.png'), ('CEDAR/1\\\\forgeries_1_5.png', 'CEDAR/1\\\\forgeries_1_8.png'), ('CEDAR/1\\\\forgeries_1_5.png', 'CEDAR/1\\\\forgeries_1_9.png'), ('CEDAR/1\\\\forgeries_1_5.png', 'CEDAR/1\\\\original_1_1.png'), ('CEDAR/1\\\\forgeries_1_5.png', 'CEDAR/1\\\\original_1_10.png'), ('CEDAR/1\\\\forgeries_1_5.png', 'CEDAR/1\\\\original_1_11.png'), ('CEDAR/1\\\\forgeries_1_5.png', 'CEDAR/1\\\\original_1_12.png'), ('CEDAR/1\\\\forgeries_1_5.png', 'CEDAR/1\\\\original_1_13.png'), ('CEDAR/1\\\\forgeries_1_5.png', 'CEDAR/1\\\\original_1_14.png'), ('CEDAR/1\\\\forgeries_1_5.png', 'CEDAR/1\\\\original_1_15.png'), ('CEDAR/1\\\\forgeries_1_5.png', 'CEDAR/1\\\\original_1_16.png'), ('CEDAR/1\\\\forgeries_1_5.png', 'CEDAR/1\\\\original_1_17.png'), ('CEDAR/1\\\\forgeries_1_5.png', 'CEDAR/1\\\\original_1_18.png'), ('CEDAR/1\\\\forgeries_1_5.png', 'CEDAR/1\\\\original_1_19.png'), ('CEDAR/1\\\\forgeries_1_5.png', 'CEDAR/1\\\\original_1_2.png'), ('CEDAR/1\\\\forgeries_1_5.png', 'CEDAR/1\\\\original_1_20.png'), ('CEDAR/1\\\\forgeries_1_5.png', 'CEDAR/1\\\\original_1_21.png'), ('CEDAR/1\\\\forgeries_1_5.png', 'CEDAR/1\\\\original_1_22.png'), ('CEDAR/1\\\\forgeries_1_5.png', 'CEDAR/1\\\\original_1_23.png'), ('CEDAR/1\\\\forgeries_1_5.png', 'CEDAR/1\\\\original_1_24.png'), ('CEDAR/1\\\\forgeries_1_5.png', 'CEDAR/1\\\\original_1_3.png'), ('CEDAR/1\\\\forgeries_1_5.png', 'CEDAR/1\\\\original_1_4.png'), ('CEDAR/1\\\\forgeries_1_5.png', 'CEDAR/1\\\\original_1_5.png'), ('CEDAR/1\\\\forgeries_1_5.png', 'CEDAR/1\\\\original_1_6.png'), ('CEDAR/1\\\\forgeries_1_5.png', 'CEDAR/1\\\\original_1_7.png'), ('CEDAR/1\\\\forgeries_1_5.png', 'CEDAR/1\\\\original_1_8.png'), ('CEDAR/1\\\\forgeries_1_5.png', 'CEDAR/1\\\\original_1_9.png'), ('CEDAR/1\\\\forgeries_1_6.png', 'CEDAR/1\\\\forgeries_1_7.png'), ('CEDAR/1\\\\forgeries_1_6.png', 'CEDAR/1\\\\forgeries_1_8.png'), ('CEDAR/1\\\\forgeries_1_6.png', 'CEDAR/1\\\\forgeries_1_9.png'), ('CEDAR/1\\\\forgeries_1_6.png', 'CEDAR/1\\\\original_1_1.png'), ('CEDAR/1\\\\forgeries_1_6.png', 'CEDAR/1\\\\original_1_10.png'), ('CEDAR/1\\\\forgeries_1_6.png', 'CEDAR/1\\\\original_1_11.png'), ('CEDAR/1\\\\forgeries_1_6.png', 'CEDAR/1\\\\original_1_12.png'), ('CEDAR/1\\\\forgeries_1_6.png', 'CEDAR/1\\\\original_1_13.png'), ('CEDAR/1\\\\forgeries_1_6.png', 'CEDAR/1\\\\original_1_14.png'), ('CEDAR/1\\\\forgeries_1_6.png', 'CEDAR/1\\\\original_1_15.png'), ('CEDAR/1\\\\forgeries_1_6.png', 'CEDAR/1\\\\original_1_16.png'), ('CEDAR/1\\\\forgeries_1_6.png', 'CEDAR/1\\\\original_1_17.png'), ('CEDAR/1\\\\forgeries_1_6.png', 'CEDAR/1\\\\original_1_18.png'), ('CEDAR/1\\\\forgeries_1_6.png', 'CEDAR/1\\\\original_1_19.png'), ('CEDAR/1\\\\forgeries_1_6.png', 'CEDAR/1\\\\original_1_2.png'), ('CEDAR/1\\\\forgeries_1_6.png', 'CEDAR/1\\\\original_1_20.png'), ('CEDAR/1\\\\forgeries_1_6.png', 'CEDAR/1\\\\original_1_21.png'), ('CEDAR/1\\\\forgeries_1_6.png', 'CEDAR/1\\\\original_1_22.png'), ('CEDAR/1\\\\forgeries_1_6.png', 'CEDAR/1\\\\original_1_23.png'), ('CEDAR/1\\\\forgeries_1_6.png', 'CEDAR/1\\\\original_1_24.png'), ('CEDAR/1\\\\forgeries_1_6.png', 'CEDAR/1\\\\original_1_3.png'), ('CEDAR/1\\\\forgeries_1_6.png', 'CEDAR/1\\\\original_1_4.png'), ('CEDAR/1\\\\forgeries_1_6.png', 'CEDAR/1\\\\original_1_5.png'), ('CEDAR/1\\\\forgeries_1_6.png', 'CEDAR/1\\\\original_1_6.png'), ('CEDAR/1\\\\forgeries_1_6.png', 'CEDAR/1\\\\original_1_7.png'), ('CEDAR/1\\\\forgeries_1_6.png', 'CEDAR/1\\\\original_1_8.png'), ('CEDAR/1\\\\forgeries_1_6.png', 'CEDAR/1\\\\original_1_9.png'), ('CEDAR/1\\\\forgeries_1_7.png', 'CEDAR/1\\\\forgeries_1_8.png'), ('CEDAR/1\\\\forgeries_1_7.png', 'CEDAR/1\\\\forgeries_1_9.png'), ('CEDAR/1\\\\forgeries_1_7.png', 'CEDAR/1\\\\original_1_1.png'), ('CEDAR/1\\\\forgeries_1_7.png', 'CEDAR/1\\\\original_1_10.png'), ('CEDAR/1\\\\forgeries_1_7.png', 'CEDAR/1\\\\original_1_11.png'), ('CEDAR/1\\\\forgeries_1_7.png', 'CEDAR/1\\\\original_1_12.png'), ('CEDAR/1\\\\forgeries_1_7.png', 'CEDAR/1\\\\original_1_13.png'), ('CEDAR/1\\\\forgeries_1_7.png', 'CEDAR/1\\\\original_1_14.png'), ('CEDAR/1\\\\forgeries_1_7.png', 'CEDAR/1\\\\original_1_15.png'), ('CEDAR/1\\\\forgeries_1_7.png', 'CEDAR/1\\\\original_1_16.png'), ('CEDAR/1\\\\forgeries_1_7.png', 'CEDAR/1\\\\original_1_17.png'), ('CEDAR/1\\\\forgeries_1_7.png', 'CEDAR/1\\\\original_1_18.png'), ('CEDAR/1\\\\forgeries_1_7.png', 'CEDAR/1\\\\original_1_19.png'), ('CEDAR/1\\\\forgeries_1_7.png', 'CEDAR/1\\\\original_1_2.png'), ('CEDAR/1\\\\forgeries_1_7.png', 'CEDAR/1\\\\original_1_20.png'), ('CEDAR/1\\\\forgeries_1_7.png', 'CEDAR/1\\\\original_1_21.png'), ('CEDAR/1\\\\forgeries_1_7.png', 'CEDAR/1\\\\original_1_22.png'), ('CEDAR/1\\\\forgeries_1_7.png', 'CEDAR/1\\\\original_1_23.png'), ('CEDAR/1\\\\forgeries_1_7.png', 'CEDAR/1\\\\original_1_24.png'), ('CEDAR/1\\\\forgeries_1_7.png', 'CEDAR/1\\\\original_1_3.png'), ('CEDAR/1\\\\forgeries_1_7.png', 'CEDAR/1\\\\original_1_4.png'), ('CEDAR/1\\\\forgeries_1_7.png', 'CEDAR/1\\\\original_1_5.png'), ('CEDAR/1\\\\forgeries_1_7.png', 'CEDAR/1\\\\original_1_6.png'), ('CEDAR/1\\\\forgeries_1_7.png', 'CEDAR/1\\\\original_1_7.png'), ('CEDAR/1\\\\forgeries_1_7.png', 'CEDAR/1\\\\original_1_8.png'), ('CEDAR/1\\\\forgeries_1_7.png', 'CEDAR/1\\\\original_1_9.png'), ('CEDAR/1\\\\forgeries_1_8.png', 'CEDAR/1\\\\forgeries_1_9.png'), ('CEDAR/1\\\\forgeries_1_8.png', 'CEDAR/1\\\\original_1_1.png'), ('CEDAR/1\\\\forgeries_1_8.png', 'CEDAR/1\\\\original_1_10.png'), ('CEDAR/1\\\\forgeries_1_8.png', 'CEDAR/1\\\\original_1_11.png'), ('CEDAR/1\\\\forgeries_1_8.png', 'CEDAR/1\\\\original_1_12.png'), ('CEDAR/1\\\\forgeries_1_8.png', 'CEDAR/1\\\\original_1_13.png'), ('CEDAR/1\\\\forgeries_1_8.png', 'CEDAR/1\\\\original_1_14.png'), ('CEDAR/1\\\\forgeries_1_8.png', 'CEDAR/1\\\\original_1_15.png'), ('CEDAR/1\\\\forgeries_1_8.png', 'CEDAR/1\\\\original_1_16.png'), ('CEDAR/1\\\\forgeries_1_8.png', 'CEDAR/1\\\\original_1_17.png'), ('CEDAR/1\\\\forgeries_1_8.png', 'CEDAR/1\\\\original_1_18.png'), ('CEDAR/1\\\\forgeries_1_8.png', 'CEDAR/1\\\\original_1_19.png'), ('CEDAR/1\\\\forgeries_1_8.png', 'CEDAR/1\\\\original_1_2.png'), ('CEDAR/1\\\\forgeries_1_8.png', 'CEDAR/1\\\\original_1_20.png'), ('CEDAR/1\\\\forgeries_1_8.png', 'CEDAR/1\\\\original_1_21.png'), ('CEDAR/1\\\\forgeries_1_8.png', 'CEDAR/1\\\\original_1_22.png'), ('CEDAR/1\\\\forgeries_1_8.png', 'CEDAR/1\\\\original_1_23.png'), ('CEDAR/1\\\\forgeries_1_8.png', 'CEDAR/1\\\\original_1_24.png'), ('CEDAR/1\\\\forgeries_1_8.png', 'CEDAR/1\\\\original_1_3.png'), ('CEDAR/1\\\\forgeries_1_8.png', 'CEDAR/1\\\\original_1_4.png'), ('CEDAR/1\\\\forgeries_1_8.png', 'CEDAR/1\\\\original_1_5.png'), ('CEDAR/1\\\\forgeries_1_8.png', 'CEDAR/1\\\\original_1_6.png'), ('CEDAR/1\\\\forgeries_1_8.png', 'CEDAR/1\\\\original_1_7.png'), ('CEDAR/1\\\\forgeries_1_8.png', 'CEDAR/1\\\\original_1_8.png'), ('CEDAR/1\\\\forgeries_1_8.png', 'CEDAR/1\\\\original_1_9.png'), ('CEDAR/1\\\\forgeries_1_9.png', 'CEDAR/1\\\\original_1_1.png'), ('CEDAR/1\\\\forgeries_1_9.png', 'CEDAR/1\\\\original_1_10.png'), ('CEDAR/1\\\\forgeries_1_9.png', 'CEDAR/1\\\\original_1_11.png'), ('CEDAR/1\\\\forgeries_1_9.png', 'CEDAR/1\\\\original_1_12.png'), ('CEDAR/1\\\\forgeries_1_9.png', 'CEDAR/1\\\\original_1_13.png'), ('CEDAR/1\\\\forgeries_1_9.png', 'CEDAR/1\\\\original_1_14.png'), ('CEDAR/1\\\\forgeries_1_9.png', 'CEDAR/1\\\\original_1_15.png'), ('CEDAR/1\\\\forgeries_1_9.png', 'CEDAR/1\\\\original_1_16.png'), ('CEDAR/1\\\\forgeries_1_9.png', 'CEDAR/1\\\\original_1_17.png'), ('CEDAR/1\\\\forgeries_1_9.png', 'CEDAR/1\\\\original_1_18.png'), ('CEDAR/1\\\\forgeries_1_9.png', 'CEDAR/1\\\\original_1_19.png'), ('CEDAR/1\\\\forgeries_1_9.png', 'CEDAR/1\\\\original_1_2.png'), ('CEDAR/1\\\\forgeries_1_9.png', 'CEDAR/1\\\\original_1_20.png'), ('CEDAR/1\\\\forgeries_1_9.png', 'CEDAR/1\\\\original_1_21.png'), ('CEDAR/1\\\\forgeries_1_9.png', 'CEDAR/1\\\\original_1_22.png'), ('CEDAR/1\\\\forgeries_1_9.png', 'CEDAR/1\\\\original_1_23.png'), ('CEDAR/1\\\\forgeries_1_9.png', 'CEDAR/1\\\\original_1_24.png'), ('CEDAR/1\\\\forgeries_1_9.png', 'CEDAR/1\\\\original_1_3.png'), ('CEDAR/1\\\\forgeries_1_9.png', 'CEDAR/1\\\\original_1_4.png'), ('CEDAR/1\\\\forgeries_1_9.png', 'CEDAR/1\\\\original_1_5.png'), ('CEDAR/1\\\\forgeries_1_9.png', 'CEDAR/1\\\\original_1_6.png'), ('CEDAR/1\\\\forgeries_1_9.png', 'CEDAR/1\\\\original_1_7.png'), ('CEDAR/1\\\\forgeries_1_9.png', 'CEDAR/1\\\\original_1_8.png'), ('CEDAR/1\\\\forgeries_1_9.png', 'CEDAR/1\\\\original_1_9.png'), ('CEDAR/1\\\\original_1_1.png', 'CEDAR/1\\\\original_1_10.png'), ('CEDAR/1\\\\original_1_1.png', 'CEDAR/1\\\\original_1_11.png'), ('CEDAR/1\\\\original_1_1.png', 'CEDAR/1\\\\original_1_12.png'), ('CEDAR/1\\\\original_1_1.png', 'CEDAR/1\\\\original_1_13.png'), ('CEDAR/1\\\\original_1_1.png', 'CEDAR/1\\\\original_1_14.png'), ('CEDAR/1\\\\original_1_1.png', 'CEDAR/1\\\\original_1_15.png'), ('CEDAR/1\\\\original_1_1.png', 'CEDAR/1\\\\original_1_16.png'), ('CEDAR/1\\\\original_1_1.png', 'CEDAR/1\\\\original_1_17.png'), ('CEDAR/1\\\\original_1_1.png', 'CEDAR/1\\\\original_1_18.png'), ('CEDAR/1\\\\original_1_1.png', 'CEDAR/1\\\\original_1_19.png'), ('CEDAR/1\\\\original_1_1.png', 'CEDAR/1\\\\original_1_2.png'), ('CEDAR/1\\\\original_1_1.png', 'CEDAR/1\\\\original_1_20.png'), ('CEDAR/1\\\\original_1_1.png', 'CEDAR/1\\\\original_1_21.png'), ('CEDAR/1\\\\original_1_1.png', 'CEDAR/1\\\\original_1_22.png'), ('CEDAR/1\\\\original_1_1.png', 'CEDAR/1\\\\original_1_23.png'), ('CEDAR/1\\\\original_1_1.png', 'CEDAR/1\\\\original_1_24.png'), ('CEDAR/1\\\\original_1_1.png', 'CEDAR/1\\\\original_1_3.png'), ('CEDAR/1\\\\original_1_1.png', 'CEDAR/1\\\\original_1_4.png'), ('CEDAR/1\\\\original_1_1.png', 'CEDAR/1\\\\original_1_5.png'), ('CEDAR/1\\\\original_1_1.png', 'CEDAR/1\\\\original_1_6.png'), ('CEDAR/1\\\\original_1_1.png', 'CEDAR/1\\\\original_1_7.png'), ('CEDAR/1\\\\original_1_1.png', 'CEDAR/1\\\\original_1_8.png'), ('CEDAR/1\\\\original_1_1.png', 'CEDAR/1\\\\original_1_9.png'), ('CEDAR/1\\\\original_1_10.png', 'CEDAR/1\\\\original_1_11.png'), ('CEDAR/1\\\\original_1_10.png', 'CEDAR/1\\\\original_1_12.png'), ('CEDAR/1\\\\original_1_10.png', 'CEDAR/1\\\\original_1_13.png'), ('CEDAR/1\\\\original_1_10.png', 'CEDAR/1\\\\original_1_14.png'), ('CEDAR/1\\\\original_1_10.png', 'CEDAR/1\\\\original_1_15.png'), ('CEDAR/1\\\\original_1_10.png', 'CEDAR/1\\\\original_1_16.png'), ('CEDAR/1\\\\original_1_10.png', 'CEDAR/1\\\\original_1_17.png'), ('CEDAR/1\\\\original_1_10.png', 'CEDAR/1\\\\original_1_18.png'), ('CEDAR/1\\\\original_1_10.png', 'CEDAR/1\\\\original_1_19.png'), ('CEDAR/1\\\\original_1_10.png', 'CEDAR/1\\\\original_1_2.png'), ('CEDAR/1\\\\original_1_10.png', 'CEDAR/1\\\\original_1_20.png'), ('CEDAR/1\\\\original_1_10.png', 'CEDAR/1\\\\original_1_21.png'), ('CEDAR/1\\\\original_1_10.png', 'CEDAR/1\\\\original_1_22.png'), ('CEDAR/1\\\\original_1_10.png', 'CEDAR/1\\\\original_1_23.png'), ('CEDAR/1\\\\original_1_10.png', 'CEDAR/1\\\\original_1_24.png'), ('CEDAR/1\\\\original_1_10.png', 'CEDAR/1\\\\original_1_3.png'), ('CEDAR/1\\\\original_1_10.png', 'CEDAR/1\\\\original_1_4.png'), ('CEDAR/1\\\\original_1_10.png', 'CEDAR/1\\\\original_1_5.png'), ('CEDAR/1\\\\original_1_10.png', 'CEDAR/1\\\\original_1_6.png'), ('CEDAR/1\\\\original_1_10.png', 'CEDAR/1\\\\original_1_7.png'), ('CEDAR/1\\\\original_1_10.png', 'CEDAR/1\\\\original_1_8.png'), ('CEDAR/1\\\\original_1_10.png', 'CEDAR/1\\\\original_1_9.png'), ('CEDAR/1\\\\original_1_11.png', 'CEDAR/1\\\\original_1_12.png'), ('CEDAR/1\\\\original_1_11.png', 'CEDAR/1\\\\original_1_13.png'), ('CEDAR/1\\\\original_1_11.png', 'CEDAR/1\\\\original_1_14.png'), ('CEDAR/1\\\\original_1_11.png', 'CEDAR/1\\\\original_1_15.png'), ('CEDAR/1\\\\original_1_11.png', 'CEDAR/1\\\\original_1_16.png'), ('CEDAR/1\\\\original_1_11.png', 'CEDAR/1\\\\original_1_17.png'), ('CEDAR/1\\\\original_1_11.png', 'CEDAR/1\\\\original_1_18.png'), ('CEDAR/1\\\\original_1_11.png', 'CEDAR/1\\\\original_1_19.png'), ('CEDAR/1\\\\original_1_11.png', 'CEDAR/1\\\\original_1_2.png'), ('CEDAR/1\\\\original_1_11.png', 'CEDAR/1\\\\original_1_20.png'), ('CEDAR/1\\\\original_1_11.png', 'CEDAR/1\\\\original_1_21.png'), ('CEDAR/1\\\\original_1_11.png', 'CEDAR/1\\\\original_1_22.png'), ('CEDAR/1\\\\original_1_11.png', 'CEDAR/1\\\\original_1_23.png'), ('CEDAR/1\\\\original_1_11.png', 'CEDAR/1\\\\original_1_24.png'), ('CEDAR/1\\\\original_1_11.png', 'CEDAR/1\\\\original_1_3.png'), ('CEDAR/1\\\\original_1_11.png', 'CEDAR/1\\\\original_1_4.png'), ('CEDAR/1\\\\original_1_11.png', 'CEDAR/1\\\\original_1_5.png'), ('CEDAR/1\\\\original_1_11.png', 'CEDAR/1\\\\original_1_6.png'), ('CEDAR/1\\\\original_1_11.png', 'CEDAR/1\\\\original_1_7.png'), ('CEDAR/1\\\\original_1_11.png', 'CEDAR/1\\\\original_1_8.png'), ('CEDAR/1\\\\original_1_11.png', 'CEDAR/1\\\\original_1_9.png'), ('CEDAR/1\\\\original_1_12.png', 'CEDAR/1\\\\original_1_13.png'), ('CEDAR/1\\\\original_1_12.png', 'CEDAR/1\\\\original_1_14.png'), ('CEDAR/1\\\\original_1_12.png', 'CEDAR/1\\\\original_1_15.png'), ('CEDAR/1\\\\original_1_12.png', 'CEDAR/1\\\\original_1_16.png'), ('CEDAR/1\\\\original_1_12.png', 'CEDAR/1\\\\original_1_17.png'), ('CEDAR/1\\\\original_1_12.png', 'CEDAR/1\\\\original_1_18.png'), ('CEDAR/1\\\\original_1_12.png', 'CEDAR/1\\\\original_1_19.png'), ('CEDAR/1\\\\original_1_12.png', 'CEDAR/1\\\\original_1_2.png'), ('CEDAR/1\\\\original_1_12.png', 'CEDAR/1\\\\original_1_20.png'), ('CEDAR/1\\\\original_1_12.png', 'CEDAR/1\\\\original_1_21.png'), ('CEDAR/1\\\\original_1_12.png', 'CEDAR/1\\\\original_1_22.png'), ('CEDAR/1\\\\original_1_12.png', 'CEDAR/1\\\\original_1_23.png'), ('CEDAR/1\\\\original_1_12.png', 'CEDAR/1\\\\original_1_24.png'), ('CEDAR/1\\\\original_1_12.png', 'CEDAR/1\\\\original_1_3.png'), ('CEDAR/1\\\\original_1_12.png', 'CEDAR/1\\\\original_1_4.png'), ('CEDAR/1\\\\original_1_12.png', 'CEDAR/1\\\\original_1_5.png'), ('CEDAR/1\\\\original_1_12.png', 'CEDAR/1\\\\original_1_6.png'), ('CEDAR/1\\\\original_1_12.png', 'CEDAR/1\\\\original_1_7.png'), ('CEDAR/1\\\\original_1_12.png', 'CEDAR/1\\\\original_1_8.png'), ('CEDAR/1\\\\original_1_12.png', 'CEDAR/1\\\\original_1_9.png'), ('CEDAR/1\\\\original_1_13.png', 'CEDAR/1\\\\original_1_14.png'), ('CEDAR/1\\\\original_1_13.png', 'CEDAR/1\\\\original_1_15.png'), ('CEDAR/1\\\\original_1_13.png', 'CEDAR/1\\\\original_1_16.png'), ('CEDAR/1\\\\original_1_13.png', 'CEDAR/1\\\\original_1_17.png'), ('CEDAR/1\\\\original_1_13.png', 'CEDAR/1\\\\original_1_18.png'), ('CEDAR/1\\\\original_1_13.png', 'CEDAR/1\\\\original_1_19.png'), ('CEDAR/1\\\\original_1_13.png', 'CEDAR/1\\\\original_1_2.png'), ('CEDAR/1\\\\original_1_13.png', 'CEDAR/1\\\\original_1_20.png'), ('CEDAR/1\\\\original_1_13.png', 'CEDAR/1\\\\original_1_21.png'), ('CEDAR/1\\\\original_1_13.png', 'CEDAR/1\\\\original_1_22.png'), ('CEDAR/1\\\\original_1_13.png', 'CEDAR/1\\\\original_1_23.png'), ('CEDAR/1\\\\original_1_13.png', 'CEDAR/1\\\\original_1_24.png'), ('CEDAR/1\\\\original_1_13.png', 'CEDAR/1\\\\original_1_3.png'), ('CEDAR/1\\\\original_1_13.png', 'CEDAR/1\\\\original_1_4.png'), ('CEDAR/1\\\\original_1_13.png', 'CEDAR/1\\\\original_1_5.png'), ('CEDAR/1\\\\original_1_13.png', 'CEDAR/1\\\\original_1_6.png'), ('CEDAR/1\\\\original_1_13.png', 'CEDAR/1\\\\original_1_7.png'), ('CEDAR/1\\\\original_1_13.png', 'CEDAR/1\\\\original_1_8.png'), ('CEDAR/1\\\\original_1_13.png', 'CEDAR/1\\\\original_1_9.png'), ('CEDAR/1\\\\original_1_14.png', 'CEDAR/1\\\\original_1_15.png'), ('CEDAR/1\\\\original_1_14.png', 'CEDAR/1\\\\original_1_16.png'), ('CEDAR/1\\\\original_1_14.png', 'CEDAR/1\\\\original_1_17.png'), ('CEDAR/1\\\\original_1_14.png', 'CEDAR/1\\\\original_1_18.png'), ('CEDAR/1\\\\original_1_14.png', 'CEDAR/1\\\\original_1_19.png'), ('CEDAR/1\\\\original_1_14.png', 'CEDAR/1\\\\original_1_2.png'), ('CEDAR/1\\\\original_1_14.png', 'CEDAR/1\\\\original_1_20.png'), ('CEDAR/1\\\\original_1_14.png', 'CEDAR/1\\\\original_1_21.png'), ('CEDAR/1\\\\original_1_14.png', 'CEDAR/1\\\\original_1_22.png'), ('CEDAR/1\\\\original_1_14.png', 'CEDAR/1\\\\original_1_23.png'), ('CEDAR/1\\\\original_1_14.png', 'CEDAR/1\\\\original_1_24.png'), ('CEDAR/1\\\\original_1_14.png', 'CEDAR/1\\\\original_1_3.png'), ('CEDAR/1\\\\original_1_14.png', 'CEDAR/1\\\\original_1_4.png'), ('CEDAR/1\\\\original_1_14.png', 'CEDAR/1\\\\original_1_5.png'), ('CEDAR/1\\\\original_1_14.png', 'CEDAR/1\\\\original_1_6.png'), ('CEDAR/1\\\\original_1_14.png', 'CEDAR/1\\\\original_1_7.png'), ('CEDAR/1\\\\original_1_14.png', 'CEDAR/1\\\\original_1_8.png'), ('CEDAR/1\\\\original_1_14.png', 'CEDAR/1\\\\original_1_9.png'), ('CEDAR/1\\\\original_1_15.png', 'CEDAR/1\\\\original_1_16.png'), ('CEDAR/1\\\\original_1_15.png', 'CEDAR/1\\\\original_1_17.png'), ('CEDAR/1\\\\original_1_15.png', 'CEDAR/1\\\\original_1_18.png'), ('CEDAR/1\\\\original_1_15.png', 'CEDAR/1\\\\original_1_19.png'), ('CEDAR/1\\\\original_1_15.png', 'CEDAR/1\\\\original_1_2.png'), ('CEDAR/1\\\\original_1_15.png', 'CEDAR/1\\\\original_1_20.png'), ('CEDAR/1\\\\original_1_15.png', 'CEDAR/1\\\\original_1_21.png'), ('CEDAR/1\\\\original_1_15.png', 'CEDAR/1\\\\original_1_22.png'), ('CEDAR/1\\\\original_1_15.png', 'CEDAR/1\\\\original_1_23.png'), ('CEDAR/1\\\\original_1_15.png', 'CEDAR/1\\\\original_1_24.png'), ('CEDAR/1\\\\original_1_15.png', 'CEDAR/1\\\\original_1_3.png'), ('CEDAR/1\\\\original_1_15.png', 'CEDAR/1\\\\original_1_4.png'), ('CEDAR/1\\\\original_1_15.png', 'CEDAR/1\\\\original_1_5.png'), ('CEDAR/1\\\\original_1_15.png', 'CEDAR/1\\\\original_1_6.png'), ('CEDAR/1\\\\original_1_15.png', 'CEDAR/1\\\\original_1_7.png'), ('CEDAR/1\\\\original_1_15.png', 'CEDAR/1\\\\original_1_8.png'), ('CEDAR/1\\\\original_1_15.png', 'CEDAR/1\\\\original_1_9.png'), ('CEDAR/1\\\\original_1_16.png', 'CEDAR/1\\\\original_1_17.png'), ('CEDAR/1\\\\original_1_16.png', 'CEDAR/1\\\\original_1_18.png'), ('CEDAR/1\\\\original_1_16.png', 'CEDAR/1\\\\original_1_19.png'), ('CEDAR/1\\\\original_1_16.png', 'CEDAR/1\\\\original_1_2.png'), ('CEDAR/1\\\\original_1_16.png', 'CEDAR/1\\\\original_1_20.png'), ('CEDAR/1\\\\original_1_16.png', 'CEDAR/1\\\\original_1_21.png'), ('CEDAR/1\\\\original_1_16.png', 'CEDAR/1\\\\original_1_22.png'), ('CEDAR/1\\\\original_1_16.png', 'CEDAR/1\\\\original_1_23.png'), ('CEDAR/1\\\\original_1_16.png', 'CEDAR/1\\\\original_1_24.png'), ('CEDAR/1\\\\original_1_16.png', 'CEDAR/1\\\\original_1_3.png'), ('CEDAR/1\\\\original_1_16.png', 'CEDAR/1\\\\original_1_4.png'), ('CEDAR/1\\\\original_1_16.png', 'CEDAR/1\\\\original_1_5.png'), ('CEDAR/1\\\\original_1_16.png', 'CEDAR/1\\\\original_1_6.png'), ('CEDAR/1\\\\original_1_16.png', 'CEDAR/1\\\\original_1_7.png'), ('CEDAR/1\\\\original_1_16.png', 'CEDAR/1\\\\original_1_8.png'), ('CEDAR/1\\\\original_1_16.png', 'CEDAR/1\\\\original_1_9.png'), ('CEDAR/1\\\\original_1_17.png', 'CEDAR/1\\\\original_1_18.png'), ('CEDAR/1\\\\original_1_17.png', 'CEDAR/1\\\\original_1_19.png'), ('CEDAR/1\\\\original_1_17.png', 'CEDAR/1\\\\original_1_2.png'), ('CEDAR/1\\\\original_1_17.png', 'CEDAR/1\\\\original_1_20.png'), ('CEDAR/1\\\\original_1_17.png', 'CEDAR/1\\\\original_1_21.png'), ('CEDAR/1\\\\original_1_17.png', 'CEDAR/1\\\\original_1_22.png'), ('CEDAR/1\\\\original_1_17.png', 'CEDAR/1\\\\original_1_23.png'), ('CEDAR/1\\\\original_1_17.png', 'CEDAR/1\\\\original_1_24.png'), ('CEDAR/1\\\\original_1_17.png', 'CEDAR/1\\\\original_1_3.png'), ('CEDAR/1\\\\original_1_17.png', 'CEDAR/1\\\\original_1_4.png'), ('CEDAR/1\\\\original_1_17.png', 'CEDAR/1\\\\original_1_5.png'), ('CEDAR/1\\\\original_1_17.png', 'CEDAR/1\\\\original_1_6.png'), ('CEDAR/1\\\\original_1_17.png', 'CEDAR/1\\\\original_1_7.png'), ('CEDAR/1\\\\original_1_17.png', 'CEDAR/1\\\\original_1_8.png'), ('CEDAR/1\\\\original_1_17.png', 'CEDAR/1\\\\original_1_9.png'), ('CEDAR/1\\\\original_1_18.png', 'CEDAR/1\\\\original_1_19.png'), ('CEDAR/1\\\\original_1_18.png', 'CEDAR/1\\\\original_1_2.png'), ('CEDAR/1\\\\original_1_18.png', 'CEDAR/1\\\\original_1_20.png'), ('CEDAR/1\\\\original_1_18.png', 'CEDAR/1\\\\original_1_21.png'), ('CEDAR/1\\\\original_1_18.png', 'CEDAR/1\\\\original_1_22.png'), ('CEDAR/1\\\\original_1_18.png', 'CEDAR/1\\\\original_1_23.png'), ('CEDAR/1\\\\original_1_18.png', 'CEDAR/1\\\\original_1_24.png'), ('CEDAR/1\\\\original_1_18.png', 'CEDAR/1\\\\original_1_3.png'), ('CEDAR/1\\\\original_1_18.png', 'CEDAR/1\\\\original_1_4.png'), ('CEDAR/1\\\\original_1_18.png', 'CEDAR/1\\\\original_1_5.png'), ('CEDAR/1\\\\original_1_18.png', 'CEDAR/1\\\\original_1_6.png'), ('CEDAR/1\\\\original_1_18.png', 'CEDAR/1\\\\original_1_7.png'), ('CEDAR/1\\\\original_1_18.png', 'CEDAR/1\\\\original_1_8.png'), ('CEDAR/1\\\\original_1_18.png', 'CEDAR/1\\\\original_1_9.png'), ('CEDAR/1\\\\original_1_19.png', 'CEDAR/1\\\\original_1_2.png'), ('CEDAR/1\\\\original_1_19.png', 'CEDAR/1\\\\original_1_20.png'), ('CEDAR/1\\\\original_1_19.png', 'CEDAR/1\\\\original_1_21.png'), ('CEDAR/1\\\\original_1_19.png', 'CEDAR/1\\\\original_1_22.png'), ('CEDAR/1\\\\original_1_19.png', 'CEDAR/1\\\\original_1_23.png'), ('CEDAR/1\\\\original_1_19.png', 'CEDAR/1\\\\original_1_24.png'), ('CEDAR/1\\\\original_1_19.png', 'CEDAR/1\\\\original_1_3.png'), ('CEDAR/1\\\\original_1_19.png', 'CEDAR/1\\\\original_1_4.png'), ('CEDAR/1\\\\original_1_19.png', 'CEDAR/1\\\\original_1_5.png'), ('CEDAR/1\\\\original_1_19.png', 'CEDAR/1\\\\original_1_6.png'), ('CEDAR/1\\\\original_1_19.png', 'CEDAR/1\\\\original_1_7.png'), ('CEDAR/1\\\\original_1_19.png', 'CEDAR/1\\\\original_1_8.png'), ('CEDAR/1\\\\original_1_19.png', 'CEDAR/1\\\\original_1_9.png'), ('CEDAR/1\\\\original_1_2.png', 'CEDAR/1\\\\original_1_20.png'), ('CEDAR/1\\\\original_1_2.png', 'CEDAR/1\\\\original_1_21.png'), ('CEDAR/1\\\\original_1_2.png', 'CEDAR/1\\\\original_1_22.png'), ('CEDAR/1\\\\original_1_2.png', 'CEDAR/1\\\\original_1_23.png'), ('CEDAR/1\\\\original_1_2.png', 'CEDAR/1\\\\original_1_24.png'), ('CEDAR/1\\\\original_1_2.png', 'CEDAR/1\\\\original_1_3.png'), ('CEDAR/1\\\\original_1_2.png', 'CEDAR/1\\\\original_1_4.png'), ('CEDAR/1\\\\original_1_2.png', 'CEDAR/1\\\\original_1_5.png'), ('CEDAR/1\\\\original_1_2.png', 'CEDAR/1\\\\original_1_6.png'), ('CEDAR/1\\\\original_1_2.png', 'CEDAR/1\\\\original_1_7.png'), ('CEDAR/1\\\\original_1_2.png', 'CEDAR/1\\\\original_1_8.png'), ('CEDAR/1\\\\original_1_2.png', 'CEDAR/1\\\\original_1_9.png'), ('CEDAR/1\\\\original_1_20.png', 'CEDAR/1\\\\original_1_21.png'), ('CEDAR/1\\\\original_1_20.png', 'CEDAR/1\\\\original_1_22.png'), ('CEDAR/1\\\\original_1_20.png', 'CEDAR/1\\\\original_1_23.png'), ('CEDAR/1\\\\original_1_20.png', 'CEDAR/1\\\\original_1_24.png'), ('CEDAR/1\\\\original_1_20.png', 'CEDAR/1\\\\original_1_3.png'), ('CEDAR/1\\\\original_1_20.png', 'CEDAR/1\\\\original_1_4.png'), ('CEDAR/1\\\\original_1_20.png', 'CEDAR/1\\\\original_1_5.png'), ('CEDAR/1\\\\original_1_20.png', 'CEDAR/1\\\\original_1_6.png'), ('CEDAR/1\\\\original_1_20.png', 'CEDAR/1\\\\original_1_7.png'), ('CEDAR/1\\\\original_1_20.png', 'CEDAR/1\\\\original_1_8.png'), ('CEDAR/1\\\\original_1_20.png', 'CEDAR/1\\\\original_1_9.png'), ('CEDAR/1\\\\original_1_21.png', 'CEDAR/1\\\\original_1_22.png'), ('CEDAR/1\\\\original_1_21.png', 'CEDAR/1\\\\original_1_23.png'), ('CEDAR/1\\\\original_1_21.png', 'CEDAR/1\\\\original_1_24.png'), ('CEDAR/1\\\\original_1_21.png', 'CEDAR/1\\\\original_1_3.png'), ('CEDAR/1\\\\original_1_21.png', 'CEDAR/1\\\\original_1_4.png'), ('CEDAR/1\\\\original_1_21.png', 'CEDAR/1\\\\original_1_5.png'), ('CEDAR/1\\\\original_1_21.png', 'CEDAR/1\\\\original_1_6.png'), ('CEDAR/1\\\\original_1_21.png', 'CEDAR/1\\\\original_1_7.png'), ('CEDAR/1\\\\original_1_21.png', 'CEDAR/1\\\\original_1_8.png'), ('CEDAR/1\\\\original_1_21.png', 'CEDAR/1\\\\original_1_9.png'), ('CEDAR/1\\\\original_1_22.png', 'CEDAR/1\\\\original_1_23.png'), ('CEDAR/1\\\\original_1_22.png', 'CEDAR/1\\\\original_1_24.png'), ('CEDAR/1\\\\original_1_22.png', 'CEDAR/1\\\\original_1_3.png'), ('CEDAR/1\\\\original_1_22.png', 'CEDAR/1\\\\original_1_4.png'), ('CEDAR/1\\\\original_1_22.png', 'CEDAR/1\\\\original_1_5.png'), ('CEDAR/1\\\\original_1_22.png', 'CEDAR/1\\\\original_1_6.png'), ('CEDAR/1\\\\original_1_22.png', 'CEDAR/1\\\\original_1_7.png'), ('CEDAR/1\\\\original_1_22.png', 'CEDAR/1\\\\original_1_8.png'), ('CEDAR/1\\\\original_1_22.png', 'CEDAR/1\\\\original_1_9.png'), ('CEDAR/1\\\\original_1_23.png', 'CEDAR/1\\\\original_1_24.png'), ('CEDAR/1\\\\original_1_23.png', 'CEDAR/1\\\\original_1_3.png'), ('CEDAR/1\\\\original_1_23.png', 'CEDAR/1\\\\original_1_4.png'), ('CEDAR/1\\\\original_1_23.png', 'CEDAR/1\\\\original_1_5.png'), ('CEDAR/1\\\\original_1_23.png', 'CEDAR/1\\\\original_1_6.png'), ('CEDAR/1\\\\original_1_23.png', 'CEDAR/1\\\\original_1_7.png'), ('CEDAR/1\\\\original_1_23.png', 'CEDAR/1\\\\original_1_8.png'), ('CEDAR/1\\\\original_1_23.png', 'CEDAR/1\\\\original_1_9.png'), ('CEDAR/1\\\\original_1_24.png', 'CEDAR/1\\\\original_1_3.png'), ('CEDAR/1\\\\original_1_24.png', 'CEDAR/1\\\\original_1_4.png'), ('CEDAR/1\\\\original_1_24.png', 'CEDAR/1\\\\original_1_5.png'), ('CEDAR/1\\\\original_1_24.png', 'CEDAR/1\\\\original_1_6.png'), ('CEDAR/1\\\\original_1_24.png', 'CEDAR/1\\\\original_1_7.png'), ('CEDAR/1\\\\original_1_24.png', 'CEDAR/1\\\\original_1_8.png'), ('CEDAR/1\\\\original_1_24.png', 'CEDAR/1\\\\original_1_9.png'), ('CEDAR/1\\\\original_1_3.png', 'CEDAR/1\\\\original_1_4.png'), ('CEDAR/1\\\\original_1_3.png', 'CEDAR/1\\\\original_1_5.png'), ('CEDAR/1\\\\original_1_3.png', 'CEDAR/1\\\\original_1_6.png'), ('CEDAR/1\\\\original_1_3.png', 'CEDAR/1\\\\original_1_7.png'), ('CEDAR/1\\\\original_1_3.png', 'CEDAR/1\\\\original_1_8.png'), ('CEDAR/1\\\\original_1_3.png', 'CEDAR/1\\\\original_1_9.png'), ('CEDAR/1\\\\original_1_4.png', 'CEDAR/1\\\\original_1_5.png'), ('CEDAR/1\\\\original_1_4.png', 'CEDAR/1\\\\original_1_6.png'), ('CEDAR/1\\\\original_1_4.png', 'CEDAR/1\\\\original_1_7.png'), ('CEDAR/1\\\\original_1_4.png', 'CEDAR/1\\\\original_1_8.png'), ('CEDAR/1\\\\original_1_4.png', 'CEDAR/1\\\\original_1_9.png'), ('CEDAR/1\\\\original_1_5.png', 'CEDAR/1\\\\original_1_6.png'), ('CEDAR/1\\\\original_1_5.png', 'CEDAR/1\\\\original_1_7.png'), ('CEDAR/1\\\\original_1_5.png', 'CEDAR/1\\\\original_1_8.png'), ('CEDAR/1\\\\original_1_5.png', 'CEDAR/1\\\\original_1_9.png'), ('CEDAR/1\\\\original_1_6.png', 'CEDAR/1\\\\original_1_7.png'), ('CEDAR/1\\\\original_1_6.png', 'CEDAR/1\\\\original_1_8.png'), ('CEDAR/1\\\\original_1_6.png', 'CEDAR/1\\\\original_1_9.png'), ('CEDAR/1\\\\original_1_7.png', 'CEDAR/1\\\\original_1_8.png'), ('CEDAR/1\\\\original_1_7.png', 'CEDAR/1\\\\original_1_9.png'), ('CEDAR/1\\\\original_1_8.png', 'CEDAR/1\\\\original_1_9.png')]\n"
     ]
    }
   ],
   "source": [
    "from itertools import combinations\n",
    "\n",
    "combinations_list = list(combinations(files, 2))\n",
    "\n",
    "# Print each combination\n",
    "print(combinations_list)"
   ]
  },
  {
   "cell_type": "code",
   "execution_count": 6,
   "metadata": {},
   "outputs": [],
   "source": [
    "#one value of combination\n",
    "x,y=combinations_list[0]"
   ]
  },
  {
   "cell_type": "code",
   "execution_count": 7,
   "metadata": {},
   "outputs": [],
   "source": [
    "label1=0 if \"F\" in  x.split(\"\\\\\")[-1].split(\".\")[0] else 1\n",
    "label2=0 if \"F\" in  y.split(\"\\\\\")[-1].split(\".\")[0] else 1\n",
    "label=label1*label2"
   ]
  },
  {
   "cell_type": "code",
   "execution_count": 8,
   "metadata": {},
   "outputs": [
    {
     "data": {
      "text/plain": [
       "('CEDAR/1\\\\forgeries_1_1.png', 'CEDAR/1\\\\forgeries_1_10.png')"
      ]
     },
     "execution_count": 8,
     "metadata": {},
     "output_type": "execute_result"
    }
   ],
   "source": [
    "x,y"
   ]
  },
  {
   "cell_type": "code",
   "execution_count": 9,
   "metadata": {},
   "outputs": [
    {
     "data": {
      "text/plain": [
       "1"
      ]
     },
     "execution_count": 9,
     "metadata": {},
     "output_type": "execute_result"
    }
   ],
   "source": [
    "label"
   ]
  },
  {
   "cell_type": "markdown",
   "metadata": {},
   "source": [
    "# general function"
   ]
  },
  {
   "cell_type": "code",
   "execution_count": 10,
   "metadata": {},
   "outputs": [],
   "source": [
    "import pandas as pd\n",
    "import glob\n",
    "from itertools import combinations\n",
    "\n",
    "def files_to_csv(file_name, n, file_type):\n",
    "    image1 = []\n",
    "    image2 = []\n",
    "    label = []\n",
    "    labels1=[]\n",
    "    labels2=[]\n",
    "    \n",
    "    for i in range(1, n+1):\n",
    "        files = glob.glob(f'{file_name}\\\\{i}\\\\*.{file_type}')\n",
    "        pairs = list(combinations(files, 2))\n",
    "        \n",
    "        for combo in pairs:\n",
    "            label1 = 0 if \"F\" in  combo[0].split(\"\\\\\")[-1].split(\".\")[0]  else 1\n",
    "            label2 = 0 if \"F\" in combo[1].split(\"\\\\\")[-1].split(\".\")[0]  else 1\n",
    "            label.append(label1 * label2)\n",
    "            image1.append(combo[0])\n",
    "            labels1.append(label1)\n",
    "            labels2.append(label2)\n",
    "            image2.append(combo[1])\n",
    "    \n",
    "    # Create the DataFrame\n",
    "    df = pd.DataFrame(list(zip(image1, image2, labels1,labels2,label)), columns=['Testing_Signature', 'Original_Signature','Label1','Label2', 'Ouput'])\n",
    "    #remove all the rows where label2 is 0\n",
    "    df=df[df.Label2!=0]\n",
    "    df.to_csv(f\"{file_name}_extracted.csv\",index=False)"
   ]
  },
  {
   "cell_type": "code",
   "execution_count": 11,
   "metadata": {},
   "outputs": [],
   "source": [
    "files_to_csv(\"BHSig260-Hindi\",160,\"tif\")"
   ]
  },
  {
   "cell_type": "code",
   "execution_count": 12,
   "metadata": {},
   "outputs": [],
   "source": [
    "df=pd.read_csv(\"BHSig260-Hindi_extracted.csv\")"
   ]
  },
  {
   "cell_type": "code",
   "execution_count": 42,
   "metadata": {},
   "outputs": [],
   "source": [
    "import pandas as pd\n",
    "import glob\n",
    "from itertools import combinations\n",
    "\n",
    "def cedar_files_to_csv(n, file_type):\n",
    "    image1 = []\n",
    "    image2 = []\n",
    "    label = []\n",
    "    labels1=[]\n",
    "    labels2=[]\n",
    "    \n",
    "    for i in range(1, n+1):\n",
    "        files = glob.glob(f'CEDAR\\\\{i}\\\\*.{file_type}')\n",
    "        pairs = list(combinations(files, 2))\n",
    "        \n",
    "        for combo in pairs:\n",
    "            # print(combo[0].split(\"\\\\\")[-1][0])\n",
    "            label1 = 0 if \"f\" ==  combo[0].split(\"\\\\\")[-1][0]  else 1\n",
    "            label2 = 0 if \"f\" == combo[1].split(\"\\\\\")[-1][0]  else 1\n",
    "            labels1.append(label1)\n",
    "            labels2.append(label2)\n",
    "            label.append(label1 * label2)\n",
    "            image1.append(combo[0])\n",
    "            image2.append(combo[1])\n",
    "    \n",
    "    # Create the DataFrame\n",
    "    df = pd.DataFrame(list(zip(image1, image2, labels1,labels2,label)),  columns=['Testing_Signature', 'Original_Signature','Label1','Label2', 'Ouput'])\n",
    "    df=df[df.Label2!=0]\n",
    "    df.to_csv(\"CEDAR_extracted.csv\",index=False)"
   ]
  },
  {
   "cell_type": "code",
   "execution_count": 43,
   "metadata": {},
   "outputs": [],
   "source": [
    "cedar_files_to_csv(55,\"png\")"
   ]
  },
  {
   "cell_type": "code",
   "execution_count": 44,
   "metadata": {},
   "outputs": [],
   "source": [
    "df1=pd.read_csv(\"CEDAR_extracted.csv\")"
   ]
  },
  {
   "cell_type": "code",
   "execution_count": 45,
   "metadata": {},
   "outputs": [
    {
     "data": {
      "text/plain": [
       "(46860, 5)"
      ]
     },
     "execution_count": 45,
     "metadata": {},
     "output_type": "execute_result"
    }
   ],
   "source": [
    "df1.shape"
   ]
  },
  {
   "cell_type": "code",
   "execution_count": 46,
   "metadata": {},
   "outputs": [
    {
     "data": {
      "text/plain": [
       "(46860, 5)"
      ]
     },
     "execution_count": 46,
     "metadata": {},
     "output_type": "execute_result"
    }
   ],
   "source": [
    "df1.shape"
   ]
  },
  {
   "cell_type": "code",
   "execution_count": 47,
   "metadata": {},
   "outputs": [],
   "source": [
    "df1=df1.iloc[:62000,:]\n"
   ]
  },
  {
   "cell_type": "code",
   "execution_count": 48,
   "metadata": {},
   "outputs": [],
   "source": [
    "from sklearn.model_selection import train_test_split\n",
    "#split the df in train, val, test in 80:10:10 and save it as csv files\n",
    "X_train, X_test, y_train, y_test = train_test_split(df1[['Testing_Signature', 'Original_Signature']], df1['Ouput'], test_size=0.2, random_state=42,\n",
    "                                                    shuffle=True, stratify=df1['Ouput'])\n",
    "X_train, X_val, y_train, y_val = train_test_split(df1[['Testing_Signature', 'Original_Signature']], df1['Ouput'], test_size=0.25, random_state=42,\n",
    "                                                    shuffle=True, stratify=df1['Ouput'])  #0.25*0.8=0.2\n",
    "train=pd.DataFrame(list(zip(X_train['Testing_Signature'],X_train['Original_Signature'],y_train)),  columns=['Testing_Signature', 'Original_Signature', 'Ouput'])\n",
    "val=pd.DataFrame(list(zip(X_val['Testing_Signature'],X_val['Original_Signature'],y_val)),  columns=['Testing_Signature', 'Original_Signature', 'Ouput'])\n",
    "test=pd.DataFrame(list(zip(X_test['Testing_Signature'],X_test['Original_Signature'],y_test)),  columns=['Testing_Signature', 'Original_Signature', 'Ouput'])\n",
    "\n"
   ]
  },
  {
   "cell_type": "code",
   "execution_count": 49,
   "metadata": {},
   "outputs": [
    {
     "data": {
      "text/plain": [
       "Ouput\n",
       "0    23760\n",
       "1    11385\n",
       "Name: count, dtype: int64"
      ]
     },
     "execution_count": 49,
     "metadata": {},
     "output_type": "execute_result"
    }
   ],
   "source": [
    "train['Ouput'].value_counts()"
   ]
  },
  {
   "cell_type": "code",
   "execution_count": 50,
   "metadata": {},
   "outputs": [
    {
     "data": {
      "text/plain": [
       "Ouput\n",
       "0    7920\n",
       "1    3795\n",
       "Name: count, dtype: int64"
      ]
     },
     "execution_count": 50,
     "metadata": {},
     "output_type": "execute_result"
    }
   ],
   "source": [
    "val['Ouput'].value_counts()"
   ]
  },
  {
   "cell_type": "code",
   "execution_count": 51,
   "metadata": {},
   "outputs": [
    {
     "data": {
      "text/plain": [
       "Ouput\n",
       "0    6336\n",
       "1    3036\n",
       "Name: count, dtype: int64"
      ]
     },
     "execution_count": 51,
     "metadata": {},
     "output_type": "execute_result"
    }
   ],
   "source": [
    "test['Ouput'].value_counts()"
   ]
  },
  {
   "cell_type": "code",
   "execution_count": 52,
   "metadata": {},
   "outputs": [],
   "source": [
    "train.to_csv(\"CEDAR_train.csv\",index=False)\n",
    "val.to_csv(\"CEDAR_val.csv\",index=False)\n",
    "test.to_csv(\"CEDAR_test.csv\",index=False)"
   ]
  },
  {
   "cell_type": "code",
   "execution_count": 20,
   "metadata": {},
   "outputs": [],
   "source": [
    "from torchvision import transforms\n",
    "from model import CustomDataset\n",
    "transform = transforms.Compose([\n",
    "    transforms.Resize((256, 256)),\n",
    "    transforms.ToTensor()])\n",
    "\n",
    "# Create an instance of the CustomDataset\n",
    "dataset = CustomDataset('CEDAR_extracted.csv',transform=transform)\n"
   ]
  },
  {
   "cell_type": "code",
   "execution_count": 21,
   "metadata": {},
   "outputs": [
    {
     "ename": "KeyboardInterrupt",
     "evalue": "",
     "output_type": "error",
     "traceback": [
      "\u001b[1;31m---------------------------------------------------------------------------\u001b[0m",
      "\u001b[1;31mKeyboardInterrupt\u001b[0m                         Traceback (most recent call last)",
      "Cell \u001b[1;32mIn[21], line 9\u001b[0m\n\u001b[0;32m      6\u001b[0m train_loader \u001b[38;5;241m=\u001b[39m dm\u001b[38;5;241m.\u001b[39mtrain_dataloader()\n\u001b[0;32m      8\u001b[0m \u001b[38;5;66;03m# Iterate over the batches and print the data\u001b[39;00m\n\u001b[1;32m----> 9\u001b[0m \u001b[38;5;28;01mfor\u001b[39;00m batch_idx, (data1, data2, label) \u001b[38;5;129;01min\u001b[39;00m \u001b[38;5;28;43menumerate\u001b[39;49m\u001b[43m(\u001b[49m\u001b[43mtrain_loader\u001b[49m\u001b[43m)\u001b[49m:\n\u001b[0;32m     10\u001b[0m     \u001b[38;5;28mprint\u001b[39m(\u001b[38;5;124mf\u001b[39m\u001b[38;5;124m\"\u001b[39m\u001b[38;5;124mBatch \u001b[39m\u001b[38;5;132;01m{\u001b[39;00mbatch_idx\u001b[38;5;250m \u001b[39m\u001b[38;5;241m+\u001b[39m\u001b[38;5;250m \u001b[39m\u001b[38;5;241m1\u001b[39m\u001b[38;5;132;01m}\u001b[39;00m\u001b[38;5;124m:\u001b[39m\u001b[38;5;124m\"\u001b[39m)\n\u001b[0;32m     11\u001b[0m     \u001b[38;5;28mprint\u001b[39m(\u001b[38;5;124m\"\u001b[39m\u001b[38;5;124mData 1:\u001b[39m\u001b[38;5;124m\"\u001b[39m)\n",
      "File \u001b[1;32mc:\\Users\\ASUS\\Desktop\\signature verification similarity\\.venv\\Lib\\site-packages\\torch\\utils\\data\\dataloader.py:439\u001b[0m, in \u001b[0;36mDataLoader.__iter__\u001b[1;34m(self)\u001b[0m\n\u001b[0;32m    437\u001b[0m     \u001b[38;5;28;01mreturn\u001b[39;00m \u001b[38;5;28mself\u001b[39m\u001b[38;5;241m.\u001b[39m_iterator\n\u001b[0;32m    438\u001b[0m \u001b[38;5;28;01melse\u001b[39;00m:\n\u001b[1;32m--> 439\u001b[0m     \u001b[38;5;28;01mreturn\u001b[39;00m \u001b[38;5;28;43mself\u001b[39;49m\u001b[38;5;241;43m.\u001b[39;49m\u001b[43m_get_iterator\u001b[49m\u001b[43m(\u001b[49m\u001b[43m)\u001b[49m\n",
      "File \u001b[1;32mc:\\Users\\ASUS\\Desktop\\signature verification similarity\\.venv\\Lib\\site-packages\\torch\\utils\\data\\dataloader.py:387\u001b[0m, in \u001b[0;36mDataLoader._get_iterator\u001b[1;34m(self)\u001b[0m\n\u001b[0;32m    385\u001b[0m \u001b[38;5;28;01melse\u001b[39;00m:\n\u001b[0;32m    386\u001b[0m     \u001b[38;5;28mself\u001b[39m\u001b[38;5;241m.\u001b[39mcheck_worker_number_rationality()\n\u001b[1;32m--> 387\u001b[0m     \u001b[38;5;28;01mreturn\u001b[39;00m \u001b[43m_MultiProcessingDataLoaderIter\u001b[49m\u001b[43m(\u001b[49m\u001b[38;5;28;43mself\u001b[39;49m\u001b[43m)\u001b[49m\n",
      "File \u001b[1;32mc:\\Users\\ASUS\\Desktop\\signature verification similarity\\.venv\\Lib\\site-packages\\torch\\utils\\data\\dataloader.py:1040\u001b[0m, in \u001b[0;36m_MultiProcessingDataLoaderIter.__init__\u001b[1;34m(self, loader)\u001b[0m\n\u001b[0;32m   1033\u001b[0m w\u001b[38;5;241m.\u001b[39mdaemon \u001b[38;5;241m=\u001b[39m \u001b[38;5;28;01mTrue\u001b[39;00m\n\u001b[0;32m   1034\u001b[0m \u001b[38;5;66;03m# NB: Process.start() actually take some time as it needs to\u001b[39;00m\n\u001b[0;32m   1035\u001b[0m \u001b[38;5;66;03m#     start a process and pass the arguments over via a pipe.\u001b[39;00m\n\u001b[0;32m   1036\u001b[0m \u001b[38;5;66;03m#     Therefore, we only add a worker to self._workers list after\u001b[39;00m\n\u001b[0;32m   1037\u001b[0m \u001b[38;5;66;03m#     it started, so that we do not call .join() if program dies\u001b[39;00m\n\u001b[0;32m   1038\u001b[0m \u001b[38;5;66;03m#     before it starts, and __del__ tries to join but will get:\u001b[39;00m\n\u001b[0;32m   1039\u001b[0m \u001b[38;5;66;03m#     AssertionError: can only join a started process.\u001b[39;00m\n\u001b[1;32m-> 1040\u001b[0m \u001b[43mw\u001b[49m\u001b[38;5;241;43m.\u001b[39;49m\u001b[43mstart\u001b[49m\u001b[43m(\u001b[49m\u001b[43m)\u001b[49m\n\u001b[0;32m   1041\u001b[0m \u001b[38;5;28mself\u001b[39m\u001b[38;5;241m.\u001b[39m_index_queues\u001b[38;5;241m.\u001b[39mappend(index_queue)\n\u001b[0;32m   1042\u001b[0m \u001b[38;5;28mself\u001b[39m\u001b[38;5;241m.\u001b[39m_workers\u001b[38;5;241m.\u001b[39mappend(w)\n",
      "File \u001b[1;32m~\\AppData\\Local\\Programs\\Python\\Python312\\Lib\\multiprocessing\\process.py:121\u001b[0m, in \u001b[0;36mBaseProcess.start\u001b[1;34m(self)\u001b[0m\n\u001b[0;32m    118\u001b[0m \u001b[38;5;28;01massert\u001b[39;00m \u001b[38;5;129;01mnot\u001b[39;00m _current_process\u001b[38;5;241m.\u001b[39m_config\u001b[38;5;241m.\u001b[39mget(\u001b[38;5;124m'\u001b[39m\u001b[38;5;124mdaemon\u001b[39m\u001b[38;5;124m'\u001b[39m), \\\n\u001b[0;32m    119\u001b[0m        \u001b[38;5;124m'\u001b[39m\u001b[38;5;124mdaemonic processes are not allowed to have children\u001b[39m\u001b[38;5;124m'\u001b[39m\n\u001b[0;32m    120\u001b[0m _cleanup()\n\u001b[1;32m--> 121\u001b[0m \u001b[38;5;28mself\u001b[39m\u001b[38;5;241m.\u001b[39m_popen \u001b[38;5;241m=\u001b[39m \u001b[38;5;28;43mself\u001b[39;49m\u001b[38;5;241;43m.\u001b[39;49m\u001b[43m_Popen\u001b[49m\u001b[43m(\u001b[49m\u001b[38;5;28;43mself\u001b[39;49m\u001b[43m)\u001b[49m\n\u001b[0;32m    122\u001b[0m \u001b[38;5;28mself\u001b[39m\u001b[38;5;241m.\u001b[39m_sentinel \u001b[38;5;241m=\u001b[39m \u001b[38;5;28mself\u001b[39m\u001b[38;5;241m.\u001b[39m_popen\u001b[38;5;241m.\u001b[39msentinel\n\u001b[0;32m    123\u001b[0m \u001b[38;5;66;03m# Avoid a refcycle if the target function holds an indirect\u001b[39;00m\n\u001b[0;32m    124\u001b[0m \u001b[38;5;66;03m# reference to the process object (see bpo-30775)\u001b[39;00m\n",
      "File \u001b[1;32m~\\AppData\\Local\\Programs\\Python\\Python312\\Lib\\multiprocessing\\context.py:224\u001b[0m, in \u001b[0;36mProcess._Popen\u001b[1;34m(process_obj)\u001b[0m\n\u001b[0;32m    222\u001b[0m \u001b[38;5;129m@staticmethod\u001b[39m\n\u001b[0;32m    223\u001b[0m \u001b[38;5;28;01mdef\u001b[39;00m \u001b[38;5;21m_Popen\u001b[39m(process_obj):\n\u001b[1;32m--> 224\u001b[0m     \u001b[38;5;28;01mreturn\u001b[39;00m \u001b[43m_default_context\u001b[49m\u001b[38;5;241;43m.\u001b[39;49m\u001b[43mget_context\u001b[49m\u001b[43m(\u001b[49m\u001b[43m)\u001b[49m\u001b[38;5;241;43m.\u001b[39;49m\u001b[43mProcess\u001b[49m\u001b[38;5;241;43m.\u001b[39;49m\u001b[43m_Popen\u001b[49m\u001b[43m(\u001b[49m\u001b[43mprocess_obj\u001b[49m\u001b[43m)\u001b[49m\n",
      "File \u001b[1;32m~\\AppData\\Local\\Programs\\Python\\Python312\\Lib\\multiprocessing\\context.py:337\u001b[0m, in \u001b[0;36mSpawnProcess._Popen\u001b[1;34m(process_obj)\u001b[0m\n\u001b[0;32m    334\u001b[0m \u001b[38;5;129m@staticmethod\u001b[39m\n\u001b[0;32m    335\u001b[0m \u001b[38;5;28;01mdef\u001b[39;00m \u001b[38;5;21m_Popen\u001b[39m(process_obj):\n\u001b[0;32m    336\u001b[0m     \u001b[38;5;28;01mfrom\u001b[39;00m \u001b[38;5;21;01m.\u001b[39;00m\u001b[38;5;21;01mpopen_spawn_win32\u001b[39;00m \u001b[38;5;28;01mimport\u001b[39;00m Popen\n\u001b[1;32m--> 337\u001b[0m     \u001b[38;5;28;01mreturn\u001b[39;00m \u001b[43mPopen\u001b[49m\u001b[43m(\u001b[49m\u001b[43mprocess_obj\u001b[49m\u001b[43m)\u001b[49m\n",
      "File \u001b[1;32m~\\AppData\\Local\\Programs\\Python\\Python312\\Lib\\multiprocessing\\popen_spawn_win32.py:95\u001b[0m, in \u001b[0;36mPopen.__init__\u001b[1;34m(self, process_obj)\u001b[0m\n\u001b[0;32m     93\u001b[0m \u001b[38;5;28;01mtry\u001b[39;00m:\n\u001b[0;32m     94\u001b[0m     reduction\u001b[38;5;241m.\u001b[39mdump(prep_data, to_child)\n\u001b[1;32m---> 95\u001b[0m     \u001b[43mreduction\u001b[49m\u001b[38;5;241;43m.\u001b[39;49m\u001b[43mdump\u001b[49m\u001b[43m(\u001b[49m\u001b[43mprocess_obj\u001b[49m\u001b[43m,\u001b[49m\u001b[43m \u001b[49m\u001b[43mto_child\u001b[49m\u001b[43m)\u001b[49m\n\u001b[0;32m     96\u001b[0m \u001b[38;5;28;01mfinally\u001b[39;00m:\n\u001b[0;32m     97\u001b[0m     set_spawning_popen(\u001b[38;5;28;01mNone\u001b[39;00m)\n",
      "File \u001b[1;32m~\\AppData\\Local\\Programs\\Python\\Python312\\Lib\\multiprocessing\\reduction.py:60\u001b[0m, in \u001b[0;36mdump\u001b[1;34m(obj, file, protocol)\u001b[0m\n\u001b[0;32m     58\u001b[0m \u001b[38;5;28;01mdef\u001b[39;00m \u001b[38;5;21mdump\u001b[39m(obj, file, protocol\u001b[38;5;241m=\u001b[39m\u001b[38;5;28;01mNone\u001b[39;00m):\n\u001b[0;32m     59\u001b[0m \u001b[38;5;250m    \u001b[39m\u001b[38;5;124;03m'''Replacement for pickle.dump() using ForkingPickler.'''\u001b[39;00m\n\u001b[1;32m---> 60\u001b[0m     \u001b[43mForkingPickler\u001b[49m\u001b[43m(\u001b[49m\u001b[43mfile\u001b[49m\u001b[43m,\u001b[49m\u001b[43m \u001b[49m\u001b[43mprotocol\u001b[49m\u001b[43m)\u001b[49m\u001b[38;5;241;43m.\u001b[39;49m\u001b[43mdump\u001b[49m\u001b[43m(\u001b[49m\u001b[43mobj\u001b[49m\u001b[43m)\u001b[49m\n",
      "\u001b[1;31mKeyboardInterrupt\u001b[0m: "
     ]
    }
   ],
   "source": [
    "# from model import CustomDataModule\n",
    "# dm = CustomDataModule('CEDAR_train.csv',transform=transform)\n",
    "# dm.setup()\n",
    "\n",
    "# # Get the training data loader\n",
    "# train_loader = dm.train_dataloader()\n",
    "\n",
    "# # Iterate over the batches and print the data\n",
    "# for batch_idx, (data1, data2, label) in enumerate(train_loader):\n",
    "#     print(f\"Batch {batch_idx + 1}:\")\n",
    "#     print(\"Data 1:\")\n",
    "#     print(data1.shape)\n",
    "#     print(\"Data 2:\")\n",
    "#     print(data2.shape)\n",
    "#     print(\"Label:\")\n",
    "#     print(label)\n",
    "#     break"
   ]
  },
  {
   "cell_type": "code",
   "execution_count": null,
   "metadata": {},
   "outputs": [
    {
     "ename": "NameError",
     "evalue": "name 'CustomDataModule' is not defined",
     "output_type": "error",
     "traceback": [
      "\u001b[1;31m---------------------------------------------------------------------------\u001b[0m",
      "\u001b[1;31mNameError\u001b[0m                                 Traceback (most recent call last)",
      "Cell \u001b[1;32mIn[18], line 5\u001b[0m\n\u001b[0;32m      3\u001b[0m \u001b[38;5;28;01mfrom\u001b[39;00m \u001b[38;5;21;01mmodel\u001b[39;00m \u001b[38;5;28;01mimport\u001b[39;00m SiameseNetwork,LightningModel\n\u001b[0;32m      4\u001b[0m torch\u001b[38;5;241m.\u001b[39mmanual_seed(\u001b[38;5;241m123\u001b[39m)\n\u001b[1;32m----> 5\u001b[0m dm \u001b[38;5;241m=\u001b[39m \u001b[43mCustomDataModule\u001b[49m(\u001b[38;5;124m'\u001b[39m\u001b[38;5;124mCEDAR_train.csv\u001b[39m\u001b[38;5;124m'\u001b[39m,batch_size\u001b[38;5;241m=\u001b[39m\u001b[38;5;241m64\u001b[39m,transform\u001b[38;5;241m=\u001b[39mtransform)\n\u001b[0;32m      7\u001b[0m pytorch_model \u001b[38;5;241m=\u001b[39m SiameseNetwork()\n\u001b[0;32m      9\u001b[0m lightning_model \u001b[38;5;241m=\u001b[39m LightningModel(model\u001b[38;5;241m=\u001b[39mpytorch_model, learning_rate\u001b[38;5;241m=\u001b[39m\u001b[38;5;241m0.0005\u001b[39m)\n",
      "\u001b[1;31mNameError\u001b[0m: name 'CustomDataModule' is not defined"
     ]
    }
   ],
   "source": [
    "import lightning as l\n",
    "import torch\n",
    "from model import SiameseNetwork,LightningModel\n",
    "torch.manual_seed(123)\n",
    "dm = CustomDataModule('CEDAR_train.csv',batch_size=64,transform=transform)\n",
    "\n",
    "pytorch_model = SiameseNetwork()\n",
    "\n",
    "lightning_model = LightningModel(model=pytorch_model, learning_rate=0.0005)\n",
    "\n",
    "trainer = l.Trainer(\n",
    "    max_epochs=2,\n",
    "    accelerator=\"cpu\",\n",
    "    devices=\"auto\",\n",
    "    deterministic=True,\n",
    ")\n",
    "\n",
    "trainer.fit(model=lightning_model, datamodule=dm)"
   ]
  },
  {
   "cell_type": "code",
   "execution_count": null,
   "metadata": {},
   "outputs": [],
   "source": [
    "pytorch_model"
   ]
  },
  {
   "cell_type": "code",
   "execution_count": null,
   "metadata": {},
   "outputs": [],
   "source": [
    "import pandas as pd\n",
    "df=pd.read_csv(\"CEDAR_train.csv\")"
   ]
  },
  {
   "cell_type": "code",
   "execution_count": null,
   "metadata": {},
   "outputs": [],
   "source": [
    "df=df.iloc[:10000]"
   ]
  },
  {
   "cell_type": "code",
   "execution_count": null,
   "metadata": {},
   "outputs": [
    {
     "data": {
      "text/plain": [
       "(10000, 3)"
      ]
     },
     "execution_count": 5,
     "metadata": {},
     "output_type": "execute_result"
    }
   ],
   "source": [
    "df.shape"
   ]
  },
  {
   "cell_type": "code",
   "execution_count": null,
   "metadata": {},
   "outputs": [],
   "source": [
    "df.to_csv(\"CEDAR_small.csv\",index=False)"
   ]
  },
  {
   "cell_type": "code",
   "execution_count": null,
   "metadata": {},
   "outputs": [],
   "source": [
    "def small(file):\n",
    "    df=pd.read_csv(file)\n",
    "    print(df.shape)\n",
    "    # df=df.iloc[:size]\n",
    "    # df.to_csv(f\"{file}_small.csv\",index=False)"
   ]
  },
  {
   "cell_type": "code",
   "execution_count": null,
   "metadata": {},
   "outputs": [
    {
     "name": "stdout",
     "output_type": "stream",
     "text": [
      "(46500, 3)\n"
     ]
    }
   ],
   "source": [
    "small(\"CEDAR_train.csv\")"
   ]
  },
  {
   "cell_type": "code",
   "execution_count": null,
   "metadata": {},
   "outputs": [
    {
     "name": "stdout",
     "output_type": "stream",
     "text": [
      "(15500, 3)\n"
     ]
    }
   ],
   "source": [
    "small(\"CEDAR_val.csv\")"
   ]
  },
  {
   "cell_type": "code",
   "execution_count": null,
   "metadata": {},
   "outputs": [
    {
     "name": "stdout",
     "output_type": "stream",
     "text": [
      "(12400, 3)\n"
     ]
    }
   ],
   "source": [
    "small(\"CEDAR_test.csv\")"
   ]
  },
  {
   "cell_type": "code",
   "execution_count": null,
   "metadata": {},
   "outputs": [],
   "source": []
  }
 ],
 "metadata": {
  "kernelspec": {
   "display_name": "Python 3",
   "language": "python",
   "name": "python3"
  },
  "language_info": {
   "codemirror_mode": {
    "name": "ipython",
    "version": 3
   },
   "file_extension": ".py",
   "mimetype": "text/x-python",
   "name": "python",
   "nbconvert_exporter": "python",
   "pygments_lexer": "ipython3",
   "version": "3.12.2"
  }
 },
 "nbformat": 4,
 "nbformat_minor": 2
}
