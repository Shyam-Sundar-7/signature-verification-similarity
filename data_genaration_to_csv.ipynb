{
 "cells": [
  {
   "cell_type": "code",
   "execution_count": 38,
   "metadata": {},
   "outputs": [
    {
     "name": "stdout",
     "output_type": "stream",
     "text": [
      "unzip:  cannot find or open CEDAR.zip, CEDAR.zip.zip or CEDAR.zip.ZIP.\n"
     ]
    }
   ],
   "source": [
    "!unzip CEDAR.zip"
   ]
  },
  {
   "cell_type": "code",
   "execution_count": 39,
   "metadata": {},
   "outputs": [],
   "source": [
    "import glob\n",
    "\n",
    "#read one folder\n",
    "files = glob.glob('CEDAR/1/*.png')"
   ]
  },
  {
   "cell_type": "code",
   "execution_count": 40,
   "metadata": {},
   "outputs": [
    {
     "data": {
      "text/plain": [
       "['CEDAR/1/forgeries_1_1.png',\n",
       " 'CEDAR/1/forgeries_1_10.png',\n",
       " 'CEDAR/1/forgeries_1_11.png',\n",
       " 'CEDAR/1/forgeries_1_12.png',\n",
       " 'CEDAR/1/forgeries_1_13.png',\n",
       " 'CEDAR/1/forgeries_1_14.png',\n",
       " 'CEDAR/1/forgeries_1_15.png',\n",
       " 'CEDAR/1/forgeries_1_16.png',\n",
       " 'CEDAR/1/forgeries_1_17.png',\n",
       " 'CEDAR/1/forgeries_1_18.png',\n",
       " 'CEDAR/1/forgeries_1_19.png',\n",
       " 'CEDAR/1/forgeries_1_2.png',\n",
       " 'CEDAR/1/forgeries_1_20.png',\n",
       " 'CEDAR/1/forgeries_1_21.png',\n",
       " 'CEDAR/1/forgeries_1_22.png',\n",
       " 'CEDAR/1/forgeries_1_23.png',\n",
       " 'CEDAR/1/forgeries_1_24.png',\n",
       " 'CEDAR/1/forgeries_1_3.png',\n",
       " 'CEDAR/1/forgeries_1_4.png',\n",
       " 'CEDAR/1/forgeries_1_5.png',\n",
       " 'CEDAR/1/forgeries_1_6.png',\n",
       " 'CEDAR/1/forgeries_1_7.png',\n",
       " 'CEDAR/1/forgeries_1_8.png',\n",
       " 'CEDAR/1/forgeries_1_9.png',\n",
       " 'CEDAR/1/original_1_1.png',\n",
       " 'CEDAR/1/original_1_10.png',\n",
       " 'CEDAR/1/original_1_11.png',\n",
       " 'CEDAR/1/original_1_12.png',\n",
       " 'CEDAR/1/original_1_13.png',\n",
       " 'CEDAR/1/original_1_14.png',\n",
       " 'CEDAR/1/original_1_15.png',\n",
       " 'CEDAR/1/original_1_16.png',\n",
       " 'CEDAR/1/original_1_17.png',\n",
       " 'CEDAR/1/original_1_18.png',\n",
       " 'CEDAR/1/original_1_19.png',\n",
       " 'CEDAR/1/original_1_2.png',\n",
       " 'CEDAR/1/original_1_20.png',\n",
       " 'CEDAR/1/original_1_21.png',\n",
       " 'CEDAR/1/original_1_22.png',\n",
       " 'CEDAR/1/original_1_23.png',\n",
       " 'CEDAR/1/original_1_24.png',\n",
       " 'CEDAR/1/original_1_3.png',\n",
       " 'CEDAR/1/original_1_4.png',\n",
       " 'CEDAR/1/original_1_5.png',\n",
       " 'CEDAR/1/original_1_6.png',\n",
       " 'CEDAR/1/original_1_7.png',\n",
       " 'CEDAR/1/original_1_8.png',\n",
       " 'CEDAR/1/original_1_9.png']"
      ]
     },
     "execution_count": 40,
     "metadata": {},
     "output_type": "execute_result"
    }
   ],
   "source": [
    "files"
   ]
  },
  {
   "cell_type": "code",
   "execution_count": 41,
   "metadata": {},
   "outputs": [
    {
     "name": "stdout",
     "output_type": "stream",
     "text": [
      "[('CEDAR/1/forgeries_1_1.png', 'CEDAR/1/forgeries_1_10.png'), ('CEDAR/1/forgeries_1_1.png', 'CEDAR/1/forgeries_1_11.png'), ('CEDAR/1/forgeries_1_1.png', 'CEDAR/1/forgeries_1_12.png'), ('CEDAR/1/forgeries_1_1.png', 'CEDAR/1/forgeries_1_13.png'), ('CEDAR/1/forgeries_1_1.png', 'CEDAR/1/forgeries_1_14.png'), ('CEDAR/1/forgeries_1_1.png', 'CEDAR/1/forgeries_1_15.png'), ('CEDAR/1/forgeries_1_1.png', 'CEDAR/1/forgeries_1_16.png'), ('CEDAR/1/forgeries_1_1.png', 'CEDAR/1/forgeries_1_17.png'), ('CEDAR/1/forgeries_1_1.png', 'CEDAR/1/forgeries_1_18.png'), ('CEDAR/1/forgeries_1_1.png', 'CEDAR/1/forgeries_1_19.png'), ('CEDAR/1/forgeries_1_1.png', 'CEDAR/1/forgeries_1_2.png'), ('CEDAR/1/forgeries_1_1.png', 'CEDAR/1/forgeries_1_20.png'), ('CEDAR/1/forgeries_1_1.png', 'CEDAR/1/forgeries_1_21.png'), ('CEDAR/1/forgeries_1_1.png', 'CEDAR/1/forgeries_1_22.png'), ('CEDAR/1/forgeries_1_1.png', 'CEDAR/1/forgeries_1_23.png'), ('CEDAR/1/forgeries_1_1.png', 'CEDAR/1/forgeries_1_24.png'), ('CEDAR/1/forgeries_1_1.png', 'CEDAR/1/forgeries_1_3.png'), ('CEDAR/1/forgeries_1_1.png', 'CEDAR/1/forgeries_1_4.png'), ('CEDAR/1/forgeries_1_1.png', 'CEDAR/1/forgeries_1_5.png'), ('CEDAR/1/forgeries_1_1.png', 'CEDAR/1/forgeries_1_6.png'), ('CEDAR/1/forgeries_1_1.png', 'CEDAR/1/forgeries_1_7.png'), ('CEDAR/1/forgeries_1_1.png', 'CEDAR/1/forgeries_1_8.png'), ('CEDAR/1/forgeries_1_1.png', 'CEDAR/1/forgeries_1_9.png'), ('CEDAR/1/forgeries_1_1.png', 'CEDAR/1/original_1_1.png'), ('CEDAR/1/forgeries_1_1.png', 'CEDAR/1/original_1_10.png'), ('CEDAR/1/forgeries_1_1.png', 'CEDAR/1/original_1_11.png'), ('CEDAR/1/forgeries_1_1.png', 'CEDAR/1/original_1_12.png'), ('CEDAR/1/forgeries_1_1.png', 'CEDAR/1/original_1_13.png'), ('CEDAR/1/forgeries_1_1.png', 'CEDAR/1/original_1_14.png'), ('CEDAR/1/forgeries_1_1.png', 'CEDAR/1/original_1_15.png'), ('CEDAR/1/forgeries_1_1.png', 'CEDAR/1/original_1_16.png'), ('CEDAR/1/forgeries_1_1.png', 'CEDAR/1/original_1_17.png'), ('CEDAR/1/forgeries_1_1.png', 'CEDAR/1/original_1_18.png'), ('CEDAR/1/forgeries_1_1.png', 'CEDAR/1/original_1_19.png'), ('CEDAR/1/forgeries_1_1.png', 'CEDAR/1/original_1_2.png'), ('CEDAR/1/forgeries_1_1.png', 'CEDAR/1/original_1_20.png'), ('CEDAR/1/forgeries_1_1.png', 'CEDAR/1/original_1_21.png'), ('CEDAR/1/forgeries_1_1.png', 'CEDAR/1/original_1_22.png'), ('CEDAR/1/forgeries_1_1.png', 'CEDAR/1/original_1_23.png'), ('CEDAR/1/forgeries_1_1.png', 'CEDAR/1/original_1_24.png'), ('CEDAR/1/forgeries_1_1.png', 'CEDAR/1/original_1_3.png'), ('CEDAR/1/forgeries_1_1.png', 'CEDAR/1/original_1_4.png'), ('CEDAR/1/forgeries_1_1.png', 'CEDAR/1/original_1_5.png'), ('CEDAR/1/forgeries_1_1.png', 'CEDAR/1/original_1_6.png'), ('CEDAR/1/forgeries_1_1.png', 'CEDAR/1/original_1_7.png'), ('CEDAR/1/forgeries_1_1.png', 'CEDAR/1/original_1_8.png'), ('CEDAR/1/forgeries_1_1.png', 'CEDAR/1/original_1_9.png'), ('CEDAR/1/forgeries_1_10.png', 'CEDAR/1/forgeries_1_11.png'), ('CEDAR/1/forgeries_1_10.png', 'CEDAR/1/forgeries_1_12.png'), ('CEDAR/1/forgeries_1_10.png', 'CEDAR/1/forgeries_1_13.png'), ('CEDAR/1/forgeries_1_10.png', 'CEDAR/1/forgeries_1_14.png'), ('CEDAR/1/forgeries_1_10.png', 'CEDAR/1/forgeries_1_15.png'), ('CEDAR/1/forgeries_1_10.png', 'CEDAR/1/forgeries_1_16.png'), ('CEDAR/1/forgeries_1_10.png', 'CEDAR/1/forgeries_1_17.png'), ('CEDAR/1/forgeries_1_10.png', 'CEDAR/1/forgeries_1_18.png'), ('CEDAR/1/forgeries_1_10.png', 'CEDAR/1/forgeries_1_19.png'), ('CEDAR/1/forgeries_1_10.png', 'CEDAR/1/forgeries_1_2.png'), ('CEDAR/1/forgeries_1_10.png', 'CEDAR/1/forgeries_1_20.png'), ('CEDAR/1/forgeries_1_10.png', 'CEDAR/1/forgeries_1_21.png'), ('CEDAR/1/forgeries_1_10.png', 'CEDAR/1/forgeries_1_22.png'), ('CEDAR/1/forgeries_1_10.png', 'CEDAR/1/forgeries_1_23.png'), ('CEDAR/1/forgeries_1_10.png', 'CEDAR/1/forgeries_1_24.png'), ('CEDAR/1/forgeries_1_10.png', 'CEDAR/1/forgeries_1_3.png'), ('CEDAR/1/forgeries_1_10.png', 'CEDAR/1/forgeries_1_4.png'), ('CEDAR/1/forgeries_1_10.png', 'CEDAR/1/forgeries_1_5.png'), ('CEDAR/1/forgeries_1_10.png', 'CEDAR/1/forgeries_1_6.png'), ('CEDAR/1/forgeries_1_10.png', 'CEDAR/1/forgeries_1_7.png'), ('CEDAR/1/forgeries_1_10.png', 'CEDAR/1/forgeries_1_8.png'), ('CEDAR/1/forgeries_1_10.png', 'CEDAR/1/forgeries_1_9.png'), ('CEDAR/1/forgeries_1_10.png', 'CEDAR/1/original_1_1.png'), ('CEDAR/1/forgeries_1_10.png', 'CEDAR/1/original_1_10.png'), ('CEDAR/1/forgeries_1_10.png', 'CEDAR/1/original_1_11.png'), ('CEDAR/1/forgeries_1_10.png', 'CEDAR/1/original_1_12.png'), ('CEDAR/1/forgeries_1_10.png', 'CEDAR/1/original_1_13.png'), ('CEDAR/1/forgeries_1_10.png', 'CEDAR/1/original_1_14.png'), ('CEDAR/1/forgeries_1_10.png', 'CEDAR/1/original_1_15.png'), ('CEDAR/1/forgeries_1_10.png', 'CEDAR/1/original_1_16.png'), ('CEDAR/1/forgeries_1_10.png', 'CEDAR/1/original_1_17.png'), ('CEDAR/1/forgeries_1_10.png', 'CEDAR/1/original_1_18.png'), ('CEDAR/1/forgeries_1_10.png', 'CEDAR/1/original_1_19.png'), ('CEDAR/1/forgeries_1_10.png', 'CEDAR/1/original_1_2.png'), ('CEDAR/1/forgeries_1_10.png', 'CEDAR/1/original_1_20.png'), ('CEDAR/1/forgeries_1_10.png', 'CEDAR/1/original_1_21.png'), ('CEDAR/1/forgeries_1_10.png', 'CEDAR/1/original_1_22.png'), ('CEDAR/1/forgeries_1_10.png', 'CEDAR/1/original_1_23.png'), ('CEDAR/1/forgeries_1_10.png', 'CEDAR/1/original_1_24.png'), ('CEDAR/1/forgeries_1_10.png', 'CEDAR/1/original_1_3.png'), ('CEDAR/1/forgeries_1_10.png', 'CEDAR/1/original_1_4.png'), ('CEDAR/1/forgeries_1_10.png', 'CEDAR/1/original_1_5.png'), ('CEDAR/1/forgeries_1_10.png', 'CEDAR/1/original_1_6.png'), ('CEDAR/1/forgeries_1_10.png', 'CEDAR/1/original_1_7.png'), ('CEDAR/1/forgeries_1_10.png', 'CEDAR/1/original_1_8.png'), ('CEDAR/1/forgeries_1_10.png', 'CEDAR/1/original_1_9.png'), ('CEDAR/1/forgeries_1_11.png', 'CEDAR/1/forgeries_1_12.png'), ('CEDAR/1/forgeries_1_11.png', 'CEDAR/1/forgeries_1_13.png'), ('CEDAR/1/forgeries_1_11.png', 'CEDAR/1/forgeries_1_14.png'), ('CEDAR/1/forgeries_1_11.png', 'CEDAR/1/forgeries_1_15.png'), ('CEDAR/1/forgeries_1_11.png', 'CEDAR/1/forgeries_1_16.png'), ('CEDAR/1/forgeries_1_11.png', 'CEDAR/1/forgeries_1_17.png'), ('CEDAR/1/forgeries_1_11.png', 'CEDAR/1/forgeries_1_18.png'), ('CEDAR/1/forgeries_1_11.png', 'CEDAR/1/forgeries_1_19.png'), ('CEDAR/1/forgeries_1_11.png', 'CEDAR/1/forgeries_1_2.png'), ('CEDAR/1/forgeries_1_11.png', 'CEDAR/1/forgeries_1_20.png'), ('CEDAR/1/forgeries_1_11.png', 'CEDAR/1/forgeries_1_21.png'), ('CEDAR/1/forgeries_1_11.png', 'CEDAR/1/forgeries_1_22.png'), ('CEDAR/1/forgeries_1_11.png', 'CEDAR/1/forgeries_1_23.png'), ('CEDAR/1/forgeries_1_11.png', 'CEDAR/1/forgeries_1_24.png'), ('CEDAR/1/forgeries_1_11.png', 'CEDAR/1/forgeries_1_3.png'), ('CEDAR/1/forgeries_1_11.png', 'CEDAR/1/forgeries_1_4.png'), ('CEDAR/1/forgeries_1_11.png', 'CEDAR/1/forgeries_1_5.png'), ('CEDAR/1/forgeries_1_11.png', 'CEDAR/1/forgeries_1_6.png'), ('CEDAR/1/forgeries_1_11.png', 'CEDAR/1/forgeries_1_7.png'), ('CEDAR/1/forgeries_1_11.png', 'CEDAR/1/forgeries_1_8.png'), ('CEDAR/1/forgeries_1_11.png', 'CEDAR/1/forgeries_1_9.png'), ('CEDAR/1/forgeries_1_11.png', 'CEDAR/1/original_1_1.png'), ('CEDAR/1/forgeries_1_11.png', 'CEDAR/1/original_1_10.png'), ('CEDAR/1/forgeries_1_11.png', 'CEDAR/1/original_1_11.png'), ('CEDAR/1/forgeries_1_11.png', 'CEDAR/1/original_1_12.png'), ('CEDAR/1/forgeries_1_11.png', 'CEDAR/1/original_1_13.png'), ('CEDAR/1/forgeries_1_11.png', 'CEDAR/1/original_1_14.png'), ('CEDAR/1/forgeries_1_11.png', 'CEDAR/1/original_1_15.png'), ('CEDAR/1/forgeries_1_11.png', 'CEDAR/1/original_1_16.png'), ('CEDAR/1/forgeries_1_11.png', 'CEDAR/1/original_1_17.png'), ('CEDAR/1/forgeries_1_11.png', 'CEDAR/1/original_1_18.png'), ('CEDAR/1/forgeries_1_11.png', 'CEDAR/1/original_1_19.png'), ('CEDAR/1/forgeries_1_11.png', 'CEDAR/1/original_1_2.png'), ('CEDAR/1/forgeries_1_11.png', 'CEDAR/1/original_1_20.png'), ('CEDAR/1/forgeries_1_11.png', 'CEDAR/1/original_1_21.png'), ('CEDAR/1/forgeries_1_11.png', 'CEDAR/1/original_1_22.png'), ('CEDAR/1/forgeries_1_11.png', 'CEDAR/1/original_1_23.png'), ('CEDAR/1/forgeries_1_11.png', 'CEDAR/1/original_1_24.png'), ('CEDAR/1/forgeries_1_11.png', 'CEDAR/1/original_1_3.png'), ('CEDAR/1/forgeries_1_11.png', 'CEDAR/1/original_1_4.png'), ('CEDAR/1/forgeries_1_11.png', 'CEDAR/1/original_1_5.png'), ('CEDAR/1/forgeries_1_11.png', 'CEDAR/1/original_1_6.png'), ('CEDAR/1/forgeries_1_11.png', 'CEDAR/1/original_1_7.png'), ('CEDAR/1/forgeries_1_11.png', 'CEDAR/1/original_1_8.png'), ('CEDAR/1/forgeries_1_11.png', 'CEDAR/1/original_1_9.png'), ('CEDAR/1/forgeries_1_12.png', 'CEDAR/1/forgeries_1_13.png'), ('CEDAR/1/forgeries_1_12.png', 'CEDAR/1/forgeries_1_14.png'), ('CEDAR/1/forgeries_1_12.png', 'CEDAR/1/forgeries_1_15.png'), ('CEDAR/1/forgeries_1_12.png', 'CEDAR/1/forgeries_1_16.png'), ('CEDAR/1/forgeries_1_12.png', 'CEDAR/1/forgeries_1_17.png'), ('CEDAR/1/forgeries_1_12.png', 'CEDAR/1/forgeries_1_18.png'), ('CEDAR/1/forgeries_1_12.png', 'CEDAR/1/forgeries_1_19.png'), ('CEDAR/1/forgeries_1_12.png', 'CEDAR/1/forgeries_1_2.png'), ('CEDAR/1/forgeries_1_12.png', 'CEDAR/1/forgeries_1_20.png'), ('CEDAR/1/forgeries_1_12.png', 'CEDAR/1/forgeries_1_21.png'), ('CEDAR/1/forgeries_1_12.png', 'CEDAR/1/forgeries_1_22.png'), ('CEDAR/1/forgeries_1_12.png', 'CEDAR/1/forgeries_1_23.png'), ('CEDAR/1/forgeries_1_12.png', 'CEDAR/1/forgeries_1_24.png'), ('CEDAR/1/forgeries_1_12.png', 'CEDAR/1/forgeries_1_3.png'), ('CEDAR/1/forgeries_1_12.png', 'CEDAR/1/forgeries_1_4.png'), ('CEDAR/1/forgeries_1_12.png', 'CEDAR/1/forgeries_1_5.png'), ('CEDAR/1/forgeries_1_12.png', 'CEDAR/1/forgeries_1_6.png'), ('CEDAR/1/forgeries_1_12.png', 'CEDAR/1/forgeries_1_7.png'), ('CEDAR/1/forgeries_1_12.png', 'CEDAR/1/forgeries_1_8.png'), ('CEDAR/1/forgeries_1_12.png', 'CEDAR/1/forgeries_1_9.png'), ('CEDAR/1/forgeries_1_12.png', 'CEDAR/1/original_1_1.png'), ('CEDAR/1/forgeries_1_12.png', 'CEDAR/1/original_1_10.png'), ('CEDAR/1/forgeries_1_12.png', 'CEDAR/1/original_1_11.png'), ('CEDAR/1/forgeries_1_12.png', 'CEDAR/1/original_1_12.png'), ('CEDAR/1/forgeries_1_12.png', 'CEDAR/1/original_1_13.png'), ('CEDAR/1/forgeries_1_12.png', 'CEDAR/1/original_1_14.png'), ('CEDAR/1/forgeries_1_12.png', 'CEDAR/1/original_1_15.png'), ('CEDAR/1/forgeries_1_12.png', 'CEDAR/1/original_1_16.png'), ('CEDAR/1/forgeries_1_12.png', 'CEDAR/1/original_1_17.png'), ('CEDAR/1/forgeries_1_12.png', 'CEDAR/1/original_1_18.png'), ('CEDAR/1/forgeries_1_12.png', 'CEDAR/1/original_1_19.png'), ('CEDAR/1/forgeries_1_12.png', 'CEDAR/1/original_1_2.png'), ('CEDAR/1/forgeries_1_12.png', 'CEDAR/1/original_1_20.png'), ('CEDAR/1/forgeries_1_12.png', 'CEDAR/1/original_1_21.png'), ('CEDAR/1/forgeries_1_12.png', 'CEDAR/1/original_1_22.png'), ('CEDAR/1/forgeries_1_12.png', 'CEDAR/1/original_1_23.png'), ('CEDAR/1/forgeries_1_12.png', 'CEDAR/1/original_1_24.png'), ('CEDAR/1/forgeries_1_12.png', 'CEDAR/1/original_1_3.png'), ('CEDAR/1/forgeries_1_12.png', 'CEDAR/1/original_1_4.png'), ('CEDAR/1/forgeries_1_12.png', 'CEDAR/1/original_1_5.png'), ('CEDAR/1/forgeries_1_12.png', 'CEDAR/1/original_1_6.png'), ('CEDAR/1/forgeries_1_12.png', 'CEDAR/1/original_1_7.png'), ('CEDAR/1/forgeries_1_12.png', 'CEDAR/1/original_1_8.png'), ('CEDAR/1/forgeries_1_12.png', 'CEDAR/1/original_1_9.png'), ('CEDAR/1/forgeries_1_13.png', 'CEDAR/1/forgeries_1_14.png'), ('CEDAR/1/forgeries_1_13.png', 'CEDAR/1/forgeries_1_15.png'), ('CEDAR/1/forgeries_1_13.png', 'CEDAR/1/forgeries_1_16.png'), ('CEDAR/1/forgeries_1_13.png', 'CEDAR/1/forgeries_1_17.png'), ('CEDAR/1/forgeries_1_13.png', 'CEDAR/1/forgeries_1_18.png'), ('CEDAR/1/forgeries_1_13.png', 'CEDAR/1/forgeries_1_19.png'), ('CEDAR/1/forgeries_1_13.png', 'CEDAR/1/forgeries_1_2.png'), ('CEDAR/1/forgeries_1_13.png', 'CEDAR/1/forgeries_1_20.png'), ('CEDAR/1/forgeries_1_13.png', 'CEDAR/1/forgeries_1_21.png'), ('CEDAR/1/forgeries_1_13.png', 'CEDAR/1/forgeries_1_22.png'), ('CEDAR/1/forgeries_1_13.png', 'CEDAR/1/forgeries_1_23.png'), ('CEDAR/1/forgeries_1_13.png', 'CEDAR/1/forgeries_1_24.png'), ('CEDAR/1/forgeries_1_13.png', 'CEDAR/1/forgeries_1_3.png'), ('CEDAR/1/forgeries_1_13.png', 'CEDAR/1/forgeries_1_4.png'), ('CEDAR/1/forgeries_1_13.png', 'CEDAR/1/forgeries_1_5.png'), ('CEDAR/1/forgeries_1_13.png', 'CEDAR/1/forgeries_1_6.png'), ('CEDAR/1/forgeries_1_13.png', 'CEDAR/1/forgeries_1_7.png'), ('CEDAR/1/forgeries_1_13.png', 'CEDAR/1/forgeries_1_8.png'), ('CEDAR/1/forgeries_1_13.png', 'CEDAR/1/forgeries_1_9.png'), ('CEDAR/1/forgeries_1_13.png', 'CEDAR/1/original_1_1.png'), ('CEDAR/1/forgeries_1_13.png', 'CEDAR/1/original_1_10.png'), ('CEDAR/1/forgeries_1_13.png', 'CEDAR/1/original_1_11.png'), ('CEDAR/1/forgeries_1_13.png', 'CEDAR/1/original_1_12.png'), ('CEDAR/1/forgeries_1_13.png', 'CEDAR/1/original_1_13.png'), ('CEDAR/1/forgeries_1_13.png', 'CEDAR/1/original_1_14.png'), ('CEDAR/1/forgeries_1_13.png', 'CEDAR/1/original_1_15.png'), ('CEDAR/1/forgeries_1_13.png', 'CEDAR/1/original_1_16.png'), ('CEDAR/1/forgeries_1_13.png', 'CEDAR/1/original_1_17.png'), ('CEDAR/1/forgeries_1_13.png', 'CEDAR/1/original_1_18.png'), ('CEDAR/1/forgeries_1_13.png', 'CEDAR/1/original_1_19.png'), ('CEDAR/1/forgeries_1_13.png', 'CEDAR/1/original_1_2.png'), ('CEDAR/1/forgeries_1_13.png', 'CEDAR/1/original_1_20.png'), ('CEDAR/1/forgeries_1_13.png', 'CEDAR/1/original_1_21.png'), ('CEDAR/1/forgeries_1_13.png', 'CEDAR/1/original_1_22.png'), ('CEDAR/1/forgeries_1_13.png', 'CEDAR/1/original_1_23.png'), ('CEDAR/1/forgeries_1_13.png', 'CEDAR/1/original_1_24.png'), ('CEDAR/1/forgeries_1_13.png', 'CEDAR/1/original_1_3.png'), ('CEDAR/1/forgeries_1_13.png', 'CEDAR/1/original_1_4.png'), ('CEDAR/1/forgeries_1_13.png', 'CEDAR/1/original_1_5.png'), ('CEDAR/1/forgeries_1_13.png', 'CEDAR/1/original_1_6.png'), ('CEDAR/1/forgeries_1_13.png', 'CEDAR/1/original_1_7.png'), ('CEDAR/1/forgeries_1_13.png', 'CEDAR/1/original_1_8.png'), ('CEDAR/1/forgeries_1_13.png', 'CEDAR/1/original_1_9.png'), ('CEDAR/1/forgeries_1_14.png', 'CEDAR/1/forgeries_1_15.png'), ('CEDAR/1/forgeries_1_14.png', 'CEDAR/1/forgeries_1_16.png'), ('CEDAR/1/forgeries_1_14.png', 'CEDAR/1/forgeries_1_17.png'), ('CEDAR/1/forgeries_1_14.png', 'CEDAR/1/forgeries_1_18.png'), ('CEDAR/1/forgeries_1_14.png', 'CEDAR/1/forgeries_1_19.png'), ('CEDAR/1/forgeries_1_14.png', 'CEDAR/1/forgeries_1_2.png'), ('CEDAR/1/forgeries_1_14.png', 'CEDAR/1/forgeries_1_20.png'), ('CEDAR/1/forgeries_1_14.png', 'CEDAR/1/forgeries_1_21.png'), ('CEDAR/1/forgeries_1_14.png', 'CEDAR/1/forgeries_1_22.png'), ('CEDAR/1/forgeries_1_14.png', 'CEDAR/1/forgeries_1_23.png'), ('CEDAR/1/forgeries_1_14.png', 'CEDAR/1/forgeries_1_24.png'), ('CEDAR/1/forgeries_1_14.png', 'CEDAR/1/forgeries_1_3.png'), ('CEDAR/1/forgeries_1_14.png', 'CEDAR/1/forgeries_1_4.png'), ('CEDAR/1/forgeries_1_14.png', 'CEDAR/1/forgeries_1_5.png'), ('CEDAR/1/forgeries_1_14.png', 'CEDAR/1/forgeries_1_6.png'), ('CEDAR/1/forgeries_1_14.png', 'CEDAR/1/forgeries_1_7.png'), ('CEDAR/1/forgeries_1_14.png', 'CEDAR/1/forgeries_1_8.png'), ('CEDAR/1/forgeries_1_14.png', 'CEDAR/1/forgeries_1_9.png'), ('CEDAR/1/forgeries_1_14.png', 'CEDAR/1/original_1_1.png'), ('CEDAR/1/forgeries_1_14.png', 'CEDAR/1/original_1_10.png'), ('CEDAR/1/forgeries_1_14.png', 'CEDAR/1/original_1_11.png'), ('CEDAR/1/forgeries_1_14.png', 'CEDAR/1/original_1_12.png'), ('CEDAR/1/forgeries_1_14.png', 'CEDAR/1/original_1_13.png'), ('CEDAR/1/forgeries_1_14.png', 'CEDAR/1/original_1_14.png'), ('CEDAR/1/forgeries_1_14.png', 'CEDAR/1/original_1_15.png'), ('CEDAR/1/forgeries_1_14.png', 'CEDAR/1/original_1_16.png'), ('CEDAR/1/forgeries_1_14.png', 'CEDAR/1/original_1_17.png'), ('CEDAR/1/forgeries_1_14.png', 'CEDAR/1/original_1_18.png'), ('CEDAR/1/forgeries_1_14.png', 'CEDAR/1/original_1_19.png'), ('CEDAR/1/forgeries_1_14.png', 'CEDAR/1/original_1_2.png'), ('CEDAR/1/forgeries_1_14.png', 'CEDAR/1/original_1_20.png'), ('CEDAR/1/forgeries_1_14.png', 'CEDAR/1/original_1_21.png'), ('CEDAR/1/forgeries_1_14.png', 'CEDAR/1/original_1_22.png'), ('CEDAR/1/forgeries_1_14.png', 'CEDAR/1/original_1_23.png'), ('CEDAR/1/forgeries_1_14.png', 'CEDAR/1/original_1_24.png'), ('CEDAR/1/forgeries_1_14.png', 'CEDAR/1/original_1_3.png'), ('CEDAR/1/forgeries_1_14.png', 'CEDAR/1/original_1_4.png'), ('CEDAR/1/forgeries_1_14.png', 'CEDAR/1/original_1_5.png'), ('CEDAR/1/forgeries_1_14.png', 'CEDAR/1/original_1_6.png'), ('CEDAR/1/forgeries_1_14.png', 'CEDAR/1/original_1_7.png'), ('CEDAR/1/forgeries_1_14.png', 'CEDAR/1/original_1_8.png'), ('CEDAR/1/forgeries_1_14.png', 'CEDAR/1/original_1_9.png'), ('CEDAR/1/forgeries_1_15.png', 'CEDAR/1/forgeries_1_16.png'), ('CEDAR/1/forgeries_1_15.png', 'CEDAR/1/forgeries_1_17.png'), ('CEDAR/1/forgeries_1_15.png', 'CEDAR/1/forgeries_1_18.png'), ('CEDAR/1/forgeries_1_15.png', 'CEDAR/1/forgeries_1_19.png'), ('CEDAR/1/forgeries_1_15.png', 'CEDAR/1/forgeries_1_2.png'), ('CEDAR/1/forgeries_1_15.png', 'CEDAR/1/forgeries_1_20.png'), ('CEDAR/1/forgeries_1_15.png', 'CEDAR/1/forgeries_1_21.png'), ('CEDAR/1/forgeries_1_15.png', 'CEDAR/1/forgeries_1_22.png'), ('CEDAR/1/forgeries_1_15.png', 'CEDAR/1/forgeries_1_23.png'), ('CEDAR/1/forgeries_1_15.png', 'CEDAR/1/forgeries_1_24.png'), ('CEDAR/1/forgeries_1_15.png', 'CEDAR/1/forgeries_1_3.png'), ('CEDAR/1/forgeries_1_15.png', 'CEDAR/1/forgeries_1_4.png'), ('CEDAR/1/forgeries_1_15.png', 'CEDAR/1/forgeries_1_5.png'), ('CEDAR/1/forgeries_1_15.png', 'CEDAR/1/forgeries_1_6.png'), ('CEDAR/1/forgeries_1_15.png', 'CEDAR/1/forgeries_1_7.png'), ('CEDAR/1/forgeries_1_15.png', 'CEDAR/1/forgeries_1_8.png'), ('CEDAR/1/forgeries_1_15.png', 'CEDAR/1/forgeries_1_9.png'), ('CEDAR/1/forgeries_1_15.png', 'CEDAR/1/original_1_1.png'), ('CEDAR/1/forgeries_1_15.png', 'CEDAR/1/original_1_10.png'), ('CEDAR/1/forgeries_1_15.png', 'CEDAR/1/original_1_11.png'), ('CEDAR/1/forgeries_1_15.png', 'CEDAR/1/original_1_12.png'), ('CEDAR/1/forgeries_1_15.png', 'CEDAR/1/original_1_13.png'), ('CEDAR/1/forgeries_1_15.png', 'CEDAR/1/original_1_14.png'), ('CEDAR/1/forgeries_1_15.png', 'CEDAR/1/original_1_15.png'), ('CEDAR/1/forgeries_1_15.png', 'CEDAR/1/original_1_16.png'), ('CEDAR/1/forgeries_1_15.png', 'CEDAR/1/original_1_17.png'), ('CEDAR/1/forgeries_1_15.png', 'CEDAR/1/original_1_18.png'), ('CEDAR/1/forgeries_1_15.png', 'CEDAR/1/original_1_19.png'), ('CEDAR/1/forgeries_1_15.png', 'CEDAR/1/original_1_2.png'), ('CEDAR/1/forgeries_1_15.png', 'CEDAR/1/original_1_20.png'), ('CEDAR/1/forgeries_1_15.png', 'CEDAR/1/original_1_21.png'), ('CEDAR/1/forgeries_1_15.png', 'CEDAR/1/original_1_22.png'), ('CEDAR/1/forgeries_1_15.png', 'CEDAR/1/original_1_23.png'), ('CEDAR/1/forgeries_1_15.png', 'CEDAR/1/original_1_24.png'), ('CEDAR/1/forgeries_1_15.png', 'CEDAR/1/original_1_3.png'), ('CEDAR/1/forgeries_1_15.png', 'CEDAR/1/original_1_4.png'), ('CEDAR/1/forgeries_1_15.png', 'CEDAR/1/original_1_5.png'), ('CEDAR/1/forgeries_1_15.png', 'CEDAR/1/original_1_6.png'), ('CEDAR/1/forgeries_1_15.png', 'CEDAR/1/original_1_7.png'), ('CEDAR/1/forgeries_1_15.png', 'CEDAR/1/original_1_8.png'), ('CEDAR/1/forgeries_1_15.png', 'CEDAR/1/original_1_9.png'), ('CEDAR/1/forgeries_1_16.png', 'CEDAR/1/forgeries_1_17.png'), ('CEDAR/1/forgeries_1_16.png', 'CEDAR/1/forgeries_1_18.png'), ('CEDAR/1/forgeries_1_16.png', 'CEDAR/1/forgeries_1_19.png'), ('CEDAR/1/forgeries_1_16.png', 'CEDAR/1/forgeries_1_2.png'), ('CEDAR/1/forgeries_1_16.png', 'CEDAR/1/forgeries_1_20.png'), ('CEDAR/1/forgeries_1_16.png', 'CEDAR/1/forgeries_1_21.png'), ('CEDAR/1/forgeries_1_16.png', 'CEDAR/1/forgeries_1_22.png'), ('CEDAR/1/forgeries_1_16.png', 'CEDAR/1/forgeries_1_23.png'), ('CEDAR/1/forgeries_1_16.png', 'CEDAR/1/forgeries_1_24.png'), ('CEDAR/1/forgeries_1_16.png', 'CEDAR/1/forgeries_1_3.png'), ('CEDAR/1/forgeries_1_16.png', 'CEDAR/1/forgeries_1_4.png'), ('CEDAR/1/forgeries_1_16.png', 'CEDAR/1/forgeries_1_5.png'), ('CEDAR/1/forgeries_1_16.png', 'CEDAR/1/forgeries_1_6.png'), ('CEDAR/1/forgeries_1_16.png', 'CEDAR/1/forgeries_1_7.png'), ('CEDAR/1/forgeries_1_16.png', 'CEDAR/1/forgeries_1_8.png'), ('CEDAR/1/forgeries_1_16.png', 'CEDAR/1/forgeries_1_9.png'), ('CEDAR/1/forgeries_1_16.png', 'CEDAR/1/original_1_1.png'), ('CEDAR/1/forgeries_1_16.png', 'CEDAR/1/original_1_10.png'), ('CEDAR/1/forgeries_1_16.png', 'CEDAR/1/original_1_11.png'), ('CEDAR/1/forgeries_1_16.png', 'CEDAR/1/original_1_12.png'), ('CEDAR/1/forgeries_1_16.png', 'CEDAR/1/original_1_13.png'), ('CEDAR/1/forgeries_1_16.png', 'CEDAR/1/original_1_14.png'), ('CEDAR/1/forgeries_1_16.png', 'CEDAR/1/original_1_15.png'), ('CEDAR/1/forgeries_1_16.png', 'CEDAR/1/original_1_16.png'), ('CEDAR/1/forgeries_1_16.png', 'CEDAR/1/original_1_17.png'), ('CEDAR/1/forgeries_1_16.png', 'CEDAR/1/original_1_18.png'), ('CEDAR/1/forgeries_1_16.png', 'CEDAR/1/original_1_19.png'), ('CEDAR/1/forgeries_1_16.png', 'CEDAR/1/original_1_2.png'), ('CEDAR/1/forgeries_1_16.png', 'CEDAR/1/original_1_20.png'), ('CEDAR/1/forgeries_1_16.png', 'CEDAR/1/original_1_21.png'), ('CEDAR/1/forgeries_1_16.png', 'CEDAR/1/original_1_22.png'), ('CEDAR/1/forgeries_1_16.png', 'CEDAR/1/original_1_23.png'), ('CEDAR/1/forgeries_1_16.png', 'CEDAR/1/original_1_24.png'), ('CEDAR/1/forgeries_1_16.png', 'CEDAR/1/original_1_3.png'), ('CEDAR/1/forgeries_1_16.png', 'CEDAR/1/original_1_4.png'), ('CEDAR/1/forgeries_1_16.png', 'CEDAR/1/original_1_5.png'), ('CEDAR/1/forgeries_1_16.png', 'CEDAR/1/original_1_6.png'), ('CEDAR/1/forgeries_1_16.png', 'CEDAR/1/original_1_7.png'), ('CEDAR/1/forgeries_1_16.png', 'CEDAR/1/original_1_8.png'), ('CEDAR/1/forgeries_1_16.png', 'CEDAR/1/original_1_9.png'), ('CEDAR/1/forgeries_1_17.png', 'CEDAR/1/forgeries_1_18.png'), ('CEDAR/1/forgeries_1_17.png', 'CEDAR/1/forgeries_1_19.png'), ('CEDAR/1/forgeries_1_17.png', 'CEDAR/1/forgeries_1_2.png'), ('CEDAR/1/forgeries_1_17.png', 'CEDAR/1/forgeries_1_20.png'), ('CEDAR/1/forgeries_1_17.png', 'CEDAR/1/forgeries_1_21.png'), ('CEDAR/1/forgeries_1_17.png', 'CEDAR/1/forgeries_1_22.png'), ('CEDAR/1/forgeries_1_17.png', 'CEDAR/1/forgeries_1_23.png'), ('CEDAR/1/forgeries_1_17.png', 'CEDAR/1/forgeries_1_24.png'), ('CEDAR/1/forgeries_1_17.png', 'CEDAR/1/forgeries_1_3.png'), ('CEDAR/1/forgeries_1_17.png', 'CEDAR/1/forgeries_1_4.png'), ('CEDAR/1/forgeries_1_17.png', 'CEDAR/1/forgeries_1_5.png'), ('CEDAR/1/forgeries_1_17.png', 'CEDAR/1/forgeries_1_6.png'), ('CEDAR/1/forgeries_1_17.png', 'CEDAR/1/forgeries_1_7.png'), ('CEDAR/1/forgeries_1_17.png', 'CEDAR/1/forgeries_1_8.png'), ('CEDAR/1/forgeries_1_17.png', 'CEDAR/1/forgeries_1_9.png'), ('CEDAR/1/forgeries_1_17.png', 'CEDAR/1/original_1_1.png'), ('CEDAR/1/forgeries_1_17.png', 'CEDAR/1/original_1_10.png'), ('CEDAR/1/forgeries_1_17.png', 'CEDAR/1/original_1_11.png'), ('CEDAR/1/forgeries_1_17.png', 'CEDAR/1/original_1_12.png'), ('CEDAR/1/forgeries_1_17.png', 'CEDAR/1/original_1_13.png'), ('CEDAR/1/forgeries_1_17.png', 'CEDAR/1/original_1_14.png'), ('CEDAR/1/forgeries_1_17.png', 'CEDAR/1/original_1_15.png'), ('CEDAR/1/forgeries_1_17.png', 'CEDAR/1/original_1_16.png'), ('CEDAR/1/forgeries_1_17.png', 'CEDAR/1/original_1_17.png'), ('CEDAR/1/forgeries_1_17.png', 'CEDAR/1/original_1_18.png'), ('CEDAR/1/forgeries_1_17.png', 'CEDAR/1/original_1_19.png'), ('CEDAR/1/forgeries_1_17.png', 'CEDAR/1/original_1_2.png'), ('CEDAR/1/forgeries_1_17.png', 'CEDAR/1/original_1_20.png'), ('CEDAR/1/forgeries_1_17.png', 'CEDAR/1/original_1_21.png'), ('CEDAR/1/forgeries_1_17.png', 'CEDAR/1/original_1_22.png'), ('CEDAR/1/forgeries_1_17.png', 'CEDAR/1/original_1_23.png'), ('CEDAR/1/forgeries_1_17.png', 'CEDAR/1/original_1_24.png'), ('CEDAR/1/forgeries_1_17.png', 'CEDAR/1/original_1_3.png'), ('CEDAR/1/forgeries_1_17.png', 'CEDAR/1/original_1_4.png'), ('CEDAR/1/forgeries_1_17.png', 'CEDAR/1/original_1_5.png'), ('CEDAR/1/forgeries_1_17.png', 'CEDAR/1/original_1_6.png'), ('CEDAR/1/forgeries_1_17.png', 'CEDAR/1/original_1_7.png'), ('CEDAR/1/forgeries_1_17.png', 'CEDAR/1/original_1_8.png'), ('CEDAR/1/forgeries_1_17.png', 'CEDAR/1/original_1_9.png'), ('CEDAR/1/forgeries_1_18.png', 'CEDAR/1/forgeries_1_19.png'), ('CEDAR/1/forgeries_1_18.png', 'CEDAR/1/forgeries_1_2.png'), ('CEDAR/1/forgeries_1_18.png', 'CEDAR/1/forgeries_1_20.png'), ('CEDAR/1/forgeries_1_18.png', 'CEDAR/1/forgeries_1_21.png'), ('CEDAR/1/forgeries_1_18.png', 'CEDAR/1/forgeries_1_22.png'), ('CEDAR/1/forgeries_1_18.png', 'CEDAR/1/forgeries_1_23.png'), ('CEDAR/1/forgeries_1_18.png', 'CEDAR/1/forgeries_1_24.png'), ('CEDAR/1/forgeries_1_18.png', 'CEDAR/1/forgeries_1_3.png'), ('CEDAR/1/forgeries_1_18.png', 'CEDAR/1/forgeries_1_4.png'), ('CEDAR/1/forgeries_1_18.png', 'CEDAR/1/forgeries_1_5.png'), ('CEDAR/1/forgeries_1_18.png', 'CEDAR/1/forgeries_1_6.png'), ('CEDAR/1/forgeries_1_18.png', 'CEDAR/1/forgeries_1_7.png'), ('CEDAR/1/forgeries_1_18.png', 'CEDAR/1/forgeries_1_8.png'), ('CEDAR/1/forgeries_1_18.png', 'CEDAR/1/forgeries_1_9.png'), ('CEDAR/1/forgeries_1_18.png', 'CEDAR/1/original_1_1.png'), ('CEDAR/1/forgeries_1_18.png', 'CEDAR/1/original_1_10.png'), ('CEDAR/1/forgeries_1_18.png', 'CEDAR/1/original_1_11.png'), ('CEDAR/1/forgeries_1_18.png', 'CEDAR/1/original_1_12.png'), ('CEDAR/1/forgeries_1_18.png', 'CEDAR/1/original_1_13.png'), ('CEDAR/1/forgeries_1_18.png', 'CEDAR/1/original_1_14.png'), ('CEDAR/1/forgeries_1_18.png', 'CEDAR/1/original_1_15.png'), ('CEDAR/1/forgeries_1_18.png', 'CEDAR/1/original_1_16.png'), ('CEDAR/1/forgeries_1_18.png', 'CEDAR/1/original_1_17.png'), ('CEDAR/1/forgeries_1_18.png', 'CEDAR/1/original_1_18.png'), ('CEDAR/1/forgeries_1_18.png', 'CEDAR/1/original_1_19.png'), ('CEDAR/1/forgeries_1_18.png', 'CEDAR/1/original_1_2.png'), ('CEDAR/1/forgeries_1_18.png', 'CEDAR/1/original_1_20.png'), ('CEDAR/1/forgeries_1_18.png', 'CEDAR/1/original_1_21.png'), ('CEDAR/1/forgeries_1_18.png', 'CEDAR/1/original_1_22.png'), ('CEDAR/1/forgeries_1_18.png', 'CEDAR/1/original_1_23.png'), ('CEDAR/1/forgeries_1_18.png', 'CEDAR/1/original_1_24.png'), ('CEDAR/1/forgeries_1_18.png', 'CEDAR/1/original_1_3.png'), ('CEDAR/1/forgeries_1_18.png', 'CEDAR/1/original_1_4.png'), ('CEDAR/1/forgeries_1_18.png', 'CEDAR/1/original_1_5.png'), ('CEDAR/1/forgeries_1_18.png', 'CEDAR/1/original_1_6.png'), ('CEDAR/1/forgeries_1_18.png', 'CEDAR/1/original_1_7.png'), ('CEDAR/1/forgeries_1_18.png', 'CEDAR/1/original_1_8.png'), ('CEDAR/1/forgeries_1_18.png', 'CEDAR/1/original_1_9.png'), ('CEDAR/1/forgeries_1_19.png', 'CEDAR/1/forgeries_1_2.png'), ('CEDAR/1/forgeries_1_19.png', 'CEDAR/1/forgeries_1_20.png'), ('CEDAR/1/forgeries_1_19.png', 'CEDAR/1/forgeries_1_21.png'), ('CEDAR/1/forgeries_1_19.png', 'CEDAR/1/forgeries_1_22.png'), ('CEDAR/1/forgeries_1_19.png', 'CEDAR/1/forgeries_1_23.png'), ('CEDAR/1/forgeries_1_19.png', 'CEDAR/1/forgeries_1_24.png'), ('CEDAR/1/forgeries_1_19.png', 'CEDAR/1/forgeries_1_3.png'), ('CEDAR/1/forgeries_1_19.png', 'CEDAR/1/forgeries_1_4.png'), ('CEDAR/1/forgeries_1_19.png', 'CEDAR/1/forgeries_1_5.png'), ('CEDAR/1/forgeries_1_19.png', 'CEDAR/1/forgeries_1_6.png'), ('CEDAR/1/forgeries_1_19.png', 'CEDAR/1/forgeries_1_7.png'), ('CEDAR/1/forgeries_1_19.png', 'CEDAR/1/forgeries_1_8.png'), ('CEDAR/1/forgeries_1_19.png', 'CEDAR/1/forgeries_1_9.png'), ('CEDAR/1/forgeries_1_19.png', 'CEDAR/1/original_1_1.png'), ('CEDAR/1/forgeries_1_19.png', 'CEDAR/1/original_1_10.png'), ('CEDAR/1/forgeries_1_19.png', 'CEDAR/1/original_1_11.png'), ('CEDAR/1/forgeries_1_19.png', 'CEDAR/1/original_1_12.png'), ('CEDAR/1/forgeries_1_19.png', 'CEDAR/1/original_1_13.png'), ('CEDAR/1/forgeries_1_19.png', 'CEDAR/1/original_1_14.png'), ('CEDAR/1/forgeries_1_19.png', 'CEDAR/1/original_1_15.png'), ('CEDAR/1/forgeries_1_19.png', 'CEDAR/1/original_1_16.png'), ('CEDAR/1/forgeries_1_19.png', 'CEDAR/1/original_1_17.png'), ('CEDAR/1/forgeries_1_19.png', 'CEDAR/1/original_1_18.png'), ('CEDAR/1/forgeries_1_19.png', 'CEDAR/1/original_1_19.png'), ('CEDAR/1/forgeries_1_19.png', 'CEDAR/1/original_1_2.png'), ('CEDAR/1/forgeries_1_19.png', 'CEDAR/1/original_1_20.png'), ('CEDAR/1/forgeries_1_19.png', 'CEDAR/1/original_1_21.png'), ('CEDAR/1/forgeries_1_19.png', 'CEDAR/1/original_1_22.png'), ('CEDAR/1/forgeries_1_19.png', 'CEDAR/1/original_1_23.png'), ('CEDAR/1/forgeries_1_19.png', 'CEDAR/1/original_1_24.png'), ('CEDAR/1/forgeries_1_19.png', 'CEDAR/1/original_1_3.png'), ('CEDAR/1/forgeries_1_19.png', 'CEDAR/1/original_1_4.png'), ('CEDAR/1/forgeries_1_19.png', 'CEDAR/1/original_1_5.png'), ('CEDAR/1/forgeries_1_19.png', 'CEDAR/1/original_1_6.png'), ('CEDAR/1/forgeries_1_19.png', 'CEDAR/1/original_1_7.png'), ('CEDAR/1/forgeries_1_19.png', 'CEDAR/1/original_1_8.png'), ('CEDAR/1/forgeries_1_19.png', 'CEDAR/1/original_1_9.png'), ('CEDAR/1/forgeries_1_2.png', 'CEDAR/1/forgeries_1_20.png'), ('CEDAR/1/forgeries_1_2.png', 'CEDAR/1/forgeries_1_21.png'), ('CEDAR/1/forgeries_1_2.png', 'CEDAR/1/forgeries_1_22.png'), ('CEDAR/1/forgeries_1_2.png', 'CEDAR/1/forgeries_1_23.png'), ('CEDAR/1/forgeries_1_2.png', 'CEDAR/1/forgeries_1_24.png'), ('CEDAR/1/forgeries_1_2.png', 'CEDAR/1/forgeries_1_3.png'), ('CEDAR/1/forgeries_1_2.png', 'CEDAR/1/forgeries_1_4.png'), ('CEDAR/1/forgeries_1_2.png', 'CEDAR/1/forgeries_1_5.png'), ('CEDAR/1/forgeries_1_2.png', 'CEDAR/1/forgeries_1_6.png'), ('CEDAR/1/forgeries_1_2.png', 'CEDAR/1/forgeries_1_7.png'), ('CEDAR/1/forgeries_1_2.png', 'CEDAR/1/forgeries_1_8.png'), ('CEDAR/1/forgeries_1_2.png', 'CEDAR/1/forgeries_1_9.png'), ('CEDAR/1/forgeries_1_2.png', 'CEDAR/1/original_1_1.png'), ('CEDAR/1/forgeries_1_2.png', 'CEDAR/1/original_1_10.png'), ('CEDAR/1/forgeries_1_2.png', 'CEDAR/1/original_1_11.png'), ('CEDAR/1/forgeries_1_2.png', 'CEDAR/1/original_1_12.png'), ('CEDAR/1/forgeries_1_2.png', 'CEDAR/1/original_1_13.png'), ('CEDAR/1/forgeries_1_2.png', 'CEDAR/1/original_1_14.png'), ('CEDAR/1/forgeries_1_2.png', 'CEDAR/1/original_1_15.png'), ('CEDAR/1/forgeries_1_2.png', 'CEDAR/1/original_1_16.png'), ('CEDAR/1/forgeries_1_2.png', 'CEDAR/1/original_1_17.png'), ('CEDAR/1/forgeries_1_2.png', 'CEDAR/1/original_1_18.png'), ('CEDAR/1/forgeries_1_2.png', 'CEDAR/1/original_1_19.png'), ('CEDAR/1/forgeries_1_2.png', 'CEDAR/1/original_1_2.png'), ('CEDAR/1/forgeries_1_2.png', 'CEDAR/1/original_1_20.png'), ('CEDAR/1/forgeries_1_2.png', 'CEDAR/1/original_1_21.png'), ('CEDAR/1/forgeries_1_2.png', 'CEDAR/1/original_1_22.png'), ('CEDAR/1/forgeries_1_2.png', 'CEDAR/1/original_1_23.png'), ('CEDAR/1/forgeries_1_2.png', 'CEDAR/1/original_1_24.png'), ('CEDAR/1/forgeries_1_2.png', 'CEDAR/1/original_1_3.png'), ('CEDAR/1/forgeries_1_2.png', 'CEDAR/1/original_1_4.png'), ('CEDAR/1/forgeries_1_2.png', 'CEDAR/1/original_1_5.png'), ('CEDAR/1/forgeries_1_2.png', 'CEDAR/1/original_1_6.png'), ('CEDAR/1/forgeries_1_2.png', 'CEDAR/1/original_1_7.png'), ('CEDAR/1/forgeries_1_2.png', 'CEDAR/1/original_1_8.png'), ('CEDAR/1/forgeries_1_2.png', 'CEDAR/1/original_1_9.png'), ('CEDAR/1/forgeries_1_20.png', 'CEDAR/1/forgeries_1_21.png'), ('CEDAR/1/forgeries_1_20.png', 'CEDAR/1/forgeries_1_22.png'), ('CEDAR/1/forgeries_1_20.png', 'CEDAR/1/forgeries_1_23.png'), ('CEDAR/1/forgeries_1_20.png', 'CEDAR/1/forgeries_1_24.png'), ('CEDAR/1/forgeries_1_20.png', 'CEDAR/1/forgeries_1_3.png'), ('CEDAR/1/forgeries_1_20.png', 'CEDAR/1/forgeries_1_4.png'), ('CEDAR/1/forgeries_1_20.png', 'CEDAR/1/forgeries_1_5.png'), ('CEDAR/1/forgeries_1_20.png', 'CEDAR/1/forgeries_1_6.png'), ('CEDAR/1/forgeries_1_20.png', 'CEDAR/1/forgeries_1_7.png'), ('CEDAR/1/forgeries_1_20.png', 'CEDAR/1/forgeries_1_8.png'), ('CEDAR/1/forgeries_1_20.png', 'CEDAR/1/forgeries_1_9.png'), ('CEDAR/1/forgeries_1_20.png', 'CEDAR/1/original_1_1.png'), ('CEDAR/1/forgeries_1_20.png', 'CEDAR/1/original_1_10.png'), ('CEDAR/1/forgeries_1_20.png', 'CEDAR/1/original_1_11.png'), ('CEDAR/1/forgeries_1_20.png', 'CEDAR/1/original_1_12.png'), ('CEDAR/1/forgeries_1_20.png', 'CEDAR/1/original_1_13.png'), ('CEDAR/1/forgeries_1_20.png', 'CEDAR/1/original_1_14.png'), ('CEDAR/1/forgeries_1_20.png', 'CEDAR/1/original_1_15.png'), ('CEDAR/1/forgeries_1_20.png', 'CEDAR/1/original_1_16.png'), ('CEDAR/1/forgeries_1_20.png', 'CEDAR/1/original_1_17.png'), ('CEDAR/1/forgeries_1_20.png', 'CEDAR/1/original_1_18.png'), ('CEDAR/1/forgeries_1_20.png', 'CEDAR/1/original_1_19.png'), ('CEDAR/1/forgeries_1_20.png', 'CEDAR/1/original_1_2.png'), ('CEDAR/1/forgeries_1_20.png', 'CEDAR/1/original_1_20.png'), ('CEDAR/1/forgeries_1_20.png', 'CEDAR/1/original_1_21.png'), ('CEDAR/1/forgeries_1_20.png', 'CEDAR/1/original_1_22.png'), ('CEDAR/1/forgeries_1_20.png', 'CEDAR/1/original_1_23.png'), ('CEDAR/1/forgeries_1_20.png', 'CEDAR/1/original_1_24.png'), ('CEDAR/1/forgeries_1_20.png', 'CEDAR/1/original_1_3.png'), ('CEDAR/1/forgeries_1_20.png', 'CEDAR/1/original_1_4.png'), ('CEDAR/1/forgeries_1_20.png', 'CEDAR/1/original_1_5.png'), ('CEDAR/1/forgeries_1_20.png', 'CEDAR/1/original_1_6.png'), ('CEDAR/1/forgeries_1_20.png', 'CEDAR/1/original_1_7.png'), ('CEDAR/1/forgeries_1_20.png', 'CEDAR/1/original_1_8.png'), ('CEDAR/1/forgeries_1_20.png', 'CEDAR/1/original_1_9.png'), ('CEDAR/1/forgeries_1_21.png', 'CEDAR/1/forgeries_1_22.png'), ('CEDAR/1/forgeries_1_21.png', 'CEDAR/1/forgeries_1_23.png'), ('CEDAR/1/forgeries_1_21.png', 'CEDAR/1/forgeries_1_24.png'), ('CEDAR/1/forgeries_1_21.png', 'CEDAR/1/forgeries_1_3.png'), ('CEDAR/1/forgeries_1_21.png', 'CEDAR/1/forgeries_1_4.png'), ('CEDAR/1/forgeries_1_21.png', 'CEDAR/1/forgeries_1_5.png'), ('CEDAR/1/forgeries_1_21.png', 'CEDAR/1/forgeries_1_6.png'), ('CEDAR/1/forgeries_1_21.png', 'CEDAR/1/forgeries_1_7.png'), ('CEDAR/1/forgeries_1_21.png', 'CEDAR/1/forgeries_1_8.png'), ('CEDAR/1/forgeries_1_21.png', 'CEDAR/1/forgeries_1_9.png'), ('CEDAR/1/forgeries_1_21.png', 'CEDAR/1/original_1_1.png'), ('CEDAR/1/forgeries_1_21.png', 'CEDAR/1/original_1_10.png'), ('CEDAR/1/forgeries_1_21.png', 'CEDAR/1/original_1_11.png'), ('CEDAR/1/forgeries_1_21.png', 'CEDAR/1/original_1_12.png'), ('CEDAR/1/forgeries_1_21.png', 'CEDAR/1/original_1_13.png'), ('CEDAR/1/forgeries_1_21.png', 'CEDAR/1/original_1_14.png'), ('CEDAR/1/forgeries_1_21.png', 'CEDAR/1/original_1_15.png'), ('CEDAR/1/forgeries_1_21.png', 'CEDAR/1/original_1_16.png'), ('CEDAR/1/forgeries_1_21.png', 'CEDAR/1/original_1_17.png'), ('CEDAR/1/forgeries_1_21.png', 'CEDAR/1/original_1_18.png'), ('CEDAR/1/forgeries_1_21.png', 'CEDAR/1/original_1_19.png'), ('CEDAR/1/forgeries_1_21.png', 'CEDAR/1/original_1_2.png'), ('CEDAR/1/forgeries_1_21.png', 'CEDAR/1/original_1_20.png'), ('CEDAR/1/forgeries_1_21.png', 'CEDAR/1/original_1_21.png'), ('CEDAR/1/forgeries_1_21.png', 'CEDAR/1/original_1_22.png'), ('CEDAR/1/forgeries_1_21.png', 'CEDAR/1/original_1_23.png'), ('CEDAR/1/forgeries_1_21.png', 'CEDAR/1/original_1_24.png'), ('CEDAR/1/forgeries_1_21.png', 'CEDAR/1/original_1_3.png'), ('CEDAR/1/forgeries_1_21.png', 'CEDAR/1/original_1_4.png'), ('CEDAR/1/forgeries_1_21.png', 'CEDAR/1/original_1_5.png'), ('CEDAR/1/forgeries_1_21.png', 'CEDAR/1/original_1_6.png'), ('CEDAR/1/forgeries_1_21.png', 'CEDAR/1/original_1_7.png'), ('CEDAR/1/forgeries_1_21.png', 'CEDAR/1/original_1_8.png'), ('CEDAR/1/forgeries_1_21.png', 'CEDAR/1/original_1_9.png'), ('CEDAR/1/forgeries_1_22.png', 'CEDAR/1/forgeries_1_23.png'), ('CEDAR/1/forgeries_1_22.png', 'CEDAR/1/forgeries_1_24.png'), ('CEDAR/1/forgeries_1_22.png', 'CEDAR/1/forgeries_1_3.png'), ('CEDAR/1/forgeries_1_22.png', 'CEDAR/1/forgeries_1_4.png'), ('CEDAR/1/forgeries_1_22.png', 'CEDAR/1/forgeries_1_5.png'), ('CEDAR/1/forgeries_1_22.png', 'CEDAR/1/forgeries_1_6.png'), ('CEDAR/1/forgeries_1_22.png', 'CEDAR/1/forgeries_1_7.png'), ('CEDAR/1/forgeries_1_22.png', 'CEDAR/1/forgeries_1_8.png'), ('CEDAR/1/forgeries_1_22.png', 'CEDAR/1/forgeries_1_9.png'), ('CEDAR/1/forgeries_1_22.png', 'CEDAR/1/original_1_1.png'), ('CEDAR/1/forgeries_1_22.png', 'CEDAR/1/original_1_10.png'), ('CEDAR/1/forgeries_1_22.png', 'CEDAR/1/original_1_11.png'), ('CEDAR/1/forgeries_1_22.png', 'CEDAR/1/original_1_12.png'), ('CEDAR/1/forgeries_1_22.png', 'CEDAR/1/original_1_13.png'), ('CEDAR/1/forgeries_1_22.png', 'CEDAR/1/original_1_14.png'), ('CEDAR/1/forgeries_1_22.png', 'CEDAR/1/original_1_15.png'), ('CEDAR/1/forgeries_1_22.png', 'CEDAR/1/original_1_16.png'), ('CEDAR/1/forgeries_1_22.png', 'CEDAR/1/original_1_17.png'), ('CEDAR/1/forgeries_1_22.png', 'CEDAR/1/original_1_18.png'), ('CEDAR/1/forgeries_1_22.png', 'CEDAR/1/original_1_19.png'), ('CEDAR/1/forgeries_1_22.png', 'CEDAR/1/original_1_2.png'), ('CEDAR/1/forgeries_1_22.png', 'CEDAR/1/original_1_20.png'), ('CEDAR/1/forgeries_1_22.png', 'CEDAR/1/original_1_21.png'), ('CEDAR/1/forgeries_1_22.png', 'CEDAR/1/original_1_22.png'), ('CEDAR/1/forgeries_1_22.png', 'CEDAR/1/original_1_23.png'), ('CEDAR/1/forgeries_1_22.png', 'CEDAR/1/original_1_24.png'), ('CEDAR/1/forgeries_1_22.png', 'CEDAR/1/original_1_3.png'), ('CEDAR/1/forgeries_1_22.png', 'CEDAR/1/original_1_4.png'), ('CEDAR/1/forgeries_1_22.png', 'CEDAR/1/original_1_5.png'), ('CEDAR/1/forgeries_1_22.png', 'CEDAR/1/original_1_6.png'), ('CEDAR/1/forgeries_1_22.png', 'CEDAR/1/original_1_7.png'), ('CEDAR/1/forgeries_1_22.png', 'CEDAR/1/original_1_8.png'), ('CEDAR/1/forgeries_1_22.png', 'CEDAR/1/original_1_9.png'), ('CEDAR/1/forgeries_1_23.png', 'CEDAR/1/forgeries_1_24.png'), ('CEDAR/1/forgeries_1_23.png', 'CEDAR/1/forgeries_1_3.png'), ('CEDAR/1/forgeries_1_23.png', 'CEDAR/1/forgeries_1_4.png'), ('CEDAR/1/forgeries_1_23.png', 'CEDAR/1/forgeries_1_5.png'), ('CEDAR/1/forgeries_1_23.png', 'CEDAR/1/forgeries_1_6.png'), ('CEDAR/1/forgeries_1_23.png', 'CEDAR/1/forgeries_1_7.png'), ('CEDAR/1/forgeries_1_23.png', 'CEDAR/1/forgeries_1_8.png'), ('CEDAR/1/forgeries_1_23.png', 'CEDAR/1/forgeries_1_9.png'), ('CEDAR/1/forgeries_1_23.png', 'CEDAR/1/original_1_1.png'), ('CEDAR/1/forgeries_1_23.png', 'CEDAR/1/original_1_10.png'), ('CEDAR/1/forgeries_1_23.png', 'CEDAR/1/original_1_11.png'), ('CEDAR/1/forgeries_1_23.png', 'CEDAR/1/original_1_12.png'), ('CEDAR/1/forgeries_1_23.png', 'CEDAR/1/original_1_13.png'), ('CEDAR/1/forgeries_1_23.png', 'CEDAR/1/original_1_14.png'), ('CEDAR/1/forgeries_1_23.png', 'CEDAR/1/original_1_15.png'), ('CEDAR/1/forgeries_1_23.png', 'CEDAR/1/original_1_16.png'), ('CEDAR/1/forgeries_1_23.png', 'CEDAR/1/original_1_17.png'), ('CEDAR/1/forgeries_1_23.png', 'CEDAR/1/original_1_18.png'), ('CEDAR/1/forgeries_1_23.png', 'CEDAR/1/original_1_19.png'), ('CEDAR/1/forgeries_1_23.png', 'CEDAR/1/original_1_2.png'), ('CEDAR/1/forgeries_1_23.png', 'CEDAR/1/original_1_20.png'), ('CEDAR/1/forgeries_1_23.png', 'CEDAR/1/original_1_21.png'), ('CEDAR/1/forgeries_1_23.png', 'CEDAR/1/original_1_22.png'), ('CEDAR/1/forgeries_1_23.png', 'CEDAR/1/original_1_23.png'), ('CEDAR/1/forgeries_1_23.png', 'CEDAR/1/original_1_24.png'), ('CEDAR/1/forgeries_1_23.png', 'CEDAR/1/original_1_3.png'), ('CEDAR/1/forgeries_1_23.png', 'CEDAR/1/original_1_4.png'), ('CEDAR/1/forgeries_1_23.png', 'CEDAR/1/original_1_5.png'), ('CEDAR/1/forgeries_1_23.png', 'CEDAR/1/original_1_6.png'), ('CEDAR/1/forgeries_1_23.png', 'CEDAR/1/original_1_7.png'), ('CEDAR/1/forgeries_1_23.png', 'CEDAR/1/original_1_8.png'), ('CEDAR/1/forgeries_1_23.png', 'CEDAR/1/original_1_9.png'), ('CEDAR/1/forgeries_1_24.png', 'CEDAR/1/forgeries_1_3.png'), ('CEDAR/1/forgeries_1_24.png', 'CEDAR/1/forgeries_1_4.png'), ('CEDAR/1/forgeries_1_24.png', 'CEDAR/1/forgeries_1_5.png'), ('CEDAR/1/forgeries_1_24.png', 'CEDAR/1/forgeries_1_6.png'), ('CEDAR/1/forgeries_1_24.png', 'CEDAR/1/forgeries_1_7.png'), ('CEDAR/1/forgeries_1_24.png', 'CEDAR/1/forgeries_1_8.png'), ('CEDAR/1/forgeries_1_24.png', 'CEDAR/1/forgeries_1_9.png'), ('CEDAR/1/forgeries_1_24.png', 'CEDAR/1/original_1_1.png'), ('CEDAR/1/forgeries_1_24.png', 'CEDAR/1/original_1_10.png'), ('CEDAR/1/forgeries_1_24.png', 'CEDAR/1/original_1_11.png'), ('CEDAR/1/forgeries_1_24.png', 'CEDAR/1/original_1_12.png'), ('CEDAR/1/forgeries_1_24.png', 'CEDAR/1/original_1_13.png'), ('CEDAR/1/forgeries_1_24.png', 'CEDAR/1/original_1_14.png'), ('CEDAR/1/forgeries_1_24.png', 'CEDAR/1/original_1_15.png'), ('CEDAR/1/forgeries_1_24.png', 'CEDAR/1/original_1_16.png'), ('CEDAR/1/forgeries_1_24.png', 'CEDAR/1/original_1_17.png'), ('CEDAR/1/forgeries_1_24.png', 'CEDAR/1/original_1_18.png'), ('CEDAR/1/forgeries_1_24.png', 'CEDAR/1/original_1_19.png'), ('CEDAR/1/forgeries_1_24.png', 'CEDAR/1/original_1_2.png'), ('CEDAR/1/forgeries_1_24.png', 'CEDAR/1/original_1_20.png'), ('CEDAR/1/forgeries_1_24.png', 'CEDAR/1/original_1_21.png'), ('CEDAR/1/forgeries_1_24.png', 'CEDAR/1/original_1_22.png'), ('CEDAR/1/forgeries_1_24.png', 'CEDAR/1/original_1_23.png'), ('CEDAR/1/forgeries_1_24.png', 'CEDAR/1/original_1_24.png'), ('CEDAR/1/forgeries_1_24.png', 'CEDAR/1/original_1_3.png'), ('CEDAR/1/forgeries_1_24.png', 'CEDAR/1/original_1_4.png'), ('CEDAR/1/forgeries_1_24.png', 'CEDAR/1/original_1_5.png'), ('CEDAR/1/forgeries_1_24.png', 'CEDAR/1/original_1_6.png'), ('CEDAR/1/forgeries_1_24.png', 'CEDAR/1/original_1_7.png'), ('CEDAR/1/forgeries_1_24.png', 'CEDAR/1/original_1_8.png'), ('CEDAR/1/forgeries_1_24.png', 'CEDAR/1/original_1_9.png'), ('CEDAR/1/forgeries_1_3.png', 'CEDAR/1/forgeries_1_4.png'), ('CEDAR/1/forgeries_1_3.png', 'CEDAR/1/forgeries_1_5.png'), ('CEDAR/1/forgeries_1_3.png', 'CEDAR/1/forgeries_1_6.png'), ('CEDAR/1/forgeries_1_3.png', 'CEDAR/1/forgeries_1_7.png'), ('CEDAR/1/forgeries_1_3.png', 'CEDAR/1/forgeries_1_8.png'), ('CEDAR/1/forgeries_1_3.png', 'CEDAR/1/forgeries_1_9.png'), ('CEDAR/1/forgeries_1_3.png', 'CEDAR/1/original_1_1.png'), ('CEDAR/1/forgeries_1_3.png', 'CEDAR/1/original_1_10.png'), ('CEDAR/1/forgeries_1_3.png', 'CEDAR/1/original_1_11.png'), ('CEDAR/1/forgeries_1_3.png', 'CEDAR/1/original_1_12.png'), ('CEDAR/1/forgeries_1_3.png', 'CEDAR/1/original_1_13.png'), ('CEDAR/1/forgeries_1_3.png', 'CEDAR/1/original_1_14.png'), ('CEDAR/1/forgeries_1_3.png', 'CEDAR/1/original_1_15.png'), ('CEDAR/1/forgeries_1_3.png', 'CEDAR/1/original_1_16.png'), ('CEDAR/1/forgeries_1_3.png', 'CEDAR/1/original_1_17.png'), ('CEDAR/1/forgeries_1_3.png', 'CEDAR/1/original_1_18.png'), ('CEDAR/1/forgeries_1_3.png', 'CEDAR/1/original_1_19.png'), ('CEDAR/1/forgeries_1_3.png', 'CEDAR/1/original_1_2.png'), ('CEDAR/1/forgeries_1_3.png', 'CEDAR/1/original_1_20.png'), ('CEDAR/1/forgeries_1_3.png', 'CEDAR/1/original_1_21.png'), ('CEDAR/1/forgeries_1_3.png', 'CEDAR/1/original_1_22.png'), ('CEDAR/1/forgeries_1_3.png', 'CEDAR/1/original_1_23.png'), ('CEDAR/1/forgeries_1_3.png', 'CEDAR/1/original_1_24.png'), ('CEDAR/1/forgeries_1_3.png', 'CEDAR/1/original_1_3.png'), ('CEDAR/1/forgeries_1_3.png', 'CEDAR/1/original_1_4.png'), ('CEDAR/1/forgeries_1_3.png', 'CEDAR/1/original_1_5.png'), ('CEDAR/1/forgeries_1_3.png', 'CEDAR/1/original_1_6.png'), ('CEDAR/1/forgeries_1_3.png', 'CEDAR/1/original_1_7.png'), ('CEDAR/1/forgeries_1_3.png', 'CEDAR/1/original_1_8.png'), ('CEDAR/1/forgeries_1_3.png', 'CEDAR/1/original_1_9.png'), ('CEDAR/1/forgeries_1_4.png', 'CEDAR/1/forgeries_1_5.png'), ('CEDAR/1/forgeries_1_4.png', 'CEDAR/1/forgeries_1_6.png'), ('CEDAR/1/forgeries_1_4.png', 'CEDAR/1/forgeries_1_7.png'), ('CEDAR/1/forgeries_1_4.png', 'CEDAR/1/forgeries_1_8.png'), ('CEDAR/1/forgeries_1_4.png', 'CEDAR/1/forgeries_1_9.png'), ('CEDAR/1/forgeries_1_4.png', 'CEDAR/1/original_1_1.png'), ('CEDAR/1/forgeries_1_4.png', 'CEDAR/1/original_1_10.png'), ('CEDAR/1/forgeries_1_4.png', 'CEDAR/1/original_1_11.png'), ('CEDAR/1/forgeries_1_4.png', 'CEDAR/1/original_1_12.png'), ('CEDAR/1/forgeries_1_4.png', 'CEDAR/1/original_1_13.png'), ('CEDAR/1/forgeries_1_4.png', 'CEDAR/1/original_1_14.png'), ('CEDAR/1/forgeries_1_4.png', 'CEDAR/1/original_1_15.png'), ('CEDAR/1/forgeries_1_4.png', 'CEDAR/1/original_1_16.png'), ('CEDAR/1/forgeries_1_4.png', 'CEDAR/1/original_1_17.png'), ('CEDAR/1/forgeries_1_4.png', 'CEDAR/1/original_1_18.png'), ('CEDAR/1/forgeries_1_4.png', 'CEDAR/1/original_1_19.png'), ('CEDAR/1/forgeries_1_4.png', 'CEDAR/1/original_1_2.png'), ('CEDAR/1/forgeries_1_4.png', 'CEDAR/1/original_1_20.png'), ('CEDAR/1/forgeries_1_4.png', 'CEDAR/1/original_1_21.png'), ('CEDAR/1/forgeries_1_4.png', 'CEDAR/1/original_1_22.png'), ('CEDAR/1/forgeries_1_4.png', 'CEDAR/1/original_1_23.png'), ('CEDAR/1/forgeries_1_4.png', 'CEDAR/1/original_1_24.png'), ('CEDAR/1/forgeries_1_4.png', 'CEDAR/1/original_1_3.png'), ('CEDAR/1/forgeries_1_4.png', 'CEDAR/1/original_1_4.png'), ('CEDAR/1/forgeries_1_4.png', 'CEDAR/1/original_1_5.png'), ('CEDAR/1/forgeries_1_4.png', 'CEDAR/1/original_1_6.png'), ('CEDAR/1/forgeries_1_4.png', 'CEDAR/1/original_1_7.png'), ('CEDAR/1/forgeries_1_4.png', 'CEDAR/1/original_1_8.png'), ('CEDAR/1/forgeries_1_4.png', 'CEDAR/1/original_1_9.png'), ('CEDAR/1/forgeries_1_5.png', 'CEDAR/1/forgeries_1_6.png'), ('CEDAR/1/forgeries_1_5.png', 'CEDAR/1/forgeries_1_7.png'), ('CEDAR/1/forgeries_1_5.png', 'CEDAR/1/forgeries_1_8.png'), ('CEDAR/1/forgeries_1_5.png', 'CEDAR/1/forgeries_1_9.png'), ('CEDAR/1/forgeries_1_5.png', 'CEDAR/1/original_1_1.png'), ('CEDAR/1/forgeries_1_5.png', 'CEDAR/1/original_1_10.png'), ('CEDAR/1/forgeries_1_5.png', 'CEDAR/1/original_1_11.png'), ('CEDAR/1/forgeries_1_5.png', 'CEDAR/1/original_1_12.png'), ('CEDAR/1/forgeries_1_5.png', 'CEDAR/1/original_1_13.png'), ('CEDAR/1/forgeries_1_5.png', 'CEDAR/1/original_1_14.png'), ('CEDAR/1/forgeries_1_5.png', 'CEDAR/1/original_1_15.png'), ('CEDAR/1/forgeries_1_5.png', 'CEDAR/1/original_1_16.png'), ('CEDAR/1/forgeries_1_5.png', 'CEDAR/1/original_1_17.png'), ('CEDAR/1/forgeries_1_5.png', 'CEDAR/1/original_1_18.png'), ('CEDAR/1/forgeries_1_5.png', 'CEDAR/1/original_1_19.png'), ('CEDAR/1/forgeries_1_5.png', 'CEDAR/1/original_1_2.png'), ('CEDAR/1/forgeries_1_5.png', 'CEDAR/1/original_1_20.png'), ('CEDAR/1/forgeries_1_5.png', 'CEDAR/1/original_1_21.png'), ('CEDAR/1/forgeries_1_5.png', 'CEDAR/1/original_1_22.png'), ('CEDAR/1/forgeries_1_5.png', 'CEDAR/1/original_1_23.png'), ('CEDAR/1/forgeries_1_5.png', 'CEDAR/1/original_1_24.png'), ('CEDAR/1/forgeries_1_5.png', 'CEDAR/1/original_1_3.png'), ('CEDAR/1/forgeries_1_5.png', 'CEDAR/1/original_1_4.png'), ('CEDAR/1/forgeries_1_5.png', 'CEDAR/1/original_1_5.png'), ('CEDAR/1/forgeries_1_5.png', 'CEDAR/1/original_1_6.png'), ('CEDAR/1/forgeries_1_5.png', 'CEDAR/1/original_1_7.png'), ('CEDAR/1/forgeries_1_5.png', 'CEDAR/1/original_1_8.png'), ('CEDAR/1/forgeries_1_5.png', 'CEDAR/1/original_1_9.png'), ('CEDAR/1/forgeries_1_6.png', 'CEDAR/1/forgeries_1_7.png'), ('CEDAR/1/forgeries_1_6.png', 'CEDAR/1/forgeries_1_8.png'), ('CEDAR/1/forgeries_1_6.png', 'CEDAR/1/forgeries_1_9.png'), ('CEDAR/1/forgeries_1_6.png', 'CEDAR/1/original_1_1.png'), ('CEDAR/1/forgeries_1_6.png', 'CEDAR/1/original_1_10.png'), ('CEDAR/1/forgeries_1_6.png', 'CEDAR/1/original_1_11.png'), ('CEDAR/1/forgeries_1_6.png', 'CEDAR/1/original_1_12.png'), ('CEDAR/1/forgeries_1_6.png', 'CEDAR/1/original_1_13.png'), ('CEDAR/1/forgeries_1_6.png', 'CEDAR/1/original_1_14.png'), ('CEDAR/1/forgeries_1_6.png', 'CEDAR/1/original_1_15.png'), ('CEDAR/1/forgeries_1_6.png', 'CEDAR/1/original_1_16.png'), ('CEDAR/1/forgeries_1_6.png', 'CEDAR/1/original_1_17.png'), ('CEDAR/1/forgeries_1_6.png', 'CEDAR/1/original_1_18.png'), ('CEDAR/1/forgeries_1_6.png', 'CEDAR/1/original_1_19.png'), ('CEDAR/1/forgeries_1_6.png', 'CEDAR/1/original_1_2.png'), ('CEDAR/1/forgeries_1_6.png', 'CEDAR/1/original_1_20.png'), ('CEDAR/1/forgeries_1_6.png', 'CEDAR/1/original_1_21.png'), ('CEDAR/1/forgeries_1_6.png', 'CEDAR/1/original_1_22.png'), ('CEDAR/1/forgeries_1_6.png', 'CEDAR/1/original_1_23.png'), ('CEDAR/1/forgeries_1_6.png', 'CEDAR/1/original_1_24.png'), ('CEDAR/1/forgeries_1_6.png', 'CEDAR/1/original_1_3.png'), ('CEDAR/1/forgeries_1_6.png', 'CEDAR/1/original_1_4.png'), ('CEDAR/1/forgeries_1_6.png', 'CEDAR/1/original_1_5.png'), ('CEDAR/1/forgeries_1_6.png', 'CEDAR/1/original_1_6.png'), ('CEDAR/1/forgeries_1_6.png', 'CEDAR/1/original_1_7.png'), ('CEDAR/1/forgeries_1_6.png', 'CEDAR/1/original_1_8.png'), ('CEDAR/1/forgeries_1_6.png', 'CEDAR/1/original_1_9.png'), ('CEDAR/1/forgeries_1_7.png', 'CEDAR/1/forgeries_1_8.png'), ('CEDAR/1/forgeries_1_7.png', 'CEDAR/1/forgeries_1_9.png'), ('CEDAR/1/forgeries_1_7.png', 'CEDAR/1/original_1_1.png'), ('CEDAR/1/forgeries_1_7.png', 'CEDAR/1/original_1_10.png'), ('CEDAR/1/forgeries_1_7.png', 'CEDAR/1/original_1_11.png'), ('CEDAR/1/forgeries_1_7.png', 'CEDAR/1/original_1_12.png'), ('CEDAR/1/forgeries_1_7.png', 'CEDAR/1/original_1_13.png'), ('CEDAR/1/forgeries_1_7.png', 'CEDAR/1/original_1_14.png'), ('CEDAR/1/forgeries_1_7.png', 'CEDAR/1/original_1_15.png'), ('CEDAR/1/forgeries_1_7.png', 'CEDAR/1/original_1_16.png'), ('CEDAR/1/forgeries_1_7.png', 'CEDAR/1/original_1_17.png'), ('CEDAR/1/forgeries_1_7.png', 'CEDAR/1/original_1_18.png'), ('CEDAR/1/forgeries_1_7.png', 'CEDAR/1/original_1_19.png'), ('CEDAR/1/forgeries_1_7.png', 'CEDAR/1/original_1_2.png'), ('CEDAR/1/forgeries_1_7.png', 'CEDAR/1/original_1_20.png'), ('CEDAR/1/forgeries_1_7.png', 'CEDAR/1/original_1_21.png'), ('CEDAR/1/forgeries_1_7.png', 'CEDAR/1/original_1_22.png'), ('CEDAR/1/forgeries_1_7.png', 'CEDAR/1/original_1_23.png'), ('CEDAR/1/forgeries_1_7.png', 'CEDAR/1/original_1_24.png'), ('CEDAR/1/forgeries_1_7.png', 'CEDAR/1/original_1_3.png'), ('CEDAR/1/forgeries_1_7.png', 'CEDAR/1/original_1_4.png'), ('CEDAR/1/forgeries_1_7.png', 'CEDAR/1/original_1_5.png'), ('CEDAR/1/forgeries_1_7.png', 'CEDAR/1/original_1_6.png'), ('CEDAR/1/forgeries_1_7.png', 'CEDAR/1/original_1_7.png'), ('CEDAR/1/forgeries_1_7.png', 'CEDAR/1/original_1_8.png'), ('CEDAR/1/forgeries_1_7.png', 'CEDAR/1/original_1_9.png'), ('CEDAR/1/forgeries_1_8.png', 'CEDAR/1/forgeries_1_9.png'), ('CEDAR/1/forgeries_1_8.png', 'CEDAR/1/original_1_1.png'), ('CEDAR/1/forgeries_1_8.png', 'CEDAR/1/original_1_10.png'), ('CEDAR/1/forgeries_1_8.png', 'CEDAR/1/original_1_11.png'), ('CEDAR/1/forgeries_1_8.png', 'CEDAR/1/original_1_12.png'), ('CEDAR/1/forgeries_1_8.png', 'CEDAR/1/original_1_13.png'), ('CEDAR/1/forgeries_1_8.png', 'CEDAR/1/original_1_14.png'), ('CEDAR/1/forgeries_1_8.png', 'CEDAR/1/original_1_15.png'), ('CEDAR/1/forgeries_1_8.png', 'CEDAR/1/original_1_16.png'), ('CEDAR/1/forgeries_1_8.png', 'CEDAR/1/original_1_17.png'), ('CEDAR/1/forgeries_1_8.png', 'CEDAR/1/original_1_18.png'), ('CEDAR/1/forgeries_1_8.png', 'CEDAR/1/original_1_19.png'), ('CEDAR/1/forgeries_1_8.png', 'CEDAR/1/original_1_2.png'), ('CEDAR/1/forgeries_1_8.png', 'CEDAR/1/original_1_20.png'), ('CEDAR/1/forgeries_1_8.png', 'CEDAR/1/original_1_21.png'), ('CEDAR/1/forgeries_1_8.png', 'CEDAR/1/original_1_22.png'), ('CEDAR/1/forgeries_1_8.png', 'CEDAR/1/original_1_23.png'), ('CEDAR/1/forgeries_1_8.png', 'CEDAR/1/original_1_24.png'), ('CEDAR/1/forgeries_1_8.png', 'CEDAR/1/original_1_3.png'), ('CEDAR/1/forgeries_1_8.png', 'CEDAR/1/original_1_4.png'), ('CEDAR/1/forgeries_1_8.png', 'CEDAR/1/original_1_5.png'), ('CEDAR/1/forgeries_1_8.png', 'CEDAR/1/original_1_6.png'), ('CEDAR/1/forgeries_1_8.png', 'CEDAR/1/original_1_7.png'), ('CEDAR/1/forgeries_1_8.png', 'CEDAR/1/original_1_8.png'), ('CEDAR/1/forgeries_1_8.png', 'CEDAR/1/original_1_9.png'), ('CEDAR/1/forgeries_1_9.png', 'CEDAR/1/original_1_1.png'), ('CEDAR/1/forgeries_1_9.png', 'CEDAR/1/original_1_10.png'), ('CEDAR/1/forgeries_1_9.png', 'CEDAR/1/original_1_11.png'), ('CEDAR/1/forgeries_1_9.png', 'CEDAR/1/original_1_12.png'), ('CEDAR/1/forgeries_1_9.png', 'CEDAR/1/original_1_13.png'), ('CEDAR/1/forgeries_1_9.png', 'CEDAR/1/original_1_14.png'), ('CEDAR/1/forgeries_1_9.png', 'CEDAR/1/original_1_15.png'), ('CEDAR/1/forgeries_1_9.png', 'CEDAR/1/original_1_16.png'), ('CEDAR/1/forgeries_1_9.png', 'CEDAR/1/original_1_17.png'), ('CEDAR/1/forgeries_1_9.png', 'CEDAR/1/original_1_18.png'), ('CEDAR/1/forgeries_1_9.png', 'CEDAR/1/original_1_19.png'), ('CEDAR/1/forgeries_1_9.png', 'CEDAR/1/original_1_2.png'), ('CEDAR/1/forgeries_1_9.png', 'CEDAR/1/original_1_20.png'), ('CEDAR/1/forgeries_1_9.png', 'CEDAR/1/original_1_21.png'), ('CEDAR/1/forgeries_1_9.png', 'CEDAR/1/original_1_22.png'), ('CEDAR/1/forgeries_1_9.png', 'CEDAR/1/original_1_23.png'), ('CEDAR/1/forgeries_1_9.png', 'CEDAR/1/original_1_24.png'), ('CEDAR/1/forgeries_1_9.png', 'CEDAR/1/original_1_3.png'), ('CEDAR/1/forgeries_1_9.png', 'CEDAR/1/original_1_4.png'), ('CEDAR/1/forgeries_1_9.png', 'CEDAR/1/original_1_5.png'), ('CEDAR/1/forgeries_1_9.png', 'CEDAR/1/original_1_6.png'), ('CEDAR/1/forgeries_1_9.png', 'CEDAR/1/original_1_7.png'), ('CEDAR/1/forgeries_1_9.png', 'CEDAR/1/original_1_8.png'), ('CEDAR/1/forgeries_1_9.png', 'CEDAR/1/original_1_9.png'), ('CEDAR/1/original_1_1.png', 'CEDAR/1/original_1_10.png'), ('CEDAR/1/original_1_1.png', 'CEDAR/1/original_1_11.png'), ('CEDAR/1/original_1_1.png', 'CEDAR/1/original_1_12.png'), ('CEDAR/1/original_1_1.png', 'CEDAR/1/original_1_13.png'), ('CEDAR/1/original_1_1.png', 'CEDAR/1/original_1_14.png'), ('CEDAR/1/original_1_1.png', 'CEDAR/1/original_1_15.png'), ('CEDAR/1/original_1_1.png', 'CEDAR/1/original_1_16.png'), ('CEDAR/1/original_1_1.png', 'CEDAR/1/original_1_17.png'), ('CEDAR/1/original_1_1.png', 'CEDAR/1/original_1_18.png'), ('CEDAR/1/original_1_1.png', 'CEDAR/1/original_1_19.png'), ('CEDAR/1/original_1_1.png', 'CEDAR/1/original_1_2.png'), ('CEDAR/1/original_1_1.png', 'CEDAR/1/original_1_20.png'), ('CEDAR/1/original_1_1.png', 'CEDAR/1/original_1_21.png'), ('CEDAR/1/original_1_1.png', 'CEDAR/1/original_1_22.png'), ('CEDAR/1/original_1_1.png', 'CEDAR/1/original_1_23.png'), ('CEDAR/1/original_1_1.png', 'CEDAR/1/original_1_24.png'), ('CEDAR/1/original_1_1.png', 'CEDAR/1/original_1_3.png'), ('CEDAR/1/original_1_1.png', 'CEDAR/1/original_1_4.png'), ('CEDAR/1/original_1_1.png', 'CEDAR/1/original_1_5.png'), ('CEDAR/1/original_1_1.png', 'CEDAR/1/original_1_6.png'), ('CEDAR/1/original_1_1.png', 'CEDAR/1/original_1_7.png'), ('CEDAR/1/original_1_1.png', 'CEDAR/1/original_1_8.png'), ('CEDAR/1/original_1_1.png', 'CEDAR/1/original_1_9.png'), ('CEDAR/1/original_1_10.png', 'CEDAR/1/original_1_11.png'), ('CEDAR/1/original_1_10.png', 'CEDAR/1/original_1_12.png'), ('CEDAR/1/original_1_10.png', 'CEDAR/1/original_1_13.png'), ('CEDAR/1/original_1_10.png', 'CEDAR/1/original_1_14.png'), ('CEDAR/1/original_1_10.png', 'CEDAR/1/original_1_15.png'), ('CEDAR/1/original_1_10.png', 'CEDAR/1/original_1_16.png'), ('CEDAR/1/original_1_10.png', 'CEDAR/1/original_1_17.png'), ('CEDAR/1/original_1_10.png', 'CEDAR/1/original_1_18.png'), ('CEDAR/1/original_1_10.png', 'CEDAR/1/original_1_19.png'), ('CEDAR/1/original_1_10.png', 'CEDAR/1/original_1_2.png'), ('CEDAR/1/original_1_10.png', 'CEDAR/1/original_1_20.png'), ('CEDAR/1/original_1_10.png', 'CEDAR/1/original_1_21.png'), ('CEDAR/1/original_1_10.png', 'CEDAR/1/original_1_22.png'), ('CEDAR/1/original_1_10.png', 'CEDAR/1/original_1_23.png'), ('CEDAR/1/original_1_10.png', 'CEDAR/1/original_1_24.png'), ('CEDAR/1/original_1_10.png', 'CEDAR/1/original_1_3.png'), ('CEDAR/1/original_1_10.png', 'CEDAR/1/original_1_4.png'), ('CEDAR/1/original_1_10.png', 'CEDAR/1/original_1_5.png'), ('CEDAR/1/original_1_10.png', 'CEDAR/1/original_1_6.png'), ('CEDAR/1/original_1_10.png', 'CEDAR/1/original_1_7.png'), ('CEDAR/1/original_1_10.png', 'CEDAR/1/original_1_8.png'), ('CEDAR/1/original_1_10.png', 'CEDAR/1/original_1_9.png'), ('CEDAR/1/original_1_11.png', 'CEDAR/1/original_1_12.png'), ('CEDAR/1/original_1_11.png', 'CEDAR/1/original_1_13.png'), ('CEDAR/1/original_1_11.png', 'CEDAR/1/original_1_14.png'), ('CEDAR/1/original_1_11.png', 'CEDAR/1/original_1_15.png'), ('CEDAR/1/original_1_11.png', 'CEDAR/1/original_1_16.png'), ('CEDAR/1/original_1_11.png', 'CEDAR/1/original_1_17.png'), ('CEDAR/1/original_1_11.png', 'CEDAR/1/original_1_18.png'), ('CEDAR/1/original_1_11.png', 'CEDAR/1/original_1_19.png'), ('CEDAR/1/original_1_11.png', 'CEDAR/1/original_1_2.png'), ('CEDAR/1/original_1_11.png', 'CEDAR/1/original_1_20.png'), ('CEDAR/1/original_1_11.png', 'CEDAR/1/original_1_21.png'), ('CEDAR/1/original_1_11.png', 'CEDAR/1/original_1_22.png'), ('CEDAR/1/original_1_11.png', 'CEDAR/1/original_1_23.png'), ('CEDAR/1/original_1_11.png', 'CEDAR/1/original_1_24.png'), ('CEDAR/1/original_1_11.png', 'CEDAR/1/original_1_3.png'), ('CEDAR/1/original_1_11.png', 'CEDAR/1/original_1_4.png'), ('CEDAR/1/original_1_11.png', 'CEDAR/1/original_1_5.png'), ('CEDAR/1/original_1_11.png', 'CEDAR/1/original_1_6.png'), ('CEDAR/1/original_1_11.png', 'CEDAR/1/original_1_7.png'), ('CEDAR/1/original_1_11.png', 'CEDAR/1/original_1_8.png'), ('CEDAR/1/original_1_11.png', 'CEDAR/1/original_1_9.png'), ('CEDAR/1/original_1_12.png', 'CEDAR/1/original_1_13.png'), ('CEDAR/1/original_1_12.png', 'CEDAR/1/original_1_14.png'), ('CEDAR/1/original_1_12.png', 'CEDAR/1/original_1_15.png'), ('CEDAR/1/original_1_12.png', 'CEDAR/1/original_1_16.png'), ('CEDAR/1/original_1_12.png', 'CEDAR/1/original_1_17.png'), ('CEDAR/1/original_1_12.png', 'CEDAR/1/original_1_18.png'), ('CEDAR/1/original_1_12.png', 'CEDAR/1/original_1_19.png'), ('CEDAR/1/original_1_12.png', 'CEDAR/1/original_1_2.png'), ('CEDAR/1/original_1_12.png', 'CEDAR/1/original_1_20.png'), ('CEDAR/1/original_1_12.png', 'CEDAR/1/original_1_21.png'), ('CEDAR/1/original_1_12.png', 'CEDAR/1/original_1_22.png'), ('CEDAR/1/original_1_12.png', 'CEDAR/1/original_1_23.png'), ('CEDAR/1/original_1_12.png', 'CEDAR/1/original_1_24.png'), ('CEDAR/1/original_1_12.png', 'CEDAR/1/original_1_3.png'), ('CEDAR/1/original_1_12.png', 'CEDAR/1/original_1_4.png'), ('CEDAR/1/original_1_12.png', 'CEDAR/1/original_1_5.png'), ('CEDAR/1/original_1_12.png', 'CEDAR/1/original_1_6.png'), ('CEDAR/1/original_1_12.png', 'CEDAR/1/original_1_7.png'), ('CEDAR/1/original_1_12.png', 'CEDAR/1/original_1_8.png'), ('CEDAR/1/original_1_12.png', 'CEDAR/1/original_1_9.png'), ('CEDAR/1/original_1_13.png', 'CEDAR/1/original_1_14.png'), ('CEDAR/1/original_1_13.png', 'CEDAR/1/original_1_15.png'), ('CEDAR/1/original_1_13.png', 'CEDAR/1/original_1_16.png'), ('CEDAR/1/original_1_13.png', 'CEDAR/1/original_1_17.png'), ('CEDAR/1/original_1_13.png', 'CEDAR/1/original_1_18.png'), ('CEDAR/1/original_1_13.png', 'CEDAR/1/original_1_19.png'), ('CEDAR/1/original_1_13.png', 'CEDAR/1/original_1_2.png'), ('CEDAR/1/original_1_13.png', 'CEDAR/1/original_1_20.png'), ('CEDAR/1/original_1_13.png', 'CEDAR/1/original_1_21.png'), ('CEDAR/1/original_1_13.png', 'CEDAR/1/original_1_22.png'), ('CEDAR/1/original_1_13.png', 'CEDAR/1/original_1_23.png'), ('CEDAR/1/original_1_13.png', 'CEDAR/1/original_1_24.png'), ('CEDAR/1/original_1_13.png', 'CEDAR/1/original_1_3.png'), ('CEDAR/1/original_1_13.png', 'CEDAR/1/original_1_4.png'), ('CEDAR/1/original_1_13.png', 'CEDAR/1/original_1_5.png'), ('CEDAR/1/original_1_13.png', 'CEDAR/1/original_1_6.png'), ('CEDAR/1/original_1_13.png', 'CEDAR/1/original_1_7.png'), ('CEDAR/1/original_1_13.png', 'CEDAR/1/original_1_8.png'), ('CEDAR/1/original_1_13.png', 'CEDAR/1/original_1_9.png'), ('CEDAR/1/original_1_14.png', 'CEDAR/1/original_1_15.png'), ('CEDAR/1/original_1_14.png', 'CEDAR/1/original_1_16.png'), ('CEDAR/1/original_1_14.png', 'CEDAR/1/original_1_17.png'), ('CEDAR/1/original_1_14.png', 'CEDAR/1/original_1_18.png'), ('CEDAR/1/original_1_14.png', 'CEDAR/1/original_1_19.png'), ('CEDAR/1/original_1_14.png', 'CEDAR/1/original_1_2.png'), ('CEDAR/1/original_1_14.png', 'CEDAR/1/original_1_20.png'), ('CEDAR/1/original_1_14.png', 'CEDAR/1/original_1_21.png'), ('CEDAR/1/original_1_14.png', 'CEDAR/1/original_1_22.png'), ('CEDAR/1/original_1_14.png', 'CEDAR/1/original_1_23.png'), ('CEDAR/1/original_1_14.png', 'CEDAR/1/original_1_24.png'), ('CEDAR/1/original_1_14.png', 'CEDAR/1/original_1_3.png'), ('CEDAR/1/original_1_14.png', 'CEDAR/1/original_1_4.png'), ('CEDAR/1/original_1_14.png', 'CEDAR/1/original_1_5.png'), ('CEDAR/1/original_1_14.png', 'CEDAR/1/original_1_6.png'), ('CEDAR/1/original_1_14.png', 'CEDAR/1/original_1_7.png'), ('CEDAR/1/original_1_14.png', 'CEDAR/1/original_1_8.png'), ('CEDAR/1/original_1_14.png', 'CEDAR/1/original_1_9.png'), ('CEDAR/1/original_1_15.png', 'CEDAR/1/original_1_16.png'), ('CEDAR/1/original_1_15.png', 'CEDAR/1/original_1_17.png'), ('CEDAR/1/original_1_15.png', 'CEDAR/1/original_1_18.png'), ('CEDAR/1/original_1_15.png', 'CEDAR/1/original_1_19.png'), ('CEDAR/1/original_1_15.png', 'CEDAR/1/original_1_2.png'), ('CEDAR/1/original_1_15.png', 'CEDAR/1/original_1_20.png'), ('CEDAR/1/original_1_15.png', 'CEDAR/1/original_1_21.png'), ('CEDAR/1/original_1_15.png', 'CEDAR/1/original_1_22.png'), ('CEDAR/1/original_1_15.png', 'CEDAR/1/original_1_23.png'), ('CEDAR/1/original_1_15.png', 'CEDAR/1/original_1_24.png'), ('CEDAR/1/original_1_15.png', 'CEDAR/1/original_1_3.png'), ('CEDAR/1/original_1_15.png', 'CEDAR/1/original_1_4.png'), ('CEDAR/1/original_1_15.png', 'CEDAR/1/original_1_5.png'), ('CEDAR/1/original_1_15.png', 'CEDAR/1/original_1_6.png'), ('CEDAR/1/original_1_15.png', 'CEDAR/1/original_1_7.png'), ('CEDAR/1/original_1_15.png', 'CEDAR/1/original_1_8.png'), ('CEDAR/1/original_1_15.png', 'CEDAR/1/original_1_9.png'), ('CEDAR/1/original_1_16.png', 'CEDAR/1/original_1_17.png'), ('CEDAR/1/original_1_16.png', 'CEDAR/1/original_1_18.png'), ('CEDAR/1/original_1_16.png', 'CEDAR/1/original_1_19.png'), ('CEDAR/1/original_1_16.png', 'CEDAR/1/original_1_2.png'), ('CEDAR/1/original_1_16.png', 'CEDAR/1/original_1_20.png'), ('CEDAR/1/original_1_16.png', 'CEDAR/1/original_1_21.png'), ('CEDAR/1/original_1_16.png', 'CEDAR/1/original_1_22.png'), ('CEDAR/1/original_1_16.png', 'CEDAR/1/original_1_23.png'), ('CEDAR/1/original_1_16.png', 'CEDAR/1/original_1_24.png'), ('CEDAR/1/original_1_16.png', 'CEDAR/1/original_1_3.png'), ('CEDAR/1/original_1_16.png', 'CEDAR/1/original_1_4.png'), ('CEDAR/1/original_1_16.png', 'CEDAR/1/original_1_5.png'), ('CEDAR/1/original_1_16.png', 'CEDAR/1/original_1_6.png'), ('CEDAR/1/original_1_16.png', 'CEDAR/1/original_1_7.png'), ('CEDAR/1/original_1_16.png', 'CEDAR/1/original_1_8.png'), ('CEDAR/1/original_1_16.png', 'CEDAR/1/original_1_9.png'), ('CEDAR/1/original_1_17.png', 'CEDAR/1/original_1_18.png'), ('CEDAR/1/original_1_17.png', 'CEDAR/1/original_1_19.png'), ('CEDAR/1/original_1_17.png', 'CEDAR/1/original_1_2.png'), ('CEDAR/1/original_1_17.png', 'CEDAR/1/original_1_20.png'), ('CEDAR/1/original_1_17.png', 'CEDAR/1/original_1_21.png'), ('CEDAR/1/original_1_17.png', 'CEDAR/1/original_1_22.png'), ('CEDAR/1/original_1_17.png', 'CEDAR/1/original_1_23.png'), ('CEDAR/1/original_1_17.png', 'CEDAR/1/original_1_24.png'), ('CEDAR/1/original_1_17.png', 'CEDAR/1/original_1_3.png'), ('CEDAR/1/original_1_17.png', 'CEDAR/1/original_1_4.png'), ('CEDAR/1/original_1_17.png', 'CEDAR/1/original_1_5.png'), ('CEDAR/1/original_1_17.png', 'CEDAR/1/original_1_6.png'), ('CEDAR/1/original_1_17.png', 'CEDAR/1/original_1_7.png'), ('CEDAR/1/original_1_17.png', 'CEDAR/1/original_1_8.png'), ('CEDAR/1/original_1_17.png', 'CEDAR/1/original_1_9.png'), ('CEDAR/1/original_1_18.png', 'CEDAR/1/original_1_19.png'), ('CEDAR/1/original_1_18.png', 'CEDAR/1/original_1_2.png'), ('CEDAR/1/original_1_18.png', 'CEDAR/1/original_1_20.png'), ('CEDAR/1/original_1_18.png', 'CEDAR/1/original_1_21.png'), ('CEDAR/1/original_1_18.png', 'CEDAR/1/original_1_22.png'), ('CEDAR/1/original_1_18.png', 'CEDAR/1/original_1_23.png'), ('CEDAR/1/original_1_18.png', 'CEDAR/1/original_1_24.png'), ('CEDAR/1/original_1_18.png', 'CEDAR/1/original_1_3.png'), ('CEDAR/1/original_1_18.png', 'CEDAR/1/original_1_4.png'), ('CEDAR/1/original_1_18.png', 'CEDAR/1/original_1_5.png'), ('CEDAR/1/original_1_18.png', 'CEDAR/1/original_1_6.png'), ('CEDAR/1/original_1_18.png', 'CEDAR/1/original_1_7.png'), ('CEDAR/1/original_1_18.png', 'CEDAR/1/original_1_8.png'), ('CEDAR/1/original_1_18.png', 'CEDAR/1/original_1_9.png'), ('CEDAR/1/original_1_19.png', 'CEDAR/1/original_1_2.png'), ('CEDAR/1/original_1_19.png', 'CEDAR/1/original_1_20.png'), ('CEDAR/1/original_1_19.png', 'CEDAR/1/original_1_21.png'), ('CEDAR/1/original_1_19.png', 'CEDAR/1/original_1_22.png'), ('CEDAR/1/original_1_19.png', 'CEDAR/1/original_1_23.png'), ('CEDAR/1/original_1_19.png', 'CEDAR/1/original_1_24.png'), ('CEDAR/1/original_1_19.png', 'CEDAR/1/original_1_3.png'), ('CEDAR/1/original_1_19.png', 'CEDAR/1/original_1_4.png'), ('CEDAR/1/original_1_19.png', 'CEDAR/1/original_1_5.png'), ('CEDAR/1/original_1_19.png', 'CEDAR/1/original_1_6.png'), ('CEDAR/1/original_1_19.png', 'CEDAR/1/original_1_7.png'), ('CEDAR/1/original_1_19.png', 'CEDAR/1/original_1_8.png'), ('CEDAR/1/original_1_19.png', 'CEDAR/1/original_1_9.png'), ('CEDAR/1/original_1_2.png', 'CEDAR/1/original_1_20.png'), ('CEDAR/1/original_1_2.png', 'CEDAR/1/original_1_21.png'), ('CEDAR/1/original_1_2.png', 'CEDAR/1/original_1_22.png'), ('CEDAR/1/original_1_2.png', 'CEDAR/1/original_1_23.png'), ('CEDAR/1/original_1_2.png', 'CEDAR/1/original_1_24.png'), ('CEDAR/1/original_1_2.png', 'CEDAR/1/original_1_3.png'), ('CEDAR/1/original_1_2.png', 'CEDAR/1/original_1_4.png'), ('CEDAR/1/original_1_2.png', 'CEDAR/1/original_1_5.png'), ('CEDAR/1/original_1_2.png', 'CEDAR/1/original_1_6.png'), ('CEDAR/1/original_1_2.png', 'CEDAR/1/original_1_7.png'), ('CEDAR/1/original_1_2.png', 'CEDAR/1/original_1_8.png'), ('CEDAR/1/original_1_2.png', 'CEDAR/1/original_1_9.png'), ('CEDAR/1/original_1_20.png', 'CEDAR/1/original_1_21.png'), ('CEDAR/1/original_1_20.png', 'CEDAR/1/original_1_22.png'), ('CEDAR/1/original_1_20.png', 'CEDAR/1/original_1_23.png'), ('CEDAR/1/original_1_20.png', 'CEDAR/1/original_1_24.png'), ('CEDAR/1/original_1_20.png', 'CEDAR/1/original_1_3.png'), ('CEDAR/1/original_1_20.png', 'CEDAR/1/original_1_4.png'), ('CEDAR/1/original_1_20.png', 'CEDAR/1/original_1_5.png'), ('CEDAR/1/original_1_20.png', 'CEDAR/1/original_1_6.png'), ('CEDAR/1/original_1_20.png', 'CEDAR/1/original_1_7.png'), ('CEDAR/1/original_1_20.png', 'CEDAR/1/original_1_8.png'), ('CEDAR/1/original_1_20.png', 'CEDAR/1/original_1_9.png'), ('CEDAR/1/original_1_21.png', 'CEDAR/1/original_1_22.png'), ('CEDAR/1/original_1_21.png', 'CEDAR/1/original_1_23.png'), ('CEDAR/1/original_1_21.png', 'CEDAR/1/original_1_24.png'), ('CEDAR/1/original_1_21.png', 'CEDAR/1/original_1_3.png'), ('CEDAR/1/original_1_21.png', 'CEDAR/1/original_1_4.png'), ('CEDAR/1/original_1_21.png', 'CEDAR/1/original_1_5.png'), ('CEDAR/1/original_1_21.png', 'CEDAR/1/original_1_6.png'), ('CEDAR/1/original_1_21.png', 'CEDAR/1/original_1_7.png'), ('CEDAR/1/original_1_21.png', 'CEDAR/1/original_1_8.png'), ('CEDAR/1/original_1_21.png', 'CEDAR/1/original_1_9.png'), ('CEDAR/1/original_1_22.png', 'CEDAR/1/original_1_23.png'), ('CEDAR/1/original_1_22.png', 'CEDAR/1/original_1_24.png'), ('CEDAR/1/original_1_22.png', 'CEDAR/1/original_1_3.png'), ('CEDAR/1/original_1_22.png', 'CEDAR/1/original_1_4.png'), ('CEDAR/1/original_1_22.png', 'CEDAR/1/original_1_5.png'), ('CEDAR/1/original_1_22.png', 'CEDAR/1/original_1_6.png'), ('CEDAR/1/original_1_22.png', 'CEDAR/1/original_1_7.png'), ('CEDAR/1/original_1_22.png', 'CEDAR/1/original_1_8.png'), ('CEDAR/1/original_1_22.png', 'CEDAR/1/original_1_9.png'), ('CEDAR/1/original_1_23.png', 'CEDAR/1/original_1_24.png'), ('CEDAR/1/original_1_23.png', 'CEDAR/1/original_1_3.png'), ('CEDAR/1/original_1_23.png', 'CEDAR/1/original_1_4.png'), ('CEDAR/1/original_1_23.png', 'CEDAR/1/original_1_5.png'), ('CEDAR/1/original_1_23.png', 'CEDAR/1/original_1_6.png'), ('CEDAR/1/original_1_23.png', 'CEDAR/1/original_1_7.png'), ('CEDAR/1/original_1_23.png', 'CEDAR/1/original_1_8.png'), ('CEDAR/1/original_1_23.png', 'CEDAR/1/original_1_9.png'), ('CEDAR/1/original_1_24.png', 'CEDAR/1/original_1_3.png'), ('CEDAR/1/original_1_24.png', 'CEDAR/1/original_1_4.png'), ('CEDAR/1/original_1_24.png', 'CEDAR/1/original_1_5.png'), ('CEDAR/1/original_1_24.png', 'CEDAR/1/original_1_6.png'), ('CEDAR/1/original_1_24.png', 'CEDAR/1/original_1_7.png'), ('CEDAR/1/original_1_24.png', 'CEDAR/1/original_1_8.png'), ('CEDAR/1/original_1_24.png', 'CEDAR/1/original_1_9.png'), ('CEDAR/1/original_1_3.png', 'CEDAR/1/original_1_4.png'), ('CEDAR/1/original_1_3.png', 'CEDAR/1/original_1_5.png'), ('CEDAR/1/original_1_3.png', 'CEDAR/1/original_1_6.png'), ('CEDAR/1/original_1_3.png', 'CEDAR/1/original_1_7.png'), ('CEDAR/1/original_1_3.png', 'CEDAR/1/original_1_8.png'), ('CEDAR/1/original_1_3.png', 'CEDAR/1/original_1_9.png'), ('CEDAR/1/original_1_4.png', 'CEDAR/1/original_1_5.png'), ('CEDAR/1/original_1_4.png', 'CEDAR/1/original_1_6.png'), ('CEDAR/1/original_1_4.png', 'CEDAR/1/original_1_7.png'), ('CEDAR/1/original_1_4.png', 'CEDAR/1/original_1_8.png'), ('CEDAR/1/original_1_4.png', 'CEDAR/1/original_1_9.png'), ('CEDAR/1/original_1_5.png', 'CEDAR/1/original_1_6.png'), ('CEDAR/1/original_1_5.png', 'CEDAR/1/original_1_7.png'), ('CEDAR/1/original_1_5.png', 'CEDAR/1/original_1_8.png'), ('CEDAR/1/original_1_5.png', 'CEDAR/1/original_1_9.png'), ('CEDAR/1/original_1_6.png', 'CEDAR/1/original_1_7.png'), ('CEDAR/1/original_1_6.png', 'CEDAR/1/original_1_8.png'), ('CEDAR/1/original_1_6.png', 'CEDAR/1/original_1_9.png'), ('CEDAR/1/original_1_7.png', 'CEDAR/1/original_1_8.png'), ('CEDAR/1/original_1_7.png', 'CEDAR/1/original_1_9.png'), ('CEDAR/1/original_1_8.png', 'CEDAR/1/original_1_9.png')]\n"
     ]
    }
   ],
   "source": [
    "from itertools import combinations\n",
    "\n",
    "combinations_list = list(combinations(files, 2))\n",
    "\n",
    "# Print each combination\n",
    "print(combinations_list)"
   ]
  },
  {
   "cell_type": "code",
   "execution_count": 42,
   "metadata": {},
   "outputs": [],
   "source": [
    "#one value of combination\n",
    "x,y=combinations_list[0]"
   ]
  },
  {
   "cell_type": "code",
   "execution_count": 43,
   "metadata": {},
   "outputs": [
    {
     "data": {
      "text/plain": [
       "False"
      ]
     },
     "execution_count": 43,
     "metadata": {},
     "output_type": "execute_result"
    }
   ],
   "source": [
    "x.split(\"/\")[-1][0] ==\"o\""
   ]
  },
  {
   "cell_type": "code",
   "execution_count": 44,
   "metadata": {},
   "outputs": [],
   "source": [
    "label1=0 if \"f\" ==  x.split(\"/\")[-1][0] else 1\n",
    "label2=0 if \"f\" ==  y.split(\"/\")[-1][0] else 1\n",
    "label=label1*label2"
   ]
  },
  {
   "cell_type": "code",
   "execution_count": 45,
   "metadata": {},
   "outputs": [
    {
     "data": {
      "text/plain": [
       "0"
      ]
     },
     "execution_count": 45,
     "metadata": {},
     "output_type": "execute_result"
    }
   ],
   "source": [
    "label1"
   ]
  },
  {
   "cell_type": "code",
   "execution_count": 46,
   "metadata": {},
   "outputs": [
    {
     "data": {
      "text/plain": [
       "('CEDAR/1/forgeries_1_1.png', 'CEDAR/1/forgeries_1_10.png')"
      ]
     },
     "execution_count": 46,
     "metadata": {},
     "output_type": "execute_result"
    }
   ],
   "source": [
    "x,y"
   ]
  },
  {
   "cell_type": "code",
   "execution_count": 47,
   "metadata": {},
   "outputs": [
    {
     "data": {
      "text/plain": [
       "0"
      ]
     },
     "execution_count": 47,
     "metadata": {},
     "output_type": "execute_result"
    }
   ],
   "source": [
    "label"
   ]
  },
  {
   "cell_type": "markdown",
   "metadata": {},
   "source": [
    "# general function"
   ]
  },
  {
   "cell_type": "code",
   "execution_count": 48,
   "metadata": {},
   "outputs": [],
   "source": [
    "import pandas as pd\n",
    "import glob\n",
    "from itertools import combinations\n",
    "\n",
    "def cedar_files_to_csv(n, file_type):\n",
    "    image1 = []\n",
    "    image2 = []\n",
    "    label = []\n",
    "    labels1=[]\n",
    "    labels2=[]\n",
    "    \n",
    "    for i in range(1, n+1):\n",
    "        files = glob.glob(f'CEDAR/{i}/*.png')\n",
    "        pairs = list(combinations(files, 2))\n",
    "        \n",
    "        for combo in pairs:\n",
    "            # print(combo[0].split(\"\\\\\")[-1][0])\n",
    "            label1 = 0 if \"f\" ==  combo[0].split(\"/\")[-1][0]  else 1\n",
    "            label2 = 0 if \"f\" == combo[1].split(\"/\")[-1][0]  else 1\n",
    "            labels1.append(label1)\n",
    "            labels2.append(label2)\n",
    "            label.append(label1 * label2)\n",
    "            image1.append(combo[0])\n",
    "            image2.append(combo[1])\n",
    "    \n",
    "    # Create the DataFrame\n",
    "    df = pd.DataFrame(list(zip(image1, image2, labels1,labels2,label)),  columns=['Testing_Signature', 'Original_Signature','Label1','Label2', 'Ouput'])\n",
    "    print(df.shape)\n",
    "    print(df.Label2.value_counts())\n",
    "    df=df[df.Label2!=0]\n",
    "    print(df.shape)\n",
    "    print(df.Label2.value_counts())\n",
    "    df.to_csv(\"data/CEDAR_extracted.csv\",index=False)"
   ]
  },
  {
   "cell_type": "code",
   "execution_count": 49,
   "metadata": {},
   "outputs": [
    {
     "name": "stdout",
     "output_type": "stream",
     "text": [
      "(62040, 5)\n",
      "Label2\n",
      "1    46860\n",
      "0    15180\n",
      "Name: count, dtype: int64\n",
      "(46860, 5)\n",
      "Label2\n",
      "1    46860\n",
      "Name: count, dtype: int64\n"
     ]
    }
   ],
   "source": [
    "cedar_files_to_csv(55,\"png\")"
   ]
  },
  {
   "cell_type": "code",
   "execution_count": 50,
   "metadata": {},
   "outputs": [],
   "source": [
    "df1=pd.read_csv(\"data/CEDAR_extracted.csv\")"
   ]
  },
  {
   "cell_type": "code",
   "execution_count": 51,
   "metadata": {},
   "outputs": [
    {
     "data": {
      "text/plain": [
       "(46860, 5)"
      ]
     },
     "execution_count": 51,
     "metadata": {},
     "output_type": "execute_result"
    }
   ],
   "source": [
    "df1.shape"
   ]
  },
  {
   "cell_type": "code",
   "execution_count": 52,
   "metadata": {},
   "outputs": [
    {
     "data": {
      "text/plain": [
       "(46860, 5)"
      ]
     },
     "execution_count": 52,
     "metadata": {},
     "output_type": "execute_result"
    }
   ],
   "source": [
    "df1.shape"
   ]
  },
  {
   "cell_type": "code",
   "execution_count": 53,
   "metadata": {},
   "outputs": [
    {
     "data": {
      "text/html": [
       "<div>\n",
       "<style scoped>\n",
       "    .dataframe tbody tr th:only-of-type {\n",
       "        vertical-align: middle;\n",
       "    }\n",
       "\n",
       "    .dataframe tbody tr th {\n",
       "        vertical-align: top;\n",
       "    }\n",
       "\n",
       "    .dataframe thead th {\n",
       "        text-align: right;\n",
       "    }\n",
       "</style>\n",
       "<table border=\"1\" class=\"dataframe\">\n",
       "  <thead>\n",
       "    <tr style=\"text-align: right;\">\n",
       "      <th></th>\n",
       "      <th>Testing_Signature</th>\n",
       "      <th>Original_Signature</th>\n",
       "      <th>Label1</th>\n",
       "      <th>Label2</th>\n",
       "      <th>Ouput</th>\n",
       "    </tr>\n",
       "  </thead>\n",
       "  <tbody>\n",
       "    <tr>\n",
       "      <th>0</th>\n",
       "      <td>CEDAR/1/forgeries_1_1.png</td>\n",
       "      <td>CEDAR/1/original_1_1.png</td>\n",
       "      <td>0</td>\n",
       "      <td>1</td>\n",
       "      <td>0</td>\n",
       "    </tr>\n",
       "    <tr>\n",
       "      <th>1</th>\n",
       "      <td>CEDAR/1/forgeries_1_1.png</td>\n",
       "      <td>CEDAR/1/original_1_10.png</td>\n",
       "      <td>0</td>\n",
       "      <td>1</td>\n",
       "      <td>0</td>\n",
       "    </tr>\n",
       "    <tr>\n",
       "      <th>2</th>\n",
       "      <td>CEDAR/1/forgeries_1_1.png</td>\n",
       "      <td>CEDAR/1/original_1_11.png</td>\n",
       "      <td>0</td>\n",
       "      <td>1</td>\n",
       "      <td>0</td>\n",
       "    </tr>\n",
       "    <tr>\n",
       "      <th>3</th>\n",
       "      <td>CEDAR/1/forgeries_1_1.png</td>\n",
       "      <td>CEDAR/1/original_1_12.png</td>\n",
       "      <td>0</td>\n",
       "      <td>1</td>\n",
       "      <td>0</td>\n",
       "    </tr>\n",
       "    <tr>\n",
       "      <th>4</th>\n",
       "      <td>CEDAR/1/forgeries_1_1.png</td>\n",
       "      <td>CEDAR/1/original_1_13.png</td>\n",
       "      <td>0</td>\n",
       "      <td>1</td>\n",
       "      <td>0</td>\n",
       "    </tr>\n",
       "  </tbody>\n",
       "</table>\n",
       "</div>"
      ],
      "text/plain": [
       "           Testing_Signature         Original_Signature  Label1  Label2  Ouput\n",
       "0  CEDAR/1/forgeries_1_1.png   CEDAR/1/original_1_1.png       0       1      0\n",
       "1  CEDAR/1/forgeries_1_1.png  CEDAR/1/original_1_10.png       0       1      0\n",
       "2  CEDAR/1/forgeries_1_1.png  CEDAR/1/original_1_11.png       0       1      0\n",
       "3  CEDAR/1/forgeries_1_1.png  CEDAR/1/original_1_12.png       0       1      0\n",
       "4  CEDAR/1/forgeries_1_1.png  CEDAR/1/original_1_13.png       0       1      0"
      ]
     },
     "execution_count": 53,
     "metadata": {},
     "output_type": "execute_result"
    }
   ],
   "source": [
    "df1.head()"
   ]
  },
  {
   "cell_type": "code",
   "execution_count": 54,
   "metadata": {},
   "outputs": [],
   "source": [
    "from sklearn.model_selection import train_test_split\n",
    "#split the df in train, val, test in 80:10:10 and save it as csv files\n",
    "X_train, X_test, y_train, y_test = train_test_split(df1[['Testing_Signature', 'Original_Signature']], df1['Ouput'], test_size=0.2, random_state=42,\n",
    "                                                    shuffle=True, stratify=df1['Ouput'])\n",
    "X_train, X_val, y_train, y_val = train_test_split(df1[['Testing_Signature', 'Original_Signature']], df1['Ouput'], test_size=0.25, random_state=42,\n",
    "                                                    shuffle=True, stratify=df1['Ouput'])  #0.25*0.8=0.2\n",
    "train=pd.DataFrame(list(zip(X_train['Testing_Signature'],X_train['Original_Signature'],y_train)),  columns=['Testing_Signature', 'Original_Signature', 'Ouput'])\n",
    "val=pd.DataFrame(list(zip(X_val['Testing_Signature'],X_val['Original_Signature'],y_val)),  columns=['Testing_Signature', 'Original_Signature', 'Ouput'])\n",
    "test=pd.DataFrame(list(zip(X_test['Testing_Signature'],X_test['Original_Signature'],y_test)),  columns=['Testing_Signature', 'Original_Signature', 'Ouput'])\n",
    "\n"
   ]
  },
  {
   "cell_type": "code",
   "execution_count": 55,
   "metadata": {},
   "outputs": [
    {
     "data": {
      "text/plain": [
       "Ouput\n",
       "0    23760\n",
       "1    11385\n",
       "Name: count, dtype: int64"
      ]
     },
     "execution_count": 55,
     "metadata": {},
     "output_type": "execute_result"
    }
   ],
   "source": [
    "train['Ouput'].value_counts()"
   ]
  },
  {
   "cell_type": "code",
   "execution_count": 56,
   "metadata": {},
   "outputs": [
    {
     "data": {
      "text/plain": [
       "Ouput\n",
       "0    7920\n",
       "1    3795\n",
       "Name: count, dtype: int64"
      ]
     },
     "execution_count": 56,
     "metadata": {},
     "output_type": "execute_result"
    }
   ],
   "source": [
    "val['Ouput'].value_counts()"
   ]
  },
  {
   "cell_type": "code",
   "execution_count": 57,
   "metadata": {},
   "outputs": [
    {
     "data": {
      "text/plain": [
       "Ouput\n",
       "0    6336\n",
       "1    3036\n",
       "Name: count, dtype: int64"
      ]
     },
     "execution_count": 57,
     "metadata": {},
     "output_type": "execute_result"
    }
   ],
   "source": [
    "test['Ouput'].value_counts()"
   ]
  },
  {
   "cell_type": "code",
   "execution_count": 58,
   "metadata": {},
   "outputs": [],
   "source": [
    "train.to_csv(\"data/CEDAR_train.csv\",index=False)\n",
    "val.to_csv(\"data/CEDAR_val.csv\",index=False)\n",
    "test.to_csv(\"data/CEDAR_test.csv\",index=False)"
   ]
  },
  {
   "cell_type": "code",
   "execution_count": null,
   "metadata": {},
   "outputs": [],
   "source": []
  }
 ],
 "metadata": {
  "kernelspec": {
   "display_name": "Python 3",
   "language": "python",
   "name": "python3"
  },
  "language_info": {
   "codemirror_mode": {
    "name": "ipython",
    "version": 3
   },
   "file_extension": ".py",
   "mimetype": "text/x-python",
   "name": "python",
   "nbconvert_exporter": "python",
   "pygments_lexer": "ipython3",
   "version": "3.10.10"
  }
 },
 "nbformat": 4,
 "nbformat_minor": 2
}
